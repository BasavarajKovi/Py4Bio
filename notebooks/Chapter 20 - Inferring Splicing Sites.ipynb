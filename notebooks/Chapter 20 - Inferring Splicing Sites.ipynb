{
 "cells": [
  {
   "cell_type": "markdown",
   "metadata": {
    "collapsed": true
   },
   "source": [
    "Python for Bioinformatics\n",
    "-----------------------------\n",
    "\n",
    "![title](https://s3.amazonaws.com/py4bio/tapabiosmall.png)\n",
    "\n",
    "This Jupyter notebook is intented to be used alongside the book [Python for Bioinformatics](http://py3.us/)\n",
    "\n"
   ]
  },
  {
   "cell_type": "markdown",
   "metadata": {},
   "source": [
    "Chapter 20: Inferring Splicing Sites\n",
    "-----------------------------"
   ]
  },
  {
   "cell_type": "markdown",
   "metadata": {},
   "source": [
    "**Note:** Before opening the file, this file should be accesible from this Jupyter notebook. In order to do so, the following commands will download these files from Github and extract them into a directory called samples."
   ]
  },
  {
   "cell_type": "code",
   "execution_count": 2,
   "metadata": {
    "collapsed": false,
    "scrolled": true
   },
   "outputs": [
    {
     "name": "stdout",
     "output_type": "stream",
     "text": [
      "  % Total    % Received % Xferd  Average Speed   Time    Time     Time  Current\n",
      "                                 Dload  Upload   Total   Spent    Left  Speed\n",
      "100 16.5M  100 16.5M    0     0  22.6M      0 --:--:-- --:--:-- --:--:-- 22.6M\n",
      "mkdir: cannot create directory 'samples': File exists\n",
      "BLAST_output.xml\n",
      "TAIR7_Transcripts_by_map_position.gz\n",
      "pMOSBlue.txt\n",
      "fishbacteria.csv\n",
      "UniVec_Core.nsq\n",
      "t3beta.fasta\n",
      "PythonU.db\n",
      "input4align.dnd\n",
      "pdb1apk.ent.gz\n",
      "readme.txt\n",
      "contig1.ace\n",
      "example.aln\n",
      "hsc1.fasta\n",
      "bioinfo/seqs/15721870.fasta\n",
      "primers.txt\n",
      "bioinfo/seqs/4586830.fasta\n",
      "bioinfo/seqs/7638455.fasta\n",
      "GSM188012.CEL\n",
      "3seqs.fas\n",
      "sampleX.fas\n",
      "sampleXblast.xml\n",
      "B1.csv\n",
      "phd1\n",
      "conglycinin.phy\n",
      "bioinfo/seqs/218744616.fasta\n",
      "spfile.txt\n",
      "bioinfo/seqs/513419.fasta\n",
      "bioinfo/seqs/513710.fasta\n",
      "prot.fas\n",
      "cas9align.fasta\n",
      "seqA.fas\n",
      "bioinfo/seqs/\n",
      "bioinfo/\n",
      "pdbaa\n",
      "other.xml\n",
      "vectorssmall.fasta\n",
      "t3.fasta\n",
      "a19.gp\n",
      "data.csv\n",
      "input4align.fasta\n",
      "B1IXL9.txt\n",
      "fasta22.fas\n",
      "bioinfo/seqs/7415878.fasta\n",
      "bioinfo/seqs/513718.fasta\n",
      "bioinfo/seqs/513719.fasta\n",
      "bioinfo/seqs/6598312.fasta\n",
      "UniVec_Core.nin\n",
      "Q5R5X8.fas\n",
      "bioinfo/seqs/513717.fasta\n",
      "BcrA.gp\n",
      "bioinfo/seqs/2623545.fasta\n",
      "bioinfo/seqs/63108399.fasta\n",
      "conglycinin.dnd\n",
      "NC2033.txt\n",
      "fishdata.csv\n",
      "uniprotrecord.xml\n",
      "BLAST_output.html\n",
      "Q9JJE1.xml\n",
      "test3.csv\n",
      "UniVec_Core.nhr\n",
      "sampledata.xlsx\n",
      "UniVec_Core\n",
      "NC_006581.gb\n",
      "conglycinin.multiple.phy\n",
      "conglycinin.fasta\n"
     ]
    }
   ],
   "source": [
    "!curl https://raw.githubusercontent.com/Serulab/Py4Bio/master/samples/samples.tar.bz2 -o samples.tar.bz2\n",
    "!mkdir samples\n",
    "!tar xvfj samples.tar.bz2 -C samples"
   ]
  },
  {
   "cell_type": "code",
   "execution_count": 3,
   "metadata": {
    "collapsed": false
   },
   "outputs": [
    {
     "name": "stdout",
     "output_type": "stream",
     "text": [
      "Fetching package metadata .........\n",
      "Solving package specifications: .\n",
      "\n",
      "# All requested packages already installed.\n",
      "# packages in environment at /home/nbcommon/anaconda3_431:\n",
      "#\n",
      "biopython                 1.68                np111py36_0  \n"
     ]
    }
   ],
   "source": [
    "!conda install biopython -y"
   ]
  },
  {
   "cell_type": "markdown",
   "metadata": {},
   "source": [
    "**Listing 20.1:** makedb.py: Convert data for entering into an SQLite database"
   ]
  },
  {
   "cell_type": "code",
   "execution_count": null,
   "metadata": {
    "collapsed": true
   },
   "outputs": [],
   "source": [
    "import sqlite3\n",
    "from Bio import SeqIO\n",
    "\n",
    "SEQ_FILE = open('samples/TAIR10_seq_20101214_updated')\n",
    "CDS_FILE = open('samples/TAIR10_cds_20101214_updated')\n",
    "AT_DB_FILE = 'AT.db'\n",
    "\n",
    "at_d = {}\n",
    "# Get all sequences from TAIR sequences file.\n",
    "for record in SeqIO.parse(SEQ_FILE, 'fasta'):\n",
    "    sid = record.id\n",
    "    seq = str(record.seq)\n",
    "    at_d[sid] = [seq]\n",
    "# Get all sequences from TAIR CDS file.\n",
    "for record in SeqIO.parse(CDS_FILE, 'fasta'):\n",
    "    sid = record.id\n",
    "    seq = str(record.seq)\n",
    "    at_d[sid].append(seq)\n",
    "# Write to a CSV file only the entries of the dictionary that\n",
    "# has data from both sources\n",
    "conn = sqlite3.connect(AT_DB_FILE)\n",
    "c = conn.cursor()\n",
    "c.execute('create table seq(id, cds, full_seq)')\n",
    "for seq_id in at_d:\n",
    "    if len(at_d[seq_id])==2:\n",
    "        # Write in this order: ID, CDS, FULL_SEQ.\n",
    "        c.execute('INSERT INTO seq VALUES (?,?,?)',\n",
    "                 ((seq_id, at_d[seq_id][1], at_d[seq_id][0])))\n",
    "conn.commit()\n",
    "conn.close()"
   ]
  },
  {
   "cell_type": "markdown",
   "metadata": {},
   "source": [
    "**Listing 20.2:** estimateintrons.py: Estimate introns"
   ]
  },
  {
   "cell_type": "code",
   "execution_count": 5,
   "metadata": {
    "collapsed": false
   },
   "outputs": [
    {
     "name": "stderr",
     "output_type": "stream",
     "text": [
      "usage: __main__.py [-h] input_file\n",
      "__main__.py: error: unrecognized arguments: -f\n"
     ]
    },
    {
     "ename": "SystemExit",
     "evalue": "2",
     "output_type": "error",
     "traceback": [
      "An exception has occurred, use %tb to see the full traceback.\n",
      "\u001b[0;31mSystemExit\u001b[0m\u001b[0;31m:\u001b[0m 2\n"
     ]
    },
    {
     "name": "stderr",
     "output_type": "stream",
     "text": [
      "/home/nbuser/anaconda3_431/lib/python3.6/site-packages/IPython/core/interactiveshell.py:2870: UserWarning: To exit: use 'exit', 'quit', or Ctrl-D.\n",
      "  warn(\"To exit: use 'exit', 'quit', or Ctrl-D.\", stacklevel=1)\n"
     ]
    }
   ],
   "source": [
    "#!/usr/bin/env python\n",
    "\n",
    "import argparse\n",
    "import os\n",
    "import sqlite3\n",
    "\n",
    "from Bio import SeqIO, SeqRecord, Seq\n",
    "from Bio.Align.Applications import ClustalwCommandline\n",
    "from Bio.Blast import NCBIXML\n",
    "from Bio.Blast.Applications import NcbiblastnCommandline as bn\n",
    "from Bio import AlignIO\n",
    "\n",
    "AT_DB_FILE = 'AT.db'\n",
    "BLAST_EXE = '~/opt/ncbi-blast-2.6.0+/bin/blastn'\n",
    "BLAST_DB = '~/opt/ncbi-blast-2.6.0+/db/TAIR10'\n",
    "CLUSTALW_EXE = '../../clustalw2'\n",
    "\n",
    "def allgaps(seq):\n",
    "    \"\"\"Return a list with tuples containing all gap positions\n",
    "       and length. seq is a string.\"\"\"\n",
    "    gaps = []\n",
    "    indash = False\n",
    "    for i, c in enumerate(seq):\n",
    "        if indash is False and c == '-':\n",
    "            c_ini = i\n",
    "            indash = True\n",
    "            dashn = 0\n",
    "        elif indash is True and c == '-':\n",
    "            dashn += 1\n",
    "        elif indash is True and c != '-':\n",
    "            indash = False\n",
    "            gaps.append((c_ini, dashn+1))\n",
    "    return gaps\n",
    "\n",
    "def iss(user_seq):\n",
    "    \"\"\"Infer Splicing Sites from a FASTA file full of EST\n",
    "    sequences\"\"\"\n",
    "\n",
    "    with open('forblast','w') as forblastfh:\n",
    "        forblastfh.write(str(user_seq.seq))\n",
    "\n",
    "    blastn_cline = bn(cmd=BLAST_EXE, query='forblast',\n",
    "                      db=BLAST_DB, evalue='1e-10', outfmt=5,\n",
    "                      num_descriptions='1',\n",
    "                      num_alignments='1', out='outfile.xml')\n",
    "    blastn_cline()\n",
    "    b_record = NCBIXML.read(open('outfile.xml'))\n",
    "    title = b_record.alignments[0].title\n",
    "    sid = title[title.index(' ')+1 : title.index(' |')]\n",
    "    # Polarity information of returned sequence.\n",
    "    # 1 = normal, -1 = reverse.\n",
    "    frame = b_record.alignments[0].hsps[0].frame[1]\n",
    "    # Run the SQLite query\n",
    "    conn = sqlite3.connect(AT_DB_FILE)\n",
    "    c = conn.cursor()\n",
    "    res_cur = c.execute('SELECT CDS, FULL_SEQ from seq '\n",
    "                        'WHERE ID=?', (sid,))\n",
    "    cds, full_seq = res_cur.fetchone()\n",
    "    if cds=='':\n",
    "        print('There is no matching CDS')\n",
    "        exit()\n",
    "    # Check sequence polarity.\n",
    "    sidcds = '{0}-CDS'.format(sid)\n",
    "    sidseq = '{0}-SEQ'.format(sid)\n",
    "    if frame==1:\n",
    "        seqCDS = SeqRecord.SeqRecord(Seq.Seq(cds),\n",
    "                                     id = sidcds,\n",
    "                                     name = '',\n",
    "                                     description = '')\n",
    "        fullseq = SeqRecord.SeqRecord(Seq.Seq(full_seq),\n",
    "                                      id = sidseq,\n",
    "                                      name='',\n",
    "                                      description='')\n",
    "    else:\n",
    "        seqCDS = SeqRecord.SeqRecord(\n",
    "            Seq.Seq(cds).reverse_complement(),\n",
    "            id = sidcds, name='', description='')\n",
    "        fullseq = SeqRecord.SeqRecord(\n",
    "            Seq.Seq(full_seq).reverse_complement(),\n",
    "            id = sidseq, name = '', description='')\n",
    "    # A tuple with the user sequence and both AT sequences\n",
    "    allseqs = (record, seqCDS, fullseq)\n",
    "    with open('foralig.txt','w') as trifh:\n",
    "        # Write the file with the three sequences\n",
    "        SeqIO.write(allseqs, trifh, 'fasta')\n",
    "    # Do the alignment:\n",
    "    outfilename = '{0}.aln'.format(user_seq.id)\n",
    "    cline = ClustalwCommandline(CLUSTALW_EXE,\n",
    "                                infile = 'foralig.txt',\n",
    "                                outfile = outfilename,\n",
    "                                )\n",
    "    cline()\n",
    "    # Walk over all sequences and look for query sequence\n",
    "    for seq in AlignIO.read(outfilename, 'clustal'):\n",
    "        if user_seq.id in seq.id:\n",
    "            seqstr = str(seq.seq)\n",
    "            gaps = allgaps(seqstr.strip('-'))\n",
    "            break\n",
    "    print('Original sequence: {0}'.format(user_seq.id))\n",
    "    print('\\nBest match in AT CDS: {0}'.format(sid))\n",
    "    acc = 0\n",
    "    for i, gap in enumerate(gaps):\n",
    "        print('Putative intron #{0}: Start at position {1}, '\n",
    "              'length {2}'.format(i+1, gap[0]-acc, gap[1]))\n",
    "        acc += gap[1]\n",
    "    print('\\n{0}'.format(seqstr.strip('-')))\n",
    "    print('\\nAlignment file: {0}\\n'.format(outfilename))\n",
    "\n",
    "description = 'Program to infer intron position based on ' \\\n",
    "    'Arabidopsis Thaliana genome'\n",
    "parser = argparse.ArgumentParser(description=description)\n",
    "ifh = 'Fasta formated file with sequence to search for introns'\n",
    "parser.add_argument('input_file', help=ifh)\n",
    "args = parser.parse_args()\n",
    "seqhandle = open(args.input_file)\n",
    "records = SeqIO.parse(seqhandle, 'fasta')\n",
    "for record in records:\n",
    "    iss(record)"
   ]
  }
 ],
 "metadata": {
  "kernelspec": {
   "display_name": "Python 3.6",
   "language": "python",
   "name": "python36"
  },
  "language_info": {
   "codemirror_mode": {
    "name": "ipython",
    "version": 3
   },
   "file_extension": ".py",
   "mimetype": "text/x-python",
   "name": "python",
   "nbconvert_exporter": "python",
   "pygments_lexer": "ipython3",
   "version": "3.6.0"
  }
 },
 "nbformat": 4,
 "nbformat_minor": 2
}
