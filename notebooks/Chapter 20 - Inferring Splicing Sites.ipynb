{
 "cells": [
  {
   "cell_type": "markdown",
   "metadata": {
    "collapsed": true
   },
   "source": [
    "Python for Bioinformatics\n",
    "-----------------------------\n",
    "\n",
    "![title](https://s3.amazonaws.com/py4bio/tapabiosmall.png)\n",
    "\n",
    "This Jupyter notebook is intented to be used alongside the book [Python for Bioinformatics](http://py3.us/)\n",
    "\n"
   ]
  },
  {
   "cell_type": "markdown",
   "metadata": {},
   "source": [
    "Chapter 20: Inferring Splicing Sites\n",
    "-----------------------------"
   ]
  },
  {
   "cell_type": "markdown",
   "metadata": {},
   "source": [
    "**Note:** These scripts requires external files to be accesible. In order to do so, the following commands will download these files from Github and from Amazon. "
   ]
  },
  {
   "cell_type": "code",
   "execution_count": 18,
   "metadata": {
    "collapsed": false,
    "scrolled": true
   },
   "outputs": [
    {
     "name": "stdout",
     "output_type": "stream",
     "text": [
      "  % Total    % Received % Xferd  Average Speed   Time    Time     Time  Current\n",
      "                                 Dload  Upload   Total   Spent    Left  Speed\n",
      "100 39.8M  100 39.8M    0     0  24.5M      0  0:00:01  0:00:01 --:--:-- 24.5M\n",
      "mkdir: cannot create directory 'samples': File exists\n",
      "TAIR10_cds_20101214_updated\n",
      "TAIR10_seq_20101214_updated\n",
      "  % Total    % Received % Xferd  Average Speed   Time    Time     Time  Current\n",
      "                                 Dload  Upload   Total   Spent    Left  Speed\n",
      "100 82.1M  100 82.1M    0     0  36.0M      0  0:00:02  0:00:02 --:--:-- 36.1M\n",
      "ncbi-blast-2.6.0+/db/UniVec_Core.nhr\n",
      "ncbi-blast-2.6.0+/ncbi_package_info\n",
      "ncbi-blast-2.6.0+/db/UniVec_Core.nin\n",
      "ncbi-blast-2.6.0+/db/\n",
      "ncbi-blast-2.6.0+/bin/\n",
      "ncbi-blast-2.6.0+/ChangeLog\n",
      "ncbi-blast-2.6.0+/bin/makembindex\n",
      "ncbi-blast-2.6.0+/db/UniVec_Core.nsq\n",
      "ncbi-blast-2.6.0+/bin/blastn\n",
      "ncbi-blast-2.6.0+/README\n",
      "ncbi-blast-2.6.0+/LICENSE\n",
      "ncbi-blast-2.6.0+/bin/blastdbcmd\n",
      "ncbi-blast-2.6.0+/bin/blast_formatter\n",
      "ncbi-blast-2.6.0+/db/TAIR10.nhr\n",
      "ncbi-blast-2.6.0+/db/TAIR10.nin\n",
      "ncbi-blast-2.6.0+/bin/makeblastdb\n",
      "ncbi-blast-2.6.0+/bin/makeprofiledb\n",
      "ncbi-blast-2.6.0+/bin/windowmasker\n",
      "ncbi-blast-2.6.0+/db/TAIR10.nsq\n",
      "ncbi-blast-2.6.0+/\n",
      "ncbi-blast-2.6.0+/bin/dustmasker\n",
      "  % Total    % Received % Xferd  Average Speed   Time    Time     Time  Current\n",
      "                                 Dload  Upload   Total   Spent    Left  Speed\n",
      "100 7327k  100 7327k    0     0  9037k      0 --:--:-- --:--:-- --:--:-- 9034k\n",
      "AT.db\t\t\t     anaconda3_410  input_sequence.fasta\n",
      "TAIR.tar.bz2\t\t     anaconda3_431  ncbi-blast-2.6.0+\n",
      "TAIR10_cds_20101214_updated  clustalw2\t    ncbi-blast-2.6.0.tar.bz2\n",
      "TAIR10_seq_20101214_updated  foralig.txt    outfile.xml\n",
      "anaconda2_410\t\t     forblast\t    samples\n"
     ]
    }
   ],
   "source": [
    "!curl https://s3.amazonaws.com/py4bio/TAIR.tar.bz2 -o TAIR.tar.bz2\n",
    "!mkdir samples\n",
    "!tar xvfj TAIR.tar.bz2 -C samples\n",
    "!curl https://s3.amazonaws.com/py4bio/ncbi-blast-2.6.0.tar.bz2 -o ncbi-blast-2.6.0.tar.bz2\n",
    "!tar xvfj ncbi-blast-2.6.0.tar.bz2\n",
    "!curl https://s3.amazonaws.com/py4bio/clustalw2 -o clustalw2\n",
    "!chmod a+x clustalw2\n",
    "!ls"
   ]
  },
  {
   "cell_type": "code",
   "execution_count": 6,
   "metadata": {
    "collapsed": false
   },
   "outputs": [
    {
     "name": "stdout",
     "output_type": "stream",
     "text": [
      "Fetching package metadata .........\n",
      "Solving package specifications: .\n",
      "\n",
      "Package plan for installation in environment /home/nbcommon/anaconda3_431:\n",
      "\n",
      "The following NEW packages will be INSTALLED:\n",
      "\n",
      "    biopython: 1.68-np111py36_0\n",
      "\n",
      "biopython-1.68 100% |################################| Time: 0:00:00   9.01 MB/s\n"
     ]
    }
   ],
   "source": [
    "!conda install biopython -y"
   ]
  },
  {
   "cell_type": "markdown",
   "metadata": {},
   "source": [
    "**Listing 20.1:** makedb.py: Convert data for entering into an SQLite database"
   ]
  },
  {
   "cell_type": "markdown",
   "metadata": {},
   "source": [
    "**Note** The following program had to be adapted to work on Jupyter Notebook."
   ]
  },
  {
   "cell_type": "code",
   "execution_count": 7,
   "metadata": {
    "collapsed": false
   },
   "outputs": [],
   "source": [
    "import sqlite3\n",
    "from Bio import SeqIO\n",
    "\n",
    "SEQ_FILE = open('samples/TAIR10_seq_20101214_updated')\n",
    "CDS_FILE = open('samples/TAIR10_cds_20101214_updated')\n",
    "AT_DB_FILE = 'AT.db'\n",
    "\n",
    "at_d = {}\n",
    "# Get all sequences from TAIR sequences file.\n",
    "for record in SeqIO.parse(SEQ_FILE, 'fasta'):\n",
    "    sid = record.id\n",
    "    seq = str(record.seq)\n",
    "    at_d[sid] = [seq]\n",
    "# Get all sequences from TAIR CDS file.\n",
    "for record in SeqIO.parse(CDS_FILE, 'fasta'):\n",
    "    sid = record.id\n",
    "    seq = str(record.seq)\n",
    "    at_d[sid].append(seq)\n",
    "# Write to a CSV file only the entries of the dictionary that\n",
    "# has data from both sources\n",
    "conn = sqlite3.connect(AT_DB_FILE)\n",
    "c = conn.cursor()\n",
    "c.execute('create table seq(id, cds, full_seq)')\n",
    "for seq_id in at_d:\n",
    "    if len(at_d[seq_id])==2:\n",
    "        # Write in this order: ID, CDS, FULL_SEQ.\n",
    "        c.execute('INSERT INTO seq VALUES (?,?,?)',\n",
    "                 ((seq_id, at_d[seq_id][1], at_d[seq_id][0])))\n",
    "conn.commit()\n",
    "conn.close()"
   ]
  },
  {
   "cell_type": "markdown",
   "metadata": {},
   "source": [
    "**Listing 20.2:** estimateintrons.py: Estimate introns"
   ]
  },
  {
   "cell_type": "code",
   "execution_count": 20,
   "metadata": {
    "collapsed": false
   },
   "outputs": [
    {
     "name": "stdout",
     "output_type": "stream",
     "text": [
      "Original sequence: XM_013747562.1\n",
      "\n",
      "Best match in AT CDS: AT1G14990.1\n",
      "Putative intron #1: Start at position 14, length 1\n",
      "Putative intron #2: Start at position 53, length 5\n",
      "Putative intron #3: Start at position 92, length 2\n",
      "Putative intron #4: Start at position 143, length 2\n",
      "Putative intron #5: Start at position 148, length 2\n",
      "Putative intron #6: Start at position 169, length 1\n",
      "Putative intron #7: Start at position 210, length 3\n",
      "Putative intron #8: Start at position 232, length 3\n",
      "Putative intron #9: Start at position 245, length 2\n",
      "Putative intron #10: Start at position 352, length 95\n",
      "Putative intron #11: Start at position 518, length 1\n",
      "Putative intron #12: Start at position 533, length 2\n",
      "Putative intron #13: Start at position 558, length 1\n",
      "Putative intron #14: Start at position 642, length 4\n",
      "Putative intron #15: Start at position 654, length 1\n",
      "Putative intron #16: Start at position 668, length 2\n",
      "Putative intron #17: Start at position 673, length 1\n",
      "\n",
      "ATCTTTCGCGAGAG-GTTCATTATTGTCCGGAAGAGGTGCTCATGTTTTGGTAA-----AGCGATCACAAGGTGTTCGATACAATACCTGAGAGAGTT--TCCACAGCTTTCTTCTGATTCTTACTCGGTTTGAGTGAGCTGGATCTTCCA--CGACG--AAGATGATGATCTTGGATGTT-TGCAATGAGATTATAAAGATCCAGAAGCTAAGACGGGTTGT---CTCTTACGCTGGATTCTACTGC---TTCACTGCAGCCC--TCACATTCTTCTACACAAACAACACAACAAGAGCAGGATTCTCCAGGGGAGATCAGTTTTATGCGTCTTACCCTGCGGGTACCGAACTTCTTACCGACACAGCTAAG-----------------------------------------------------------------------------------------------CTGTACAAAGCGGCGCTTGGGAATTGCTATGAATCTGAGGATTGGGGTCCTGTCGAGTTCTGCATAATGGCTAAGCATTTTGAGCGCCAGGGAAAGTCTCCATACGTTTACCACTCTCAATACATGGCTCACCTTCTTTCACAAGGCCAACTTGATGGAAGTGGCT-AGAGTCGTTGATGAC--TTGCAAGACAGCTCCTTTTTCAATC-TGTGTACCTAATCTTGTTATTGGAACTTCCTTCTTTACTCTTTTTCCGAATTTGTACGGCGATGGTATTTGAGGTTACCACCAA----GAAATATAAGAA-CATGTTCTGGTGTA--GACAA-TGAATGTAATAAACACATAAGATCAGACCTTGATATGA\n",
      "\n",
      "Alignment file: XM_013747562.1.aln\n",
      "\n"
     ]
    }
   ],
   "source": [
    "#!/usr/bin/env python\n",
    "\n",
    "import os\n",
    "import sqlite3\n",
    "\n",
    "from Bio import SeqIO, SeqRecord, Seq\n",
    "from Bio.Align.Applications import ClustalwCommandline\n",
    "from Bio.Blast import NCBIXML\n",
    "from Bio.Blast.Applications import NcbiblastnCommandline as bn\n",
    "from Bio import AlignIO\n",
    "\n",
    "AT_DB_FILE = 'AT.db'\n",
    "BLAST_EXE = 'ncbi-blast-2.6.0+/bin/blastn'\n",
    "BLAST_DB = 'ncbi-blast-2.6.0+/db/TAIR10'\n",
    "CLUSTALW_EXE = os.path.join(os.getcwd(), 'clustalw2')\n",
    "\n",
    "input_sequence = \"\"\">XM_013747562.1 PREDICTED: Brassica oleracea var. oleracea\n",
    "ATCTTTCGCGAGAGGTTCATTATTGTCCGGAAGAGGTGCTCATGTTTTGGTAAAGCGATCACAAGGTGTT\n",
    "CGATACAATACCTGAGAGAGTTTCCACAGCTTTCTTCTGATTCTTACTCGGTTTGAGTGAGCTGGATCTT\n",
    "CCACGACGAAGATGATGATCTTGGATGTTTGCAATGAGATTATAAAGATCCAGAAGCTAAGACGGGTTGT\n",
    "CTCTTACGCTGGATTCTACTGCTTCACTGCAGCCCTCACATTCTTCTACACAAACAACACAACAAGAGCA\n",
    "GGATTCTCCAGGGGAGATCAGTTTTATGCGTCTTACCCTGCGGGTACCGAACTTCTTACCGACACAGCTA\n",
    "AGCTGTACAAAGCGGCGCTTGGGAATTGCTATGAATCTGAGGATTGGGGTCCTGTCGAGTTCTGCATAAT\n",
    "GGCTAAGCATTTTGAGCGCCAGGGAAAGTCTCCATACGTTTACCACTCTCAATACATGGCTCACCTTCTT\n",
    "TCACAAGGCCAACTTGATGGAAGTGGCTAGAGTCGTTGATGACTTGCAAGACAGCTCCTTTTTCAATCTG\n",
    "TGTACCTAATCTTGTTATTGGAACTTCCTTCTTTACTCTTTTTCCGAATTTGTACGGCGATGGTATTTGA\n",
    "GGTTACCACCAAGAAATATAAGAACATGTTCTGGTGTAGACAATGAATGTAATAAACACATAAGATCAGA\n",
    "CCTTGATATGA\n",
    "\"\"\"\n",
    "\n",
    "with open('input_sequence.fasta', 'w') as in_seq:\n",
    "    in_seq.write(input_sequence)\n",
    "\n",
    "def allgaps(seq):\n",
    "    \"\"\"Return a list with tuples containing all gap positions\n",
    "       and length. seq is a string.\"\"\"\n",
    "    gaps = []\n",
    "    indash = False\n",
    "    for i, c in enumerate(seq):\n",
    "        if indash is False and c == '-':\n",
    "            c_ini = i\n",
    "            indash = True\n",
    "            dashn = 0\n",
    "        elif indash is True and c == '-':\n",
    "            dashn += 1\n",
    "        elif indash is True and c != '-':\n",
    "            indash = False\n",
    "            gaps.append((c_ini, dashn+1))\n",
    "    return gaps\n",
    "\n",
    "def iss(user_seq):\n",
    "    \"\"\"Infer Splicing Sites from a FASTA file full of EST\n",
    "    sequences\"\"\"\n",
    "\n",
    "    with open('forblast','w') as forblastfh:\n",
    "        forblastfh.write(str(user_seq.seq))\n",
    "\n",
    "    blastn_cline = bn(cmd=BLAST_EXE, query='forblast',\n",
    "                      db=BLAST_DB, evalue='1e-10', outfmt=5,\n",
    "                      num_descriptions='1',\n",
    "                      num_alignments='1', out='outfile.xml')\n",
    "    blastn_cline()\n",
    "    b_record = NCBIXML.read(open('outfile.xml'))\n",
    "    title = b_record.alignments[0].title\n",
    "    sid = title[title.index(' ')+1 : title.index(' |')]\n",
    "    # Polarity information of returned sequence.\n",
    "    # 1 = normal, -1 = reverse.\n",
    "    frame = b_record.alignments[0].hsps[0].frame[1]\n",
    "    # Run the SQLite query\n",
    "    conn = sqlite3.connect(AT_DB_FILE)\n",
    "    c = conn.cursor()\n",
    "    res_cur = c.execute('SELECT CDS, FULL_SEQ from seq '\n",
    "                        'WHERE ID=?', (sid,))\n",
    "    cds, full_seq = res_cur.fetchone()\n",
    "    if cds=='':\n",
    "        print('There is no matching CDS')\n",
    "        exit()\n",
    "    # Check sequence polarity.\n",
    "    sidcds = '{0}-CDS'.format(sid)\n",
    "    sidseq = '{0}-SEQ'.format(sid)\n",
    "    if frame==1:\n",
    "        seqCDS = SeqRecord.SeqRecord(Seq.Seq(cds),\n",
    "                                     id = sidcds,\n",
    "                                     name = '',\n",
    "                                     description = '')\n",
    "        fullseq = SeqRecord.SeqRecord(Seq.Seq(full_seq),\n",
    "                                      id = sidseq,\n",
    "                                      name='',\n",
    "                                      description='')\n",
    "    else:\n",
    "        seqCDS = SeqRecord.SeqRecord(\n",
    "            Seq.Seq(cds).reverse_complement(),\n",
    "            id = sidcds, name='', description='')\n",
    "        fullseq = SeqRecord.SeqRecord(\n",
    "            Seq.Seq(full_seq).reverse_complement(),\n",
    "            id = sidseq, name = '', description='')\n",
    "    # A tuple with the user sequence and both AT sequences\n",
    "    allseqs = (record, seqCDS, fullseq)\n",
    "    with open('foralig.txt','w') as trifh:\n",
    "        # Write the file with the three sequences\n",
    "        SeqIO.write(allseqs, trifh, 'fasta')\n",
    "    # Do the alignment:\n",
    "    outfilename = '{0}.aln'.format(user_seq.id)\n",
    "    cline = ClustalwCommandline(CLUSTALW_EXE,\n",
    "                                infile = 'foralig.txt',\n",
    "                                outfile = outfilename,\n",
    "                                )\n",
    "    cline()\n",
    "    # Walk over all sequences and look for query sequence\n",
    "    for seq in AlignIO.read(outfilename, 'clustal'):\n",
    "        if user_seq.id in seq.id:\n",
    "            seqstr = str(seq.seq)\n",
    "            gaps = allgaps(seqstr.strip('-'))\n",
    "            break\n",
    "    print('Original sequence: {0}'.format(user_seq.id))\n",
    "    print('\\nBest match in AT CDS: {0}'.format(sid))\n",
    "    acc = 0\n",
    "    for i, gap in enumerate(gaps):\n",
    "        print('Putative intron #{0}: Start at position {1}, '\n",
    "              'length {2}'.format(i+1, gap[0]-acc, gap[1]))\n",
    "        acc += gap[1]\n",
    "    print('\\n{0}'.format(seqstr.strip('-')))\n",
    "    print('\\nAlignment file: {0}\\n'.format(outfilename))\n",
    "\n",
    "description = 'Program to infer intron position based on ' \\\n",
    "              'Arabidopsis Thaliana genome'\n",
    "with open('input_sequence.fasta', 'r') as seqhandle:\n",
    "    records = SeqIO.parse(seqhandle, 'fasta')\n",
    "    for record in records:\n",
    "        iss(record)"
   ]
  }
 ],
 "metadata": {
  "kernelspec": {
   "display_name": "Python 3.6",
   "language": "python",
   "name": "python36"
  },
  "language_info": {
   "codemirror_mode": {
    "name": "ipython",
    "version": 3
   },
   "file_extension": ".py",
   "mimetype": "text/x-python",
   "name": "python",
   "nbconvert_exporter": "python",
   "pygments_lexer": "ipython3",
   "version": "3.6.0"
  }
 },
 "nbformat": 4,
 "nbformat_minor": 2
}
