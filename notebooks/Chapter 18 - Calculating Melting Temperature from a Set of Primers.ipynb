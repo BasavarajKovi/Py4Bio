{
 "cells": [
  {
   "cell_type": "markdown",
   "metadata": {
    "collapsed": true
   },
   "source": [
    "Python for Bioinformatics\n",
    "-----------------------------\n",
    "\n",
    "![title](https://s3.amazonaws.com/py4bio/tapabiosmall.png)\n",
    "\n",
    "This Jupyter notebook is intented to be used alongside the book [Python for Bioinformatics](http://py3.us/)\n",
    "\n"
   ]
  },
  {
   "cell_type": "markdown",
   "metadata": {},
   "source": [
    "Chapter 18: Calculating Melting Temperature from a Set of Primers\n",
    "-----------------------------"
   ]
  },
  {
   "cell_type": "markdown",
   "metadata": {},
   "source": [
    "**Note:** Before opening the file, this file should be accesible from this Jupyter notebook. In order to do so, the following commands will download these files from Github and extract them into a directory called samples."
   ]
  },
  {
   "cell_type": "code",
   "execution_count": 1,
   "metadata": {
    "collapsed": false,
    "scrolled": true
   },
   "outputs": [
    {
     "name": "stdout",
     "output_type": "stream",
     "text": [
      "  % Total    % Received % Xferd  Average Speed   Time    Time     Time  Current\n",
      "                                 Dload  Upload   Total   Spent    Left  Speed\n",
      "100 16.5M  100 16.5M    0     0  14.1M      0  0:00:01  0:00:01 --:--:-- 14.1M\n",
      "mkdir: cannot create directory 'samples': File exists\n",
      "BLAST_output.xml\n",
      "TAIR7_Transcripts_by_map_position.gz\n",
      "pMOSBlue.txt\n",
      "fishbacteria.csv\n",
      "UniVec_Core.nsq\n",
      "t3beta.fasta\n",
      "PythonU.db\n",
      "input4align.dnd\n",
      "pdb1apk.ent.gz\n",
      "readme.txt\n",
      "contig1.ace\n",
      "example.aln\n",
      "hsc1.fasta\n",
      "bioinfo/seqs/15721870.fasta\n",
      "primers.txt\n",
      "bioinfo/seqs/4586830.fasta\n",
      "bioinfo/seqs/7638455.fasta\n",
      "GSM188012.CEL\n",
      "3seqs.fas\n",
      "sampleX.fas\n",
      "sampleXblast.xml\n",
      "B1.csv\n",
      "phd1\n",
      "conglycinin.phy\n",
      "bioinfo/seqs/218744616.fasta\n",
      "spfile.txt\n",
      "bioinfo/seqs/513419.fasta\n",
      "bioinfo/seqs/513710.fasta\n",
      "prot.fas\n",
      "cas9align.fasta\n",
      "seqA.fas\n",
      "bioinfo/seqs/\n",
      "bioinfo/\n",
      "pdbaa\n",
      "other.xml\n",
      "vectorssmall.fasta\n",
      "t3.fasta\n",
      "a19.gp\n",
      "data.csv\n",
      "input4align.fasta\n",
      "B1IXL9.txt\n",
      "fasta22.fas\n",
      "bioinfo/seqs/7415878.fasta\n",
      "bioinfo/seqs/513718.fasta\n",
      "bioinfo/seqs/513719.fasta\n",
      "bioinfo/seqs/6598312.fasta\n",
      "UniVec_Core.nin\n",
      "Q5R5X8.fas\n",
      "bioinfo/seqs/513717.fasta\n",
      "BcrA.gp\n",
      "bioinfo/seqs/2623545.fasta\n",
      "bioinfo/seqs/63108399.fasta\n",
      "conglycinin.dnd\n",
      "NC2033.txt\n",
      "fishdata.csv\n",
      "uniprotrecord.xml\n",
      "BLAST_output.html\n",
      "Q9JJE1.xml\n",
      "test3.csv\n",
      "UniVec_Core.nhr\n",
      "sampledata.xlsx\n",
      "UniVec_Core\n",
      "NC_006581.gb\n",
      "conglycinin.multiple.phy\n",
      "conglycinin.fasta\n"
     ]
    }
   ],
   "source": [
    "!curl https://raw.githubusercontent.com/Serulab/Py4Bio/master/samples/samples.tar.bz2 -o samples.tar.bz2\n",
    "!mkdir samples\n",
    "!tar xvfj samples.tar.bz2 -C samples"
   ]
  },
  {
   "cell_type": "markdown",
   "metadata": {},
   "source": [
    "**Listing 18.1:** fromtxt.py: Primer Tm calculation"
   ]
  },
  {
   "cell_type": "code",
   "execution_count": 3,
   "metadata": {
    "collapsed": false
   },
   "outputs": [
    {
     "name": "stdout",
     "output_type": "stream",
     "text": [
      "TCTAGAACTAGTGGATC,39.49\n",
      "GTTTTCCCAGTCACGACG,50.57\n",
      "CGATTTAGGTGACACTATAG,44.66\n",
      "CAGGAAACAGCTATGACC,46.73\n",
      "GTGTGGAATTGTGAGCGG,50.87\n",
      "TGTAAAACGACGGCCAGT,51.14\n",
      "CGAGGTCGACGGTATCG,51.20\n",
      "TAATACGACTCACTATAGGG,44.59\n",
      "GCGCAATTAACCCTCACTAAAG,52.25\n"
     ]
    }
   ],
   "source": [
    "from Bio.SeqUtils import MeltingTemp as MT\n",
    "\n",
    "PRIMER_FILE = 'samples/primers.txt'\n",
    "for line in open(PRIMER_FILE):\n",
    "    # prm stores the primer, without 5'- and -3'\n",
    "    prm = line[3:len(line)-4].replace(' ','')\n",
    "    # .2f is used to print up to 2 decimals.\n",
    "    print('{0},{1:.2f}'.format(prm, MT.Tm_staluc(prm)))"
   ]
  },
  {
   "cell_type": "markdown",
   "metadata": {},
   "source": [
    "**Listing 18.2:** toexcel.py: Primer Tm calculation, Excel output"
   ]
  },
  {
   "cell_type": "code",
   "execution_count": 4,
   "metadata": {
    "collapsed": true
   },
   "outputs": [],
   "source": [
    "from Bio.SeqUtils import MeltingTemp as MT\n",
    "import xlwt\n",
    "\n",
    "PRIMER_FILE = 'samples/primers.txt'\n",
    "# w is the name of a newly created workbook.\n",
    "w = xlwt.Workbook()\n",
    "# ws is the name of a new sheet in this workbook.\n",
    "ws = w.add_sheet('Result')\n",
    "# These two lines writes the titles of the columns.\n",
    "ws.write(0, 0, 'Primer Sequence')\n",
    "ws.write(0, 1, 'Tm')\n",
    "for index, line in enumerate(open(PRIMER_FILE)):\n",
    "    # For each line in the input file, write the primer\n",
    "    # sequence and the Tm\n",
    "    prm = line[3:len(line)-4].replace(' ','')\n",
    "    ws.write(index+1, 0, prm)\n",
    "    ws.write(index+1, 1, '{0:.2f}'.format(MT.Tm_staluc(prm)))\n",
    "# Save the spreadsheel into a file.\n",
    "w.save('primerout.xls')"
   ]
  }
 ],
 "metadata": {
  "kernelspec": {
   "display_name": "Python 3.6",
   "language": "python",
   "name": "python36"
  },
  "language_info": {
   "codemirror_mode": {
    "name": "ipython",
    "version": 3
   },
   "file_extension": ".py",
   "mimetype": "text/x-python",
   "name": "python",
   "nbconvert_exporter": "python",
   "pygments_lexer": "ipython3",
   "version": "3.6.0"
  }
 },
 "nbformat": 4,
 "nbformat_minor": 2
}
