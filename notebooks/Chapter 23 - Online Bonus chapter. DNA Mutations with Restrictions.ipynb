{
 "cells": [
  {
   "cell_type": "markdown",
   "metadata": {},
   "source": [
    "Python for Bioinformatics\n",
    "-----------------------------\n",
    "\n",
    "![title](https://s3.amazonaws.com/py4bio/tapabiosmall.png)\n",
    "\n",
    "This Jupyter notebook is intented to be used alongside the book [Python for Bioinformatics](http://py3.us/)"
   ]
  },
  {
   "cell_type": "markdown",
   "metadata": {},
   "source": [
    "Chapter 23: DNA Mutations with Restrictions\n",
    "-------------    "
   ]
  },
  {
   "cell_type": "markdown",
   "metadata": {},
   "source": [
    "**Note:** The code in this chapter needs Biopython 1.69.  \n"
   ]
  },
  {
   "cell_type": "code",
   "execution_count": 1,
   "metadata": {
    "collapsed": false
   },
   "outputs": [
    {
     "name": "stdout",
     "output_type": "stream",
     "text": [
      "Fetching package metadata .........\n",
      "Solving package specifications: .\n",
      "\n",
      "# All requested packages already installed.\n",
      "# packages in environment at /home/nbcommon/anaconda3_431:\n",
      "#\n",
      "biopython                 1.68                np111py36_0  \n"
     ]
    }
   ],
   "source": [
    "!conda install biopython -y"
   ]
  },
  {
   "cell_type": "code",
   "execution_count": 2,
   "metadata": {
    "collapsed": false
   },
   "outputs": [
    {
     "name": "stderr",
     "output_type": "stream",
     "text": [
      "usage: Given a DNA sequence of a polypeptide, this program\n",
      "generates alternative DNA sequences that code for the same\n",
      "polypeptide but that can be sorted out by DNA restriction.\n",
      "Requires Biopython >= 1.69\n",
      "Author: Sebastian Bassi (sbassi@genesdigitales.com)\n",
      "\n",
      "usage: __main__.py input_sequence [options]\n",
      "__main__.py: error: unrecognized arguments: -f\n"
     ]
    },
    {
     "ename": "SystemExit",
     "evalue": "2",
     "output_type": "error",
     "traceback": [
      "An exception has occurred, use %tb to see the full traceback.\n",
      "\u001b[0;31mSystemExit\u001b[0m\u001b[0;31m:\u001b[0m 2\n"
     ]
    },
    {
     "name": "stderr",
     "output_type": "stream",
     "text": [
      "/home/nbuser/anaconda3_431/lib/python3.6/site-packages/IPython/core/interactiveshell.py:2870: UserWarning: To exit: use 'exit', 'quit', or Ctrl-D.\n",
      "  warn(\"To exit: use 'exit', 'quit', or Ctrl-D.\", stacklevel=1)\n"
     ]
    }
   ],
   "source": [
    "from argparse import ArgumentParser\n",
    "\n",
    "from Bio import Seq\n",
    "from Bio.Alphabet import IUPAC\n",
    "from Bio import Restriction\n",
    "from Bio.Data import CodonTable\n",
    "from jinja2 import Template\n",
    "\n",
    "helpstr = '''Given a DNA sequence of a polypeptide, this program\n",
    "generates alternative DNA sequences that code for the same\n",
    "polypeptide but that can be sorted out by DNA restriction.\n",
    "Requires Biopython >= 1.69\n",
    "Author: Sebastian Bassi (sbassi@genesdigitales.com)'''\n",
    "usage = helpstr + '\\n\\nusage: %(prog)s input_sequence [options]'\n",
    "parser = ArgumentParser(usage=usage)\n",
    "parser.add_argument('input', help='Input sequence')\n",
    "parser.add_argument('-o', '--output', help=\n",
    "                    'name of the output file',\n",
    "                    default='output.html')\n",
    "parser.add_argument('-m', '--mutations', type=int,\n",
    "                  help='number of allowed mutations',\n",
    "                  dest='n_mut', default=1)\n",
    "parser.add_argument('-t', '--table', type=int,\n",
    "                  help='translation table',\n",
    "                  dest='table_id', default=1)\n",
    "\n",
    "def backtrans(ori_pep, table_id=1):\n",
    "    \"\"\"\n",
    "    Function to make backtranslation (from peptide to DNA)\n",
    "    This function needs the peptide sequence and the code of\n",
    "    translation table. Code number is the same as posted in:\n",
    "    http://www.ncbi.nlm.nih.gov/Taxonomy/Utils/wprintgc.cgi\n",
    "    \"\"\"\n",
    "    def recurs(order, pos):\n",
    "        for letter in bt[order[pos]]:\n",
    "            if pos == len(order) - 1:\n",
    "                yield letter\n",
    "                continue\n",
    "            for prox in recurs(order, pos+1):\n",
    "                yield (letter + prox)\n",
    "\n",
    "    def combine(order):\n",
    "        ordened = set()\n",
    "        for frase in recurs(order, 0):\n",
    "            ordened.add(frase)\n",
    "        return ordened\n",
    "\n",
    "    t = CodonTable.generic_by_id[table_id]\n",
    "    bt = dict()\n",
    "    for a1 in \"ATCG\" :\n",
    "        for a2 in \"ATCG\" :\n",
    "            for a3 in \"ATCG\" :\n",
    "                codon = a1 + a2 + a3\n",
    "                try:\n",
    "                    amino = t.forward_table[codon]\n",
    "                except KeyError:\n",
    "                    assert codon in t.stop_codons\n",
    "                    continue\n",
    "                try:\n",
    "                    bt[amino].append(codon)\n",
    "                except KeyError:\n",
    "                    bt[amino] = [codon]\n",
    "    return list(combine(ori_pep))\n",
    "\n",
    "def seqcomp(s1, s2):\n",
    "    \"\"\"\n",
    "    Compares 2 sequences and returns a value with\n",
    "    how many differents elements they have.\n",
    "    \"\"\"\n",
    "    p = len(s1)\n",
    "    for x,y in zip(s1, s2): # Walk through 2 sequences.\n",
    "        if x==y:\n",
    "            p -= 1\n",
    "    return p\n",
    "\n",
    "args = parser.parse_args()\n",
    "dna = Seq.Seq(args.input, IUPAC.unambiguous_dna)\n",
    "# Translate DNA sequence.\n",
    "ori_pep = dna.translate()\n",
    "# Get all backtranslations.\n",
    "bakpeps = backtrans(ori_pep, args.table_id)\n",
    "# Make a restriction analysis for the orignal sequence.\n",
    "analysis = Restriction.Analysis(Restriction.CommOnly, dna)\n",
    "analysis.print_as('map')\n",
    "ori_map = analysis.format_output()\n",
    "# Store the enzymes that cut in the original sequence.\n",
    "enz = list(analysis.with_sites().keys())\n",
    "# Get a string out of the enzyme list, for printing.\n",
    "oname = str(enz)[1:-1]\n",
    "enz = set(enz)\n",
    "bakpeps_out = []\n",
    "for bakpep in bakpeps:\n",
    "    tmp_d = {}\n",
    "    if bakpep not in args.input:\n",
    "        # Make a restriction analysis for each sequence.\n",
    "        analysis = Restriction.Analysis(Restriction.CommOnly,\n",
    "                Seq.Seq(bakpep, IUPAC.unambiguous_dna))\n",
    "        # Store the enzymes that cut in this sequence.\n",
    "        enz_tmp = list(analysis.with_sites().keys())\n",
    "        enz_tmp = set(enz_tmp)\n",
    "        # Get the number of mutations in backpep sequence.\n",
    "        y = seqcomp(args.input, bakpep)\n",
    "        if enz_tmp != enz and enz and y <= args.n_mut:\n",
    "            analysis.print_as('map')\n",
    "            tmp_d['pames'] = str(enz_tmp)[1:-1]\n",
    "            tmp_d['graph'] = analysis.format_output()\n",
    "            tmp_d['ori_seq'] = str(list(enz.difference(\n",
    "                                        enz_tmp)))[1:-1]\n",
    "            tmp_d['proposed_seq'] = str(list(\n",
    "                        enz_tmp.difference(enz)))[1:-1]\n",
    "            bakpeps_out.append(tmp_d)\n",
    "with open('mutation.tpl') as fh:\n",
    "    template = Template(fh.read())\n",
    "    render = template.render(dna_input=args.input,\n",
    "                             ori_pep=ori_pep,\n",
    "                             ori_map=ori_map,\n",
    "                             oname=oname,\n",
    "                             bakpeps_out=bakpeps_out)\n",
    "with open('restriction_output.txt', 'w') as file_out:\n",
    "    file_out.write(render)"
   ]
  }
 ],
 "metadata": {
  "kernelspec": {
   "display_name": "Python 3.6",
   "language": "python",
   "name": "python36"
  },
  "language_info": {
   "codemirror_mode": {
    "name": "ipython",
    "version": 3
   },
   "file_extension": ".py",
   "mimetype": "text/x-python",
   "name": "python",
   "nbconvert_exporter": "python",
   "pygments_lexer": "ipython3",
   "version": "3.6.0"
  }
 },
 "nbformat": 4,
 "nbformat_minor": 2
}
