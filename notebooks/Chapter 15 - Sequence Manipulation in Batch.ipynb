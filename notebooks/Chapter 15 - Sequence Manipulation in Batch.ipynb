{
 "cells": [
  {
   "cell_type": "markdown",
   "metadata": {},
   "source": [
    "Python for Bioinformatics\n",
    "-----------------------------\n",
    "\n",
    "![title](https://s3.amazonaws.com/py4bio/tapabiosmall.png)\n",
    "\n",
    "This Jupyter notebook is intented to be used alongside the book [Python for Bioinformatics](http://py3.us/)\n",
    "\n"
   ]
  },
  {
   "cell_type": "markdown",
   "metadata": {},
   "source": [
    "**Note:** Before opening the file, this file should be accesible from this Jupyter notebook. In order to do so, the following commands will download these files from Github and extract them into a directory called samples."
   ]
  },
  {
   "cell_type": "code",
   "execution_count": 1,
   "metadata": {
    "collapsed": false,
    "scrolled": true
   },
   "outputs": [
    {
     "name": "stdout",
     "output_type": "stream",
     "text": [
      "  % Total    % Received % Xferd  Average Speed   Time    Time     Time  Current\n",
      "                                 Dload  Upload   Total   Spent    Left  Speed\n",
      "100 16.5M  100 16.5M    0     0  17.2M      0 --:--:-- --:--:-- --:--:-- 17.2M\n",
      "mkdir: cannot create directory 'samples': File exists\n",
      "BLAST_output.xml\n",
      "TAIR7_Transcripts_by_map_position.gz\n",
      "pMOSBlue.txt\n",
      "fishbacteria.csv\n",
      "UniVec_Core.nsq\n",
      "t3beta.fasta\n",
      "PythonU.db\n",
      "input4align.dnd\n",
      "pdb1apk.ent.gz\n",
      "readme.txt\n",
      "contig1.ace\n",
      "example.aln\n",
      "hsc1.fasta\n",
      "bioinfo/seqs/15721870.fasta\n",
      "primers.txt\n",
      "bioinfo/seqs/4586830.fasta\n",
      "bioinfo/seqs/7638455.fasta\n",
      "GSM188012.CEL\n",
      "3seqs.fas\n",
      "sampleX.fas\n",
      "sampleXblast.xml\n",
      "B1.csv\n",
      "phd1\n",
      "conglycinin.phy\n",
      "bioinfo/seqs/218744616.fasta\n",
      "spfile.txt\n",
      "bioinfo/seqs/513419.fasta\n",
      "bioinfo/seqs/513710.fasta\n",
      "prot.fas\n",
      "cas9align.fasta\n",
      "seqA.fas\n",
      "bioinfo/seqs/\n",
      "bioinfo/\n",
      "pdbaa\n",
      "other.xml\n",
      "vectorssmall.fasta\n",
      "t3.fasta\n",
      "a19.gp\n",
      "data.csv\n",
      "input4align.fasta\n",
      "B1IXL9.txt\n",
      "fasta22.fas\n",
      "bioinfo/seqs/7415878.fasta\n",
      "bioinfo/seqs/513718.fasta\n",
      "bioinfo/seqs/513719.fasta\n",
      "bioinfo/seqs/6598312.fasta\n",
      "UniVec_Core.nin\n",
      "Q5R5X8.fas\n",
      "bioinfo/seqs/513717.fasta\n",
      "BcrA.gp\n",
      "bioinfo/seqs/2623545.fasta\n",
      "bioinfo/seqs/63108399.fasta\n",
      "conglycinin.dnd\n",
      "NC2033.txt\n",
      "fishdata.csv\n",
      "uniprotrecord.xml\n",
      "BLAST_output.html\n",
      "Q9JJE1.xml\n",
      "test3.csv\n",
      "UniVec_Core.nhr\n",
      "sampledata.xlsx\n",
      "UniVec_Core\n",
      "NC_006581.gb\n",
      "conglycinin.multiple.phy\n",
      "conglycinin.fasta\n"
     ]
    }
   ],
   "source": [
    "!curl https://raw.githubusercontent.com/Serulab/Py4Bio/master/samples/samples.tar.bz2 -o samples.tar.bz2\n",
    "!mkdir samples\n",
    "!tar xvfj samples.tar.bz2 -C samples"
   ]
  },
  {
   "cell_type": "markdown",
   "metadata": {},
   "source": [
    "Chapter 15: Sequence Manipulation in Batch\n",
    "------------"
   ]
  },
  {
   "cell_type": "code",
   "execution_count": 2,
   "metadata": {
    "collapsed": false,
    "scrolled": true
   },
   "outputs": [
    {
     "name": "stdout",
     "output_type": "stream",
     "text": [
      "Fetching package metadata .........\n",
      "Solving package specifications: .\n",
      "\n",
      "Package plan for installation in environment /home/nbcommon/anaconda3_410:\n",
      "\n",
      "The following NEW packages will be INSTALLED:\n",
      "\n",
      "    biopython: 1.68-np111py35_0\n",
      "\n",
      "biopython-1.68 100% |################################| Time: 0:00:00   8.80 MB/s\n"
     ]
    }
   ],
   "source": [
    "!conda install biopython -y"
   ]
  },
  {
   "cell_type": "markdown",
   "metadata": {},
   "source": [
    "**Listing 15.1:** seqiornd.py: Generate random sequences"
   ]
  },
  {
   "cell_type": "code",
   "execution_count": 4,
   "metadata": {
    "collapsed": false
   },
   "outputs": [],
   "source": [
    "import random\n",
    "\n",
    "from Bio.SeqRecord import SeqRecord\n",
    "from Bio.Seq import Seq\n",
    "from Bio import SeqIO\n",
    "\n",
    "TOTAL_SEQUENCES = 500\n",
    "MIN_SIZE = 400\n",
    "MAX_SIZE = 1500\n",
    "\n",
    "def new_rnd_seq(seq_len):\n",
    "    \"\"\"\n",
    "    Generate a random DNA sequence with a sequence length\n",
    "    of \"sl\" (int).\n",
    "    return: A string with a DNA sequence.\n",
    "    \"\"\"\n",
    "    s = ''\n",
    "    while len(s) < seq_len:\n",
    "        s += random.choice('ATCG')\n",
    "    return s\n",
    "\n",
    "with open('randomseqs.txt','w') as new_fh:\n",
    "    for i in range(1, TOTAL_SEQUENCES + 1):\n",
    "        # Select a random number between MIN_SIZE and MAX_SIZE\n",
    "        rsl = random.randint(MIN_SIZE, MAX_SIZE)\n",
    "        # Generate the random sequence\n",
    "        rawseq = new_rnd_seq(rsl)\n",
    "        # Generate a correlative name\n",
    "        seqname = 'Sequence_number_{0}'.format(i)\n",
    "        rec = SeqRecord(Seq(rawseq), id=seqname, description='')\n",
    "        SeqIO.write([rec], new_fh, 'fasta')"
   ]
  },
  {
   "cell_type": "markdown",
   "metadata": {},
   "source": [
    "**Listing 15.2:** seqio1.py: Filter a FASTA file"
   ]
  },
  {
   "cell_type": "code",
   "execution_count": 3,
   "metadata": {
    "collapsed": false
   },
   "outputs": [],
   "source": [
    "from Bio import SeqIO\n",
    "\n",
    "INPUT_FILE = 'samples/fasta22.fas'\n",
    "OUTPUT_FILE = 'fasta22_out.fas'\n",
    "\n",
    "def retseq(seq_fh):\n",
    "    \"\"\"\n",
    "    Parse a fasta file and store non empty records\n",
    "    into the fullseqs list.\n",
    "    :seq_fh: File handle of the input sequence\n",
    "    :return: A list with non empty sequences\n",
    "    \"\"\"\n",
    "    fullseqs = []\n",
    "    for record in SeqIO.parse(seq_fh,'fasta'):\n",
    "        if len(record.seq):\n",
    "            fullseqs.append(record)\n",
    "    return fullseqs\n",
    "\n",
    "with open(INPUT_FILE) as in_fh:\n",
    "    with open(OUTPUT_FILE, 'w') as out_fh:\n",
    "        SeqIO.write(retseq(in_fh), out_fh, 'fasta')"
   ]
  },
  {
   "cell_type": "markdown",
   "metadata": {},
   "source": [
    "**Listing 15.3:** seqio2.py: Filter a FASTA file with a generator"
   ]
  },
  {
   "cell_type": "code",
   "execution_count": 7,
   "metadata": {
    "collapsed": true
   },
   "outputs": [],
   "source": [
    "from Bio import SeqIO\n",
    "\n",
    "INPUT_FILE = 'samples/fasta22.fas'\n",
    "OUTPUT_FILE = 'fasta22_out2.fas'\n",
    "\n",
    "def retseq(seq_fh):\n",
    "    \"\"\"\n",
    "    Parse a fasta file and returns non empty records\n",
    "    :seq_fh: File handle of the input sequence\n",
    "    :return: Non empty sequences\n",
    "    \"\"\"\n",
    "    for record in SeqIO.parse(seq_fh, 'fasta'):\n",
    "        if len(record.seq):\n",
    "            yield record\n",
    "\n",
    "with open(INPUT_FILE) as in_fh:\n",
    "    with open(OUTPUT_FILE, 'w') as out_fh:\n",
    "        SeqIO.write(retseq(in_fh), out_fh, 'fasta')"
   ]
  },
  {
   "cell_type": "markdown",
   "metadata": {},
   "source": [
    "**Listing 15.4:** seqio3.py: Yet another way to filter a FASTA file"
   ]
  },
  {
   "cell_type": "code",
   "execution_count": 10,
   "metadata": {
    "collapsed": true
   },
   "outputs": [],
   "source": [
    "from Bio import SeqIO\n",
    "\n",
    "INPUT_FILE = 'fasta22_out.fas'\n",
    "OUTPUT_FILE = 'fasta33.fas'\n",
    "\n",
    "with open(INPUT_FILE) as in_fh:\n",
    "    with open(OUTPUT_FILE, 'w') as out_fh:\n",
    "        for record in SeqIO.parse(in_fh,'fasta'):\n",
    "            if len(record.seq):\n",
    "                SeqIO.write([record], out_fh, 'fasta')"
   ]
  },
  {
   "cell_type": "markdown",
   "metadata": {},
   "source": [
    "**Listing 15.7:** seqiofile3.py: Add a tag in a FASTA sequence with Biopython"
   ]
  },
  {
   "cell_type": "code",
   "execution_count": 6,
   "metadata": {
    "collapsed": false
   },
   "outputs": [],
   "source": [
    "from Bio import SeqIO\n",
    "\n",
    "INPUT_FILE = 'fasta22_out.fas'\n",
    "OUTPUT_FILE = 'fasta33.fas'\n",
    "\n",
    "with open(INPUT_FILE) as in_fh:\n",
    "    with open(OUTPUT_FILE, 'w') as out_fh:\n",
    "        for record in SeqIO.parse(in_fh,'fasta'):\n",
    "            # Modify description\n",
    "            record.description += '[Rattus norvegicus]'\n",
    "            SeqIO.write([record], out_fh, 'fasta')"
   ]
  },
  {
   "cell_type": "markdown",
   "metadata": {},
   "source": [
    "**Listing 15.8:** seqiofile4.py: Add a tag in a FASTA sequence"
   ]
  },
  {
   "cell_type": "code",
   "execution_count": 7,
   "metadata": {
    "collapsed": true
   },
   "outputs": [],
   "source": [
    "INPUT_FILE = 'fasta22_out.fas'\n",
    "OUTPUT_FILE = 'fasta33.fas'\n",
    "\n",
    "with open(INPUT_FILE) as in_fh:\n",
    "    with open(OUTPUT_FILE, 'w') as out_fh:\n",
    "        for line in in_fh:\n",
    "            if line.startswith('>'):\n",
    "                line = line.replace('\\n', '[Rattus norvegicus]\\n')\n",
    "            out_fh.write(line)"
   ]
  }
 ],
 "metadata": {
  "kernelspec": {
   "display_name": "Python 3",
   "language": "python",
   "name": "python3"
  },
  "language_info": {
   "codemirror_mode": {
    "name": "ipython",
    "version": 3
   },
   "file_extension": ".py",
   "mimetype": "text/x-python",
   "name": "python",
   "nbconvert_exporter": "python",
   "pygments_lexer": "ipython3",
   "version": "3.5.1"
  }
 },
 "nbformat": 4,
 "nbformat_minor": 2
}
