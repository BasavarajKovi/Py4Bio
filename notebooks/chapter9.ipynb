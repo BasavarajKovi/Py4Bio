{
 "cells": [
  {
   "cell_type": "markdown",
   "metadata": {},
   "source": [
    "Install Biopython\n",
    "-----------------"
   ]
  },
  {
   "cell_type": "code",
   "execution_count": 2,
   "metadata": {
    "collapsed": false,
    "scrolled": true
   },
   "outputs": [
    {
     "name": "stdout",
     "output_type": "stream",
     "text": [
      "Fetching package metadata .......\n",
      "Solving package specifications: ..........\n",
      "\n",
      "Package plan for installation in environment /home/nbcommon/anaconda3_410:\n",
      "\n",
      "The following packages will be downloaded:\n",
      "\n",
      "    package                    |            build\n",
      "    ---------------------------|-----------------\n",
      "    biopython-1.68             |      np111py35_0         2.3 MB\n",
      "\n",
      "The following NEW packages will be INSTALLED:\n",
      "\n",
      "    biopython: 1.68-np111py35_0\n",
      "\n",
      "Fetching packages ...\n",
      "biopython-1.68 100% |################################| Time: 0:00:00   8.64 MB/s\n",
      "Extracting packages ...\n",
      "[      COMPLETE      ]|###################################################| 100%\n",
      "Linking packages ...\n",
      "[      COMPLETE      ]|###################################################| 100%\n"
     ]
    }
   ],
   "source": [
    "!conda install biopython -y"
   ]
  },
  {
   "cell_type": "markdown",
   "metadata": {},
   "source": [
    "Test Installation\n",
    "-----------------"
   ]
  },
  {
   "cell_type": "code",
   "execution_count": 3,
   "metadata": {
    "collapsed": false
   },
   "outputs": [
    {
     "data": {
      "text/plain": [
       "'1.68'"
      ]
     },
     "execution_count": 3,
     "metadata": {},
     "output_type": "execute_result"
    }
   ],
   "source": [
    "import Bio\n",
    "Bio.__version__"
   ]
  },
  {
   "cell_type": "code",
   "execution_count": 3,
   "metadata": {
    "collapsed": false
   },
   "outputs": [
    {
     "data": {
      "text/plain": [
       "['Ala',\n",
       " 'Asx',\n",
       " 'Cys',\n",
       " 'Asp',\n",
       " 'Glu',\n",
       " 'Phe',\n",
       " 'Gly',\n",
       " 'His',\n",
       " 'Ile',\n",
       " 'Lys',\n",
       " 'Leu',\n",
       " 'Met',\n",
       " 'Asn',\n",
       " 'Pro',\n",
       " 'Gln',\n",
       " 'Arg',\n",
       " 'Ser',\n",
       " 'Thr',\n",
       " 'Sec',\n",
       " 'Val',\n",
       " 'Trp',\n",
       " 'Xaa',\n",
       " 'Tyr',\n",
       " 'Glx']"
      ]
     },
     "execution_count": 3,
     "metadata": {},
     "output_type": "execute_result"
    }
   ],
   "source": [
    "import Bio.Alphabet\n",
    "Bio.Alphabet.ThreeLetterProtein.letters"
   ]
  },
  {
   "cell_type": "code",
   "execution_count": 4,
   "metadata": {
    "collapsed": false
   },
   "outputs": [
    {
     "data": {
      "text/plain": [
       "'ACDEFGHIKLMNPQRSTVWY'"
      ]
     },
     "execution_count": 4,
     "metadata": {},
     "output_type": "execute_result"
    }
   ],
   "source": [
    "from Bio.Alphabet import IUPAC\n",
    "IUPAC.IUPACProtein.letters"
   ]
  },
  {
   "cell_type": "code",
   "execution_count": 5,
   "metadata": {
    "collapsed": false
   },
   "outputs": [
    {
     "data": {
      "text/plain": [
       "'GATC'"
      ]
     },
     "execution_count": 5,
     "metadata": {},
     "output_type": "execute_result"
    }
   ],
   "source": [
    "IUPAC.unambiguous_dna.letters"
   ]
  },
  {
   "cell_type": "code",
   "execution_count": 6,
   "metadata": {
    "collapsed": false
   },
   "outputs": [
    {
     "data": {
      "text/plain": [
       "'GATCRYWSMKHBVDN'"
      ]
     },
     "execution_count": 6,
     "metadata": {},
     "output_type": "execute_result"
    }
   ],
   "source": [
    "IUPAC.ambiguous_dna.letters"
   ]
  },
  {
   "cell_type": "code",
   "execution_count": 7,
   "metadata": {
    "collapsed": false
   },
   "outputs": [
    {
     "data": {
      "text/plain": [
       "'ACDEFGHIKLMNPQRSTVWYBXZJUO'"
      ]
     },
     "execution_count": 7,
     "metadata": {},
     "output_type": "execute_result"
    }
   ],
   "source": [
    "IUPAC.ExtendedIUPACProtein.letters"
   ]
  },
  {
   "cell_type": "code",
   "execution_count": 8,
   "metadata": {
    "collapsed": false
   },
   "outputs": [
    {
     "data": {
      "text/plain": [
       "'GATCBDSW'"
      ]
     },
     "execution_count": 8,
     "metadata": {},
     "output_type": "execute_result"
    }
   ],
   "source": [
    "IUPAC.ExtendedIUPACDNA.letters"
   ]
  },
  {
   "cell_type": "code",
   "execution_count": 9,
   "metadata": {
    "collapsed": false
   },
   "outputs": [
    {
     "data": {
      "text/plain": [
       "Seq('CCGGGUU', IUPACUnambiguousRNA())"
      ]
     },
     "execution_count": 9,
     "metadata": {},
     "output_type": "execute_result"
    }
   ],
   "source": [
    "from Bio.Seq import Seq\n",
    "import Bio.Alphabet\n",
    "seq = Seq('CCGGGTT', Bio.Alphabet.IUPAC.unambiguous_dna)\n",
    "seq.transcribe()"
   ]
  },
  {
   "cell_type": "code",
   "execution_count": 11,
   "metadata": {
    "collapsed": false
   },
   "outputs": [
    {
     "name": "stderr",
     "output_type": "stream",
     "text": [
      "/home/nbuser/anaconda3_410/lib/python3.5/site-packages/Bio/Seq.py:2071: BiopythonWarning: Partial codon, len(sequence) not a multiple of three. Explicitly trim the sequence or add trailing N before translation. This may become an error in future.\n",
      "  BiopythonWarning)\n"
     ]
    },
    {
     "data": {
      "text/plain": [
       "Seq('PG', IUPACProtein())"
      ]
     },
     "execution_count": 11,
     "metadata": {},
     "output_type": "execute_result"
    }
   ],
   "source": [
    "seq.translate()"
   ]
  },
  {
   "cell_type": "code",
   "execution_count": 12,
   "metadata": {
    "collapsed": false
   },
   "outputs": [
    {
     "ename": "ValueError",
     "evalue": "RNA cannot be transcribed!",
     "output_type": "error",
     "traceback": [
      "\u001b[0;31m---------------------------------------------------------------------------\u001b[0m",
      "\u001b[0;31mValueError\u001b[0m                                Traceback (most recent call last)",
      "\u001b[0;32m<ipython-input-12-0aba5e582c89>\u001b[0m in \u001b[0;36m<module>\u001b[0;34m()\u001b[0m\n\u001b[1;32m      1\u001b[0m \u001b[0mrna_seq\u001b[0m \u001b[0;34m=\u001b[0m \u001b[0mSeq\u001b[0m\u001b[0;34m(\u001b[0m\u001b[0;34m'CCGGGUU'\u001b[0m\u001b[0;34m,\u001b[0m\u001b[0mBio\u001b[0m\u001b[0;34m.\u001b[0m\u001b[0mAlphabet\u001b[0m\u001b[0;34m.\u001b[0m\u001b[0mIUPAC\u001b[0m\u001b[0;34m.\u001b[0m\u001b[0munambiguous_rna\u001b[0m\u001b[0;34m)\u001b[0m\u001b[0;34m\u001b[0m\u001b[0m\n\u001b[0;32m----> 2\u001b[0;31m \u001b[0mrna_seq\u001b[0m\u001b[0;34m.\u001b[0m\u001b[0mtranscribe\u001b[0m\u001b[0;34m(\u001b[0m\u001b[0;34m)\u001b[0m\u001b[0;34m\u001b[0m\u001b[0m\n\u001b[0m",
      "\u001b[0;32m/home/nbuser/anaconda3_410/lib/python3.5/site-packages/Bio/Seq.py\u001b[0m in \u001b[0;36mtranscribe\u001b[0;34m(self)\u001b[0m\n\u001b[1;32m    834\u001b[0m             \u001b[0;32mraise\u001b[0m \u001b[0mValueError\u001b[0m\u001b[0;34m(\u001b[0m\u001b[0;34m\"Proteins cannot be transcribed!\"\u001b[0m\u001b[0;34m)\u001b[0m\u001b[0;34m\u001b[0m\u001b[0m\n\u001b[1;32m    835\u001b[0m         \u001b[0;32mif\u001b[0m \u001b[0misinstance\u001b[0m\u001b[0;34m(\u001b[0m\u001b[0mbase\u001b[0m\u001b[0;34m,\u001b[0m \u001b[0mAlphabet\u001b[0m\u001b[0;34m.\u001b[0m\u001b[0mRNAAlphabet\u001b[0m\u001b[0;34m)\u001b[0m\u001b[0;34m:\u001b[0m\u001b[0;34m\u001b[0m\u001b[0m\n\u001b[0;32m--> 836\u001b[0;31m             \u001b[0;32mraise\u001b[0m \u001b[0mValueError\u001b[0m\u001b[0;34m(\u001b[0m\u001b[0;34m\"RNA cannot be transcribed!\"\u001b[0m\u001b[0;34m)\u001b[0m\u001b[0;34m\u001b[0m\u001b[0m\n\u001b[0m\u001b[1;32m    837\u001b[0m \u001b[0;34m\u001b[0m\u001b[0m\n\u001b[1;32m    838\u001b[0m         \u001b[0;32mif\u001b[0m \u001b[0mself\u001b[0m\u001b[0;34m.\u001b[0m\u001b[0malphabet\u001b[0m \u001b[0;34m==\u001b[0m \u001b[0mIUPAC\u001b[0m\u001b[0;34m.\u001b[0m\u001b[0munambiguous_dna\u001b[0m\u001b[0;34m:\u001b[0m\u001b[0;34m\u001b[0m\u001b[0m\n",
      "\u001b[0;31mValueError\u001b[0m: RNA cannot be transcribed!"
     ]
    }
   ],
   "source": [
    "rna_seq = Seq('CCGGGUU',Bio.Alphabet.IUPAC.unambiguous_rna)\n",
    "rna_seq.transcribe()"
   ]
  },
  {
   "cell_type": "code",
   "execution_count": 13,
   "metadata": {
    "collapsed": false
   },
   "outputs": [
    {
     "name": "stderr",
     "output_type": "stream",
     "text": [
      "/home/nbuser/anaconda3_410/lib/python3.5/site-packages/Bio/Seq.py:2071: BiopythonWarning: Partial codon, len(sequence) not a multiple of three. Explicitly trim the sequence or add trailing N before translation. This may become an error in future.\n",
      "  BiopythonWarning)\n"
     ]
    },
    {
     "data": {
      "text/plain": [
       "Seq('PG', IUPACProtein())"
      ]
     },
     "execution_count": 13,
     "metadata": {},
     "output_type": "execute_result"
    }
   ],
   "source": [
    "rna_seq.translate()"
   ]
  },
  {
   "cell_type": "markdown",
   "metadata": {},
   "source": [
    "Tip: The Transcribe Function in Biopython\n",
    "-----------------------------------------"
   ]
  },
  {
   "cell_type": "code",
   "execution_count": 14,
   "metadata": {
    "collapsed": false,
    "scrolled": true
   },
   "outputs": [
    {
     "data": {
      "text/plain": [
       "'MV*'"
      ]
     },
     "execution_count": 14,
     "metadata": {},
     "output_type": "execute_result"
    }
   ],
   "source": [
    "from Bio.Seq import translate, transcribe, back_transcribe\n",
    "dnaseq = 'ATGGTATAA'\n",
    "translate(dnaseq)\n"
   ]
  },
  {
   "cell_type": "code",
   "execution_count": 15,
   "metadata": {
    "collapsed": false
   },
   "outputs": [
    {
     "data": {
      "text/plain": [
       "'AUGGUAUAA'"
      ]
     },
     "execution_count": 15,
     "metadata": {},
     "output_type": "execute_result"
    }
   ],
   "source": [
    "transcribe(dnaseq)"
   ]
  },
  {
   "cell_type": "code",
   "execution_count": 16,
   "metadata": {
    "collapsed": false
   },
   "outputs": [
    {
     "data": {
      "text/plain": [
       "'MV*'"
      ]
     },
     "execution_count": 16,
     "metadata": {},
     "output_type": "execute_result"
    }
   ],
   "source": [
    "rnaseq = transcribe(dnaseq)\n",
    "translate(rnaseq)"
   ]
  },
  {
   "cell_type": "code",
   "execution_count": 17,
   "metadata": {
    "collapsed": false
   },
   "outputs": [
    {
     "data": {
      "text/plain": [
       "'ATGGTATAA'"
      ]
     },
     "execution_count": 17,
     "metadata": {},
     "output_type": "execute_result"
    }
   ],
   "source": [
    "back_transcribe(rnaseq)"
   ]
  },
  {
   "cell_type": "markdown",
   "metadata": {},
   "source": [
    "Seq Objects as a String\n",
    "-----------------------"
   ]
  },
  {
   "cell_type": "code",
   "execution_count": 18,
   "metadata": {
    "collapsed": false
   },
   "outputs": [
    {
     "data": {
      "text/plain": [
       "Seq('CCGGG', IUPACUnambiguousDNA())"
      ]
     },
     "execution_count": 18,
     "metadata": {},
     "output_type": "execute_result"
    }
   ],
   "source": [
    "seq = Seq('CCGGGTTAACGTA',Bio.Alphabet.IUPAC.unambiguous_dna)\n",
    "seq[:5]"
   ]
  },
  {
   "cell_type": "code",
   "execution_count": 19,
   "metadata": {
    "collapsed": false
   },
   "outputs": [
    {
     "data": {
      "text/plain": [
       "13"
      ]
     },
     "execution_count": 19,
     "metadata": {},
     "output_type": "execute_result"
    }
   ],
   "source": [
    "len(seq)"
   ]
  },
  {
   "cell_type": "code",
   "execution_count": 20,
   "metadata": {
    "collapsed": false
   },
   "outputs": [
    {
     "name": "stdout",
     "output_type": "stream",
     "text": [
      "CCGGGTTAACGTA\n"
     ]
    }
   ],
   "source": [
    "print(seq)"
   ]
  },
  {
   "cell_type": "markdown",
   "metadata": {},
   "source": [
    "MutableSeq\n",
    "----------"
   ]
  },
  {
   "cell_type": "code",
   "execution_count": 22,
   "metadata": {
    "collapsed": false
   },
   "outputs": [
    {
     "ename": "TypeError",
     "evalue": "'Seq' object does not support item assignment",
     "output_type": "error",
     "traceback": [
      "\u001b[0;31m---------------------------------------------------------------------------\u001b[0m",
      "\u001b[0;31mTypeError\u001b[0m                                 Traceback (most recent call last)",
      "\u001b[0;32m<ipython-input-22-7edd3100cf3d>\u001b[0m in \u001b[0;36m<module>\u001b[0;34m()\u001b[0m\n\u001b[0;32m----> 1\u001b[0;31m \u001b[0mseq\u001b[0m\u001b[0;34m[\u001b[0m\u001b[0;36m0\u001b[0m\u001b[0;34m]\u001b[0m \u001b[0;34m=\u001b[0m \u001b[0;34m'T'\u001b[0m\u001b[0;34m\u001b[0m\u001b[0m\n\u001b[0m",
      "\u001b[0;31mTypeError\u001b[0m: 'Seq' object does not support item assignment"
     ]
    }
   ],
   "source": [
    "seq[0] = 'T'"
   ]
  },
  {
   "cell_type": "code",
   "execution_count": 23,
   "metadata": {
    "collapsed": false
   },
   "outputs": [
    {
     "data": {
      "text/plain": [
       "MutableSeq('CCGGGTTAACGTA', IUPACUnambiguousDNA())"
      ]
     },
     "execution_count": 23,
     "metadata": {},
     "output_type": "execute_result"
    }
   ],
   "source": [
    "mut_seq = seq.tomutable()\n",
    "mut_seq"
   ]
  },
  {
   "cell_type": "code",
   "execution_count": 24,
   "metadata": {
    "collapsed": false
   },
   "outputs": [
    {
     "data": {
      "text/plain": [
       "MutableSeq('TCGGGTTAACGTA', IUPACUnambiguousDNA())"
      ]
     },
     "execution_count": 24,
     "metadata": {},
     "output_type": "execute_result"
    }
   ],
   "source": [
    "mut_seq[0] = 'T'\n",
    "mut_seq"
   ]
  },
  {
   "cell_type": "code",
   "execution_count": 25,
   "metadata": {
    "collapsed": false
   },
   "outputs": [
    {
     "data": {
      "text/plain": [
       "MutableSeq('ATGCAATTGGGCT', IUPACUnambiguousDNA())"
      ]
     },
     "execution_count": 25,
     "metadata": {},
     "output_type": "execute_result"
    }
   ],
   "source": [
    "mut_seq.reverse()\n",
    "mut_seq"
   ]
  },
  {
   "cell_type": "code",
   "execution_count": 26,
   "metadata": {
    "collapsed": true
   },
   "outputs": [],
   "source": [
    "mut_seq.complement()"
   ]
  },
  {
   "cell_type": "code",
   "execution_count": 27,
   "metadata": {
    "collapsed": false
   },
   "outputs": [
    {
     "data": {
      "text/plain": [
       "MutableSeq('TACGTTAACCCGA', IUPACUnambiguousDNA())"
      ]
     },
     "execution_count": 27,
     "metadata": {},
     "output_type": "execute_result"
    }
   ],
   "source": [
    "mut_seq"
   ]
  },
  {
   "cell_type": "code",
   "execution_count": 28,
   "metadata": {
    "collapsed": false
   },
   "outputs": [
    {
     "data": {
      "text/plain": [
       "MutableSeq('TCGGGTTAACGTA', IUPACUnambiguousDNA())"
      ]
     },
     "execution_count": 28,
     "metadata": {},
     "output_type": "execute_result"
    }
   ],
   "source": [
    "mut_seq.reverse_complement()\n",
    "mut_seq"
   ]
  },
  {
   "cell_type": "markdown",
   "metadata": {},
   "source": [
    "SeqRecord\n",
    "---------"
   ]
  },
  {
   "cell_type": "code",
   "execution_count": 31,
   "metadata": {
    "collapsed": false
   },
   "outputs": [
    {
     "data": {
      "text/plain": [
       "SeqRecord(seq=Seq('CCGGGTTAACGTA', IUPACUnambiguousDNA()), id='001', name='MHC gene', description='<unknown description>', dbxrefs=[])"
      ]
     },
     "execution_count": 31,
     "metadata": {},
     "output_type": "execute_result"
    }
   ],
   "source": [
    "from Bio.SeqRecord import SeqRecord\n",
    "SeqRecord(seq, id='001', name='MHC gene')"
   ]
  },
  {
   "cell_type": "code",
   "execution_count": 6,
   "metadata": {
    "collapsed": false
   },
   "outputs": [
    {
     "name": "stdout",
     "output_type": "stream",
     "text": [
      "ID: P20994.1\n",
      "Name: P20994\n",
      "Description: Protein A19\n",
      "Database cross-references: Pfam:PF05077, InterPro:IPR007769, DIP:2186N\n",
      "Number of features: 0\n",
      "/note=A simple note\n",
      "Seq('mdstnvrsgmksrkkkpkttvidddddcmtcsacqsklvkisditkvsldyint...kll', ProteinAlphabet())\n"
     ]
    }
   ],
   "source": [
    "from Bio.SeqRecord import SeqRecord\n",
    "from Bio.Seq import Seq\n",
    "from Bio.Alphabet import generic_protein\n",
    "rec = SeqRecord(Seq('mdstnvrsgmksrkkkpkttvidddddcmtcsacqs'\n",
    "                        'klvkisditkvsldyintmrgntlacaacgsslkll',\n",
    "                generic_protein),\n",
    "                id = 'P20994.1', name = 'P20994',\n",
    "                description = 'Protein A19',\n",
    "                dbxrefs = ['Pfam:PF05077', 'InterPro:IPR007769',\n",
    "                           'DIP:2186N'])\n",
    "rec.annotations['note'] = 'A simple note'\n",
    "print(rec)"
   ]
  },
  {
   "cell_type": "markdown",
   "metadata": {},
   "source": [
    "Align\n",
    "-----"
   ]
  },
  {
   "cell_type": "code",
   "execution_count": 39,
   "metadata": {
    "collapsed": false
   },
   "outputs": [
    {
     "name": "stdout",
     "output_type": "stream",
     "text": [
      "ProteinAlphabet() alignment with 2 rows and 30 columns\n",
      "MHQAIFIYQIGYPLKSGYIQSIRSPEYDNW asp\n",
      "MH--IFIYQIGYALKSGYIQSIRSPEY-NW unk\n"
     ]
    }
   ],
   "source": [
    "from Bio.Alphabet import generic_protein\n",
    "from Bio.Align import MultipleSeqAlignment\n",
    "from Bio.Seq import Seq\n",
    "from Bio.SeqRecord import SeqRecord\n",
    "\n",
    "seq1 = 'MHQAIFIYQIGYPLKSGYIQSIRSPEYDNW'\n",
    "seq2 = 'MH--IFIYQIGYALKSGYIQSIRSPEY-NW'\n",
    "seq_rec_1 = SeqRecord(Seq(seq1, generic_protein), id = 'asp')\n",
    "seq_rec_2 = SeqRecord(Seq(seq2, generic_protein), id = 'unk')\n",
    "align = MultipleSeqAlignment([seq_rec_1, seq_rec_2])\n",
    "print(align)"
   ]
  },
  {
   "cell_type": "code",
   "execution_count": 41,
   "metadata": {
    "collapsed": false
   },
   "outputs": [
    {
     "data": {
      "text/plain": [
       "[SeqRecord(seq=Seq('MHQAIFIYQIGYPLKSGYIQSIRSPEYDNW', ProteinAlphabet()), id='asp', name='<unknown name>', description='<unknown description>', dbxrefs=[]),\n",
       " SeqRecord(seq=Seq('MH--IFIYQIGYALKSGYIQSIRSPEY-NW', ProteinAlphabet()), id='unk', name='<unknown name>', description='<unknown description>', dbxrefs=[])]"
      ]
     },
     "execution_count": 41,
     "metadata": {},
     "output_type": "execute_result"
    }
   ],
   "source": [
    "list(align)"
   ]
  },
  {
   "cell_type": "code",
   "execution_count": 40,
   "metadata": {
    "collapsed": false
   },
   "outputs": [
    {
     "name": "stdout",
     "output_type": "stream",
     "text": [
      "ProteinAlphabet() alignment with 3 rows and 30 columns\n",
      "MHQAIFIYQIGYPLKSGYIQSIRSPEYDNW asp\n",
      "MH--IFIYQIGYALKSGYIQSIRSPEY-NW unk\n",
      "M---IFIYQIGYAAKSGYIQSIRSPEY--W cas\n"
     ]
    }
   ],
   "source": [
    "seq3 = 'M---IFIYQIGYAAKSGYIQSIRSPEY--W'\n",
    "seq_rec_3 = SeqRecord(Seq(seq3, generic_protein), id = 'cas')\n",
    "align.extend([seq_rec_3])\n",
    "print(align)"
   ]
  },
  {
   "cell_type": "code",
   "execution_count": 12,
   "metadata": {
    "collapsed": false
   },
   "outputs": [
    {
     "data": {
      "text/plain": [
       "3"
      ]
     },
     "execution_count": 12,
     "metadata": {},
     "output_type": "execute_result"
    }
   ],
   "source": [
    "len(align)"
   ]
  },
  {
   "cell_type": "code",
   "execution_count": 41,
   "metadata": {
    "collapsed": false
   },
   "outputs": [
    {
     "name": "stdout",
     "output_type": "stream",
     "text": [
      "6.50421142578125\n",
      "8.16033935546875\n",
      "8.13848876953125\n"
     ]
    }
   ],
   "source": [
    "from Bio.SeqUtils.ProtParam import ProteinAnalysis\n",
    "for seq in align:\n",
    "    print(ProteinAnalysis(str(seq.seq)).isoelectric_point())"
   ]
  },
  {
   "cell_type": "code",
   "execution_count": 43,
   "metadata": {
    "collapsed": false
   },
   "outputs": [
    {
     "data": {
      "text/plain": [
       "'M---IFIYQIGYAAKSGYIQSIRSPEY--W'"
      ]
     },
     "execution_count": 43,
     "metadata": {},
     "output_type": "execute_result"
    }
   ],
   "source": [
    "seq3"
   ]
  },
  {
   "cell_type": "code",
   "execution_count": 46,
   "metadata": {
    "collapsed": false
   },
   "outputs": [
    {
     "name": "stdout",
     "output_type": "stream",
     "text": [
      "ID: cas\n",
      "Name: <unknown name>\n",
      "Description: <unknown description>\n",
      "Number of features: 0\n",
      "Seq('M---IFIYQIGYAAKSGYIQSIRSPEY--W', ProteinAlphabet())\n"
     ]
    }
   ],
   "source": [
    "seq_rec_3 = SeqRecord(Seq(seq3, generic_protein), id = 'cas')\n",
    "print(seq_rec_3)"
   ]
  },
  {
   "cell_type": "code",
   "execution_count": 48,
   "metadata": {
    "collapsed": false,
    "scrolled": true
   },
   "outputs": [
    {
     "data": {
      "text/plain": [
       "SeqRecord(seq=Seq('MHQAIFIYQIGYPLKSGYIQSIRSPEYDNW', ProteinAlphabet()), id='asp', name='<unknown name>', description='<unknown description>', dbxrefs=[])"
      ]
     },
     "execution_count": 48,
     "metadata": {},
     "output_type": "execute_result"
    }
   ],
   "source": [
    "align[0]"
   ]
  },
  {
   "cell_type": "code",
   "execution_count": 12,
   "metadata": {
    "collapsed": false,
    "scrolled": false
   },
   "outputs": [
    {
     "ename": "NameError",
     "evalue": "name 'align' is not defined",
     "output_type": "error",
     "traceback": [
      "\u001b[0;31m---------------------------------------------------------------------------\u001b[0m",
      "\u001b[0;31mNameError\u001b[0m                                 Traceback (most recent call last)",
      "\u001b[0;32m<ipython-input-12-132f468ebc56>\u001b[0m in \u001b[0;36m<module>\u001b[0;34m()\u001b[0m\n\u001b[0;32m----> 1\u001b[0;31m \u001b[0mprint\u001b[0m\u001b[0;34m(\u001b[0m\u001b[0malign\u001b[0m\u001b[0;34m[\u001b[0m\u001b[0;34m:\u001b[0m\u001b[0;36m2\u001b[0m\u001b[0;34m,\u001b[0m\u001b[0;36m5\u001b[0m\u001b[0;34m:\u001b[0m\u001b[0;36m11\u001b[0m\u001b[0;34m]\u001b[0m\u001b[0;34m)\u001b[0m\u001b[0;34m\u001b[0m\u001b[0m\n\u001b[0m",
      "\u001b[0;31mNameError\u001b[0m: name 'align' is not defined"
     ]
    }
   ],
   "source": [
    "print(align[:2,5:11])"
   ]
  },
  {
   "cell_type": "markdown",
   "metadata": {},
   "source": [
    "*How to download a file*"
   ]
  },
  {
   "cell_type": "code",
   "execution_count": 18,
   "metadata": {
    "collapsed": false,
    "scrolled": true
   },
   "outputs": [
    {
     "name": "stdout",
     "output_type": "stream",
     "text": [
      "  % Total    % Received % Xferd  Average Speed   Time    Time     Time  Current\n",
      "                                 Dload  Upload   Total   Spent    Left  Speed\n",
      "100 11532  100 11532    0     0  49465      0 --:--:-- --:--:-- --:--:-- 49706\n"
     ]
    }
   ],
   "source": [
    "!curl https://s3.amazonaws.com/py4bio/cas9align.fasta -o cas9align.fasta"
   ]
  },
  {
   "cell_type": "code",
   "execution_count": 19,
   "metadata": {
    "collapsed": false
   },
   "outputs": [
    {
     "name": "stdout",
     "output_type": "stream",
     "text": [
      ">J7M7J1\n",
      "MDKKYSIGLDIGTNSVGWAVITDDYKVPSKKFKVLGNTDRHSIKKNLIGALLFDSGETAE\n",
      "ATRLKRTARRRYTRRKNRICYLQEIFSNEMAKVDDSFFHRLEESFLVEEDKKHERHPIFG\n",
      "NIVDEVAYHEKYPTIYHLRKKLVDSTDKADLRLIYLALAHMIKFRGHFLIEGDLNPDNSD\n",
      "VDKLFIQLVQTYNQLFEENPINASGVDAKAILSARLSKSRRLENLIAQLPGEKKNGLFGN\n",
      "LIALSLGLTPNFKSNFDLAEDAKLQLSKDTYDDDLDNLLAQIGDQYADLFLAAKNLSDAI\n",
      "LLSDILRVNTEITKAPLSASMIKRYDEHHQDLTLLKALVRQQLPEKYKEIFFDQSKNGYA\n",
      "GYIDGGASQEEFYKFIKPILEKMDGTEELLVKLNREDLLRKQRTFDNGSIPHQIHLGELH\n",
      "AILRRQEDFYPFLKDNREKIEKILTFRIPYYVGPLARGNSRFAWMTRKSEETITPWNFEE\n",
      "VVDKGASAQSFIERMTNFDKNLPNEKVLPKHSLLYEYFTVYNELTKVKYVTEGMRKPAFL\n",
      "SGEQKKAIVDLLFKTNRKVTVKQLKEDYFKKIECFDSVEISGV---EDRFNASLGTYHDL\n",
      "LKIIKDKDFLDNEENEDILEDIVLTLTLFEDREMIEERLKTYAHLFDDKVMKQLKRRRYT\n",
      "GWGRLSRKLINGIRDKQSGKTILDFLKSDGFANRNFMQLIHDDSLTFKEDIQKAQVSGQG\n",
      "DSLHEHIANLAGSPAIKKGILQTVKVVDELVKVMGRHKPENIVIEMARENQTTQKGQKNS\n",
      "RERMKRIEEGIKEL----GSQILKEHPVENTQLQNEKLYLYYLQNGRDMYVDQELDINRL\n",
      "SDYDVDHIVPQSFLKDDSIDNKVLTRSDKNRGKSDNVPSEEVVKKMKNYWRQLLNAKLIT\n",
      "QRKFDNLTKAERGGLSELDKAGFIKRQLVETRQITKHVAQILDSRMNTKYDENDKLIREV\n",
      "KVITLKSKLVSDFRKDFQFYKVREINNYHHAHDAYLNAVVGTALIKKYPKLESEFVYGDY\n",
      "KVYDVRKMIAKSE--QEIGKATAKYFFYSNIMNFFKTEITLANGEIRKRPLIETNGETGE\n",
      "IVWDKGRDFATVRKVLSMPQVNIVKKTEVQTGG----FSKESILPKRN---SDKLIARK-\n",
      "--KDWDPKKYGGFDSPTVAYSVLVVAK--VEKGKSKKLKSVKELLGITIMERSSFEKNPI\n",
      "DFLEAKGYKEVKKDLIIKLPKYSLFELENG--RK-RMLAS-------AGELQKGNELALP\n",
      "SKYVNFLYLASHYEKLKGSPEDNEQKQLFVEQHKHYLDEIIEQISEFSKRVILADANLDK\n",
      "VLSAYNKHRDKPIREQAENIIHLFTLTNLGAPAAFKYFDTT--IDRKRYT------STKE\n",
      "VLDATLIHQSITGLYETRIDLSQLGGD\n",
      ">A0A0C6FZC2\n",
      "MDKKYSIGLDIGTNSVGWAVITDDYKVPSKKFKVLGNTDRHSIKKNLIGALLFDSGETAE\n",
      "ATRLKRTARRRYTRRKNRICYLQEIFSNEMAKVDDSFFHRLEESFLVEEDKKHERHPIFG\n",
      "NIVDEVAYHEKYPTIYHLRKKLVDSTDKADLRLIYLALAHMIKFRGHFLIEGDLNPDNSD\n",
      "VDKLFIQLVQTYNQLFEENPINASGVDAKAILSARLSKSRRLENLIAQLPGEKKNGLFGN\n",
      "LIALSLGLTPNFKSNFDLAEDAKLQLSKDTYDDDLDNLLAQIGDQYADLFLAAKNLSDAI\n",
      "LLSDILRVNTEITKAPLSASMIKRYDEHHQDLTLLKALVRQQLPEKYKEIFFDQSKNGYA\n",
      "GYIDGGASQEEFYKFIKPILEKMDGTEELLVKLNREDLLRKQRTFDNGSIPHQIHLGELH\n",
      "AILRRQEDFYPFLKDNREKIEKILTFRIPYYVGPLARGNSRFAWMTRKSEETITPWNFEE\n",
      "VVDKGASAQSFIERMTNFDKNLPNEKVLPKHSLLYEYFTVYNELTKVKYVTEGMRKPAFL\n",
      "SGEQKKAIVDLLFKTNRKVTVKQLKEDYFKKIECFDSVEISGV---EDRFNASLGTYHDL\n",
      "LKIIKDKDFLDNEENEDILEDIVLTLTLFEDREMIEERLKTYAHLFDDKVMKQLKRRRYT\n",
      "GWGRLSRKLINGIRDKQSGKTILDFLKSDGFANRNFMQLIHDDSLTFKEDIQKAQVSGQG\n",
      "DSLHEHIANLAGSPAIKKGILQTVKVVDELVKVMGRHKPENIVIEMARENQTTQKGQKNS\n",
      "RERMKRIEEGIKEL----GSQILKEHPVENTQLQNEKLYLYYLQNGRDMYVDQELDINRL\n",
      "SDYDVDHIVPQSFLKDDSIDNKVLTRSDKNRGKSDNVPSEEVVKKMKNYWRQLLNAKLIT\n",
      "QRKFDNLTKAERGGLSELDKAGFIKRQLVETRQITKHVAQILDSRMNTKYDENDKLIREV\n",
      "KVITLKSKLVSDFRKDFQFYKVREINNYHHAHDAYLNAVVGTALIKKYPKLESEFVYGDY\n",
      "KVYDVRKMIAKSE--QEIGKATAKYFFYSNIMNFFKTEITLANGEIRKRPLIETNGETGE\n",
      "IVWDKGRDFATVRKVLSMPQVNIVKKTEVQTGG----FSKESILPKRN---SDKLIARK-\n",
      "--KDWDPKKYGGFDSPTVAYSVLVVAK--VEKGKSKKLKSVKELLGITIMERSSFEKNPI\n",
      "DFLEAKGYKEVKKDLIIKLPKYSLFELENG--RK-RMLAS-------AGELQKGNELALP\n",
      "SKYVNFLYLASHYEKLKGSPEDNEQKQLFVEQHKHYLDEIIEQISEFSKRVILADANLDK\n",
      "VLSAYNKHRDKPIREQAENIIHLFTLTNLGAPAAFKYFDTT--IDRKRYT------STKE\n",
      "VLDATLIHQSITGLYETRIDLSQLGGD\n",
      ">A0A1C2CVQ9\n",
      "MDKKYSIGLDIGTNSVGWAVITDDYKVPSKKFKVLGNTDRHSIKKNLIGALLFDSGETAE\n",
      "ATRLKRTARRRYTRRKNRIRYLQEIFSSEMSKVDDSFFHRLEESFLVEEDKKHERHPIFG\n",
      "NIVDEVAYHEKYPTIYHLRKKLADSTDKADLRLIYLALAHMIKFRGHFLIEGDLNPDNSD\n",
      "VDKLFIQLVQTYNQLFEENPINASRVDAKAILSARLSKSRRLENLIAQLPGEKRNGLFGN\n",
      "LIALSLGLTPNFKSNFDLAEDAKLQLSKDTYDDDLDNLLAQIGDQYADLFLAAKNLSDAI\n",
      "LLSDILRVNSEITKAPLSASMIKRYDEHHQDLTLLKALVRQQLPEKYKEIFFDQSKNGYA\n",
      "GYIDGGASQEEFYKFIKPILEKMDGTEELLAKLNREDLLRKQRTFDNGSIPHQIHLGELH\n",
      "AILRRQEDFYPFLKDNREKIEKILTFRIPYYVGPLARGNSRFAWMTRKSEETITPWNFEE\n",
      "VVDKGASAQSFIERMTNFDKNLPNEKVLPKHSLLYEYFTVYNELTKVKYVTEGMRKPAFL\n",
      "SGEQKKAIVDLLFKTNRKVTVKQLKEDYFKKIECFDSVEISGV---EDRFNASLGTYHDL\n",
      "LKIIKDKDFLDNEENEDILEDIVLTLTLFEDKEMIEERLKTYAHLFDDKVMKQLKRRHYT\n",
      "GWGRLSRKLINGIRDKQSGKTILDFLKSDGFANRNFIQLIHDDSLTFKEAIQKAQVSGQG\n",
      "HSLHEQIANLAGSPAIKKGILQSVKVVDELVKVMG-HKPENIVIEMARENQTTQKGQKNS\n",
      "RERMKRIEEGIKEL----GSQILKEHPVENTQLQNEKLYLYYLQNGRDMYVDQELDINRL\n",
      "SDYDVDHIVPQSFIKDDSIDNKVLTRSDKNRGKSDNVPSEEVVKKMKNYWRQLLNAKLIT\n",
      "QRKFDNLTKAERGGLSELDKAGFIKRQLVETRQITKHVAQILDSRMNTKYDENDKLIREV\n",
      "KVITLKSKLVSDFRKDFQFYKVREINNYHHAHDAYLNAVVGTALIKKYPKLESEFVYGDY\n",
      "KVYDVRKMIAKSE--QEIGKATAKRFFYSNIMNFFKTEITLANGEIRKRPLIETNEETGE\n",
      "IVWDKGRDFATVRKVLSMPQVNIVKKTEVQTGA----LTNESIYARGS---FDKLISRK-\n",
      "--HRFESSKYGGFGSPTVTYSVLVVAKSKVQDGKVKKIKTGKELIGITLLDKLVFEKNPL\n",
      "KFIEDKGYGNVQIDKCIKLPKYSLFEFENG--TR-RMLASVMANNNSRGDLQKANEMFLP\n",
      "AKLVTLLYHAHKIESSKELE-----HEAYILDHYNDLYQLLSYIERFASLYVDVEKNISK\n",
      "VKELFSNIESYSISEICSSVINLLTLTASGAPADFKFLGTT--IPRKRYG------SPQS\n",
      "ILSSTLIHQSITGLYETRIDLSQLGGD\n",
      ">A0A1C2CV43\n",
      "MDKKYSIGLDIGTNSVGWAVITDDYKVPSKKFKVLGNTDRHSIKKNLIGALLFDSGETAE\n",
      "ATRLKRTARRRYTRRKNRIRYLQEIFSSEMSKVDDSFFHRLEESFLVEEDKKHERHPIFG\n",
      "NIVDEVAYHEKYPTIYHLRKKLADSTDKADLRLIYLALAHMIKFRGHFLIEGDLNPDNSD\n",
      "MDKLFIQLVQTYNQLFEENPINASRVDAKAILSARLSKSRRLENLIAQLPGEKRNGLFGN\n",
      "LIALSLGLTPNFKSNFDLAEDAKLQLSKDTYDDDLDNLLAQIGDQYADLFLAAKNLSDAI\n",
      "LLSDILRVNSEITKAPLSASMIKRYDEHHQDLTLLKALVRQQLPEKYKEIFFDQSKNGYA\n",
      "GYIDGGASQEEFYKFIKPILEKMDGTEELLAKLNREDLLRKQRTFDNGSIPHQIHLGELH\n",
      "AILRRQEDFYPFLKDNREKIEKILTFRIPYYVGPLARGNSRFAWMTRKSEETITPWNFEE\n",
      "VVDKGASAQSFIERMTNFDKNLPNEKVLPKHSLLYEYFTVYNELTKVKYVTEGMRKPEFL\n",
      "SGKQKEAIVDLLFKTNRKVTVKQLKEDYFKKIEYFDSVEISGV---EDRFNASLGTYHDL\n",
      "LKIIKDKDFLDNEENEDILEDIVLTLTLFEDKEMIEERLKKYANLFDDKVMKQLKRRHYT\n",
      "GWGRLSRKLINGIRDKQSGKTILDFLKSDGFANRNFMQLINDDSLTFKEAIQKAQVSGQG\n",
      "HSLHEQIANLAGSPAIKKGILQSVKVVDELVKVMG-HKPENIVIEMARENQTTQKGQKNS\n",
      "RERMKRIEEGIKEL----GSQILKEHPVENTQLQNEKLYLYYLQNGRDMYVDQELDINRL\n",
      "SDYDVDHIVPQSFIKDDSIDNKVLTRSDKNRGKSDNVPSEEVVKKMKNYWRQLLNAKLIT\n",
      "QRKFDNLTKAERGGLSELDKAGFIKRQLVETRQITKHVAQILDSRMNTKYDENDKLIREV\n",
      "KVITLKSKLVSDFRKDFQFYKVREINNYHHAHDAYLNAVVGTALIKKYPKLESEFVYGDY\n",
      "KVYDVRKMIAKSE--QEIGKATAKRFFYSNIMNFFKTEITLANGEIRKRPLIETNEETGE\n",
      "IVWDKGRDFATVRKVLSMPQVNIVKKTEVQTGA----LTNESIYARGS---FDKLISRK-\n",
      "--HRFESSKYGGFGSPTVTYSVLVVAKSKVQDGKVKKIKTGKELIGITLLDKLVFEKNPL\n",
      "KFIEDKGYGNVQIDKCIKLPKYSLFEFENG--TR-RMLASVMANNNSRGDLQKANEMFLP\n",
      "AKLVTLLYHAHKIESSKELE-----HEAYILDHYNDLYQLLSYIERFASLYVDVEKNISK\n",
      "VKELFSNIESYSISEICSSVINLLTLTASGAPADFKFLGTT--IPRKRYG------SPQS\n",
      "ILSSTLIHQSITGLYETRIDLSQLGGD\n",
      ">Q48TU5\n",
      "MDKKYSIGLDIGTNSVGWAVITDDYKVPSKKFKVLGNTDRHSIKKNLIGALLFDSGETAE\n",
      "ATRLKRTARRRYTRRKNRICYLQEIFSNEMAKVDDSFFHRLEESFLVEEDKKHERHPIFG\n",
      "NIVDEVAYHEKYPTIYHLRKKLVDSTDKADLRLIYLALAHMIKFRGHFLIEGDLNPDNSD\n",
      "VDKLFIQLVQTYNQLFEENPINASGVDAKAILSARLSKSRRLENLIAQLPGEKKNGLFGN\n",
      "LIALSLGLTPNFKSNFDLAEDAKLQLSKDTYDDDLDNLLAQIGDQYADLFLAAKNLSDAI\n",
      "LLSDILRLNSEITKAPLSASMIKRYDEHHQDLTLLKALVRQQLPEKYKEIFFDQSKNGYA\n",
      "GYIDGGASQEEFYKFIKPILEKMDGTEELLAKLNREDLLRKQRTFDNGSIPHQIHLGELH\n",
      "AILRRQEDFYPFLKDNREKIEKILTFRIPYYVGPLARGNSRFAWMTRKSEETITPWNFEE\n",
      "VVDKGASAQSFIERMTNFDKNLPNEKVLPKHSLLYEYFTVYNELTKVKYVTEGMRKPAFL\n",
      "SGEQKKAIVDLLFKTNRKVTVKQLKEDYFKKIECFDSVEISGV---EDRFNASLGTYHDL\n",
      "LKIIKDKDFLDNEENEDILEDIVLTLTLFEDREMIEERLKTYAHLFDDKVMKQLKRRRYT\n",
      "GWGRLSRKLINGIRDKQSGKTILDFLKSDGFANRNFMQLIHDDSLTFKEDIQKAQVSGQG\n",
      "DSLHEHIANLAGSPAIKKGILQTVKVVDELVKVMGRHKPENIVIEMARENQTTQKGQKNS\n",
      "RERMKRIEEGIKEL----GSQILKEHPVENTQLQNEKLYLYYLQNGRDMYVDQELDINRL\n",
      "SDYDVDHIVPQSFIKDDSIDNKVLTRSDKNRGKSNNVPSEEVVKKMKNYWRQLLNAKLIT\n",
      "QRKFDNLTKAERGGLSELDKAGFIKRQLVETRQITKHVAQILDSRMNTKYDENDKLIREV\n",
      "KVITLKSKLVSDFRKDFQFYKVREINNYHHAHDAYLNAVVGTALIKKYPKLESEFVYGDY\n",
      "KVYDVRKMIAKSE--QEIGKATAKYFFYSNIMNFFKTEITLANGEIRKRPLIETNGETGE\n",
      "IVWDKGRDFATVRKVLSMPQVNIVKKTEVQTGG----FSKESILPKRN---SDKLIARK-\n",
      "--KDWDPKKYGGFDSPTVAYSVLVVAK--VEKGKSKKLKSVKELLGITIMERSSFEKNPI\n",
      "DFLEAKGYKEVRKDLIVKLPKYSLFELENG--RK-RMLAS-------AGELQKGNELALP\n",
      "SKYVNFLYLASHYEKLKGSPEDNEQKQLFVEQHKHYLDEIIEQISEFSKRVILADANLDK\n",
      "VLSAYNKHRDKPIREQAENIIHLFTLTNLGAPAAFKYFDTT--IDRKRYT------STKE\n",
      "VLDATFIHQSITGLYETRIDLSQLGGD\n",
      ">M4YX12\n",
      "MDKKYSIGLDIGTNSVGWAVITDDYKVPSKKFKVLGNTDRHSIKKNLIGALLFDSGETAE\n",
      "ATRLKRTARRRYTRRKNRIRYLQEIFSSEMSKVDDSFFHRLEESFLVEEDKKHERHPIFG\n",
      "NIVDEVAYHEKYPTIYHLRKKLADSTDKADLRLIYLALAHMIKFRGHFLIEGDLNPDNSD\n",
      "MDKLFIQLVQTYNQLFEENPINASRVDAKAILSARLSKSRRLENLIAQLPGEKRNGLFGN\n",
      "LIALSLGLTPNFKSNFDLAEDAKLQLSKDTYDDDLDNLLAQIGDQYADLFLAAKNLSDAI\n",
      "LLSDILRVNSEITKAPLSASMIKRYDEHHQDLTLLKALVRQQLPEKYKEIFFDQSKNGYA\n",
      "GYIDGGASQEEFYKFIKPILEKMDGTEELLAKLNREDLLRKQRTFDNGSIPHQIHLGELH\n",
      "AILRRQEDFYPFLKDNREKIEKILTFRIPYYVGPLARGNSRFAWMTRKSEETITPWNFEE\n",
      "VVDKGASAQSFIERMTNFDKNLPNEKVLPKHSLLYEYFTVYNELTKVKYVTEGMRKPEFL\n",
      "SGKQKEAIVDLLFKTNRKVTVKQLKEDYFKKIECFDSVEISGV---EDRFNASLGTYHDL\n",
      "LKIIKDKDFLDNEENEDILEDIVLTLTLFEDKEMIEERLKTYAHLFDDKVMKQLKRRHYT\n",
      "GWGRLSRKLINGIRDKQSGKTILDFLKSDGFANRNFIQLIHDDSLTFKEAIQKAQVSGQG\n",
      "HSLHEQIANLAGSPAIKKGILQSVKVVDELVKVMG-HKPENIVIEMARENQTTQKGQKNS\n",
      "RERMKRIEEGIKEL----GSQILKEHPVENTQLQNEKLYLYYLQNGRDMYVDQELDINRL\n",
      "SDYDVDHIVPQSFIKDDSIDNKVLTRSDKNRGKSDDVPSEEVVKKMKNYWRQLLNAKLIT\n",
      "QRKFDNLTKAERGGLSELDKAGFIKRQLVETRQITKHVAQILDSRMNTKYDENDKLIREV\n",
      "KVITLKSKLVSDFRKDFQFYKVREINNYHHAHDAYLNAVVGTALIKKYPKLESEFVYGDY\n",
      "KVYDVRKMIAKSE--QEIGKATAKRFFYSNIMNFFKTEITLANGEIRKRPLIETNEETGE\n",
      "IVWNKGRDFATVRKVLSMPQVNIVKKTEVQTGA----LTNESIYARGS---FDKLISRK-\n",
      "--HRFESSKYGGFGSPTVTYSVLVVAKSKVQDGKVKKIKTGKELIGITLLDKLVFEKNPL\n",
      "KFIEDKGYGNVQIDKCIKLPKYSLFEFENG--TR-RMLASVMANNNSRGDLQKANEMFLP\n",
      "AKLVTLLYHAHKIESSKELE-----HEAYILDHYNDLYQLLSYIERFASLYVDVEKNISK\n",
      "VKELFSNIESYSISEICSSVINLLTLTASGAPADFKFLGTT--IPRKRYG------SPQS\n",
      "ILSSTLIHQSITGLYETRIDLSQLGGD\n",
      ">A0A0E2EP65\n",
      "MKKPYSIGLDIGTNSVGWAVVTDDYKVPAKKMKVLGNTDKSHIKKNLLGALLFDSGNTAE\n",
      "DRRLKRTARRRYTRRRNRILYLQEIFSEEMGKVDDSFFHRLEDSFLVTEDKRGERHPIFG\n",
      "NLEEEVKYHENFPTIYHLRQYLADNPEKTDLRLVYLALAHIIKFGGHFLIEGKFDTRNND\n",
      "VQRLFQEFLAVYDNTFENSSLQEQNVQVEEILTDKISKSAKKDRVLKLFPNEKSNGRFAE\n",
      "FLKLIVGNQADFKKHFELEEKAPLQFSKDIYEEELEVLLAQIGDNYAELFLSAKKLYDSI\n",
      "LLSGILTVTDVSTKAPLSASMIQRYNEHQMDLAQLKQFIRQKLSDKYNEVFSDVSKDGYA\n",
      "GYIDGKTNQEAFYKYLKGLLNKIEGSGYFLDKIEREDFLRKQRTFDNGSIPHQIHLQEMR\n",
      "AIIRRQAEFYPFLADNQDRIEKILTFRIPYYVGPLARGKSDFAWLSRKSADKITPWNFDE\n",
      "IVDKESSVEAFINRMTNYDLYLPNQKVLPKHSLLYEKFTVYNELTKVKYKTEQG-KTAFF\n",
      "DANMKQEIFDGVFKVYRKVTKDKLMDFLEKEFDEFRIVDLTGLDKENKAFNASYGTYHDL\n",
      "RKI-LDKDFLDNSKNEKILEDIVLTLTLFEDREMIRKRLKNYSDLLTKEQLKKLERRHYT\n",
      "GWGRLSAELIHGIRNKESRKTILDYLIDDGNSNRNFMQLINDDALSFKEEIAKAQVIGET\n",
      "DNLNQVVSDIAGSPAIKKGILQSLKIVDELVKIMG-HQPENIVVEMARENQFTNQGRRNS\n",
      "QQRLKGLTDSIKEF----GSQILKEHPVENSQLQNDRLFLYYLQNGRDMYTGEELDIDYL\n",
      "SQYDIDHIIPQAFIKDNSIDNRVLTSSKENRGKSDDVPSKNVVRKMKSYWSKLLSAKLIT\n",
      "QRKFDNLTKAERGGLTDDDKAGFIKRQLVETRQITKHVARILDERFHTETDENNKKIRQV\n",
      "KIVTLKSNLVSNFRKEFELYKVREINDYHHAHDAYLNAVIGKALLGVYPQLEPEFVYGDY\n",
      "PHFHGH----------KENKATAKKFFYSNIMNFFKKDDV-------------RTDKNGE\n",
      "IIWKKDEHISNIKKVLSYPQVNIVKKVEEQTGG----FSKESILPKGN---SDKLIPRKT\n",
      "KKFYWDTKKYGGFDSPIVAYSILVIAD--IEKGKSKKLKTVKALVGVTIMEKMTFERDPV\n",
      "AFLERKGYRNVQEENIIKLPKYSLFKLENG--RK-RLLAS-------ARELQKGNEIVLP\n",
      "NHLGTLLYHAKNIHKVDE-----PKHLDYVDKHKDEFKELLDVVSNFSKKYTLAEGNLEK\n",
      "IKELYAQNNGEDLKELASSFINLLTFTAIGAPATFKFFDKN--IDRKRYT------STTE\n",
      "ILNATLIHQSITGLYETRIDLSKLGGD\n",
      ">A0A150NVN1\n",
      "------------------------------------------------------------\n",
      "------------------------------------------------------------\n",
      "------------------------------------------------------------\n",
      "------------------------------------------------------------\n",
      "------------------------------------------------------------\n",
      "------------------------------------------------------------\n",
      "------------------------------------------------------------\n",
      "------------------------------------------------------------\n",
      "------------------------------------------------------------\n",
      "-----------------------------------------------------------M\n",
      "LKIIKDKEFMDDPKNEEILENIVHTLTIFEDREMIKQRLAQYDSLFDEKVIKALTRRHYT\n",
      "GWGKLSAKLINGICDKQTGKTILDYLIDDGKINRNFMQLINDDGLSFKEIIQKAQVVGKT\n",
      "YDVKQVVQELPGSPAIKKGILQSVKLVDELVKVMG-HAPESIVIEMARENQTTAKGKKNS\n",
      "QQRYKRIEDAIKNLAPGLDSTILKEHPTDNIQLQNDRLFLYYLQNGRDMYTGKPLEINQL\n",
      "SNYDIDHIIPQAFIKDDSLDNRVLTSSKENRGKSDNVPSLEVVEKMKAFWQQLLDSKLIS\n",
      "ERKFNNLTKAERGGLDELDKVGFIKRQLVETRQITKHVAQILDARFNKEVTEKNKKNRNV\n",
      "KIITLKSNMVSNFRKEFGLYKVREINDYHHAHDAYLNAVVAKAILKKYPKLEPEFVYGDY\n",
      "QKYDLKRYISKSKDPKEVEKATEKYFFYSNLLNFFKEEVHYADGTIVKRENIEYSKDTGE\n",
      "IAWNKEKDFATIKKVLSFPQVNIVKKTEEQTVGQNGGLFDNNIVSKEKVVDASKLIPIK-\n",
      "--SGLSPEKYGGYARPTIAYSVLVTYKQN--------NKIKNTMVGIPVLTKLEFERDPN\n",
      "LYLRNLGINNVSH--VIKLVKHTVLEFKHKYGTYRRFIVS-------NQELKRANQIFVT\n",
      "TKQMKLISQYTTLDKNE--------HDSLLKNNQQLIQSIWNQFLEFMLATDLVNKKQYD\n",
      "ELILTNNQTIEECRNIMNRVITTLSFTNINAGQKKIIFDDTLSLPIKRWQFTDSDKMVKK\n",
      "IIESTLIHQSITGLYETRIDLNKLGED\n",
      "\n"
     ]
    }
   ],
   "source": [
    "with open('cas9align.fasta') as f_in:\n",
    "    print(f_in.read())"
   ]
  },
  {
   "cell_type": "code",
   "execution_count": 23,
   "metadata": {
    "collapsed": false
   },
   "outputs": [
    {
     "data": {
      "text/plain": [
       "1"
      ]
     },
     "execution_count": 23,
     "metadata": {},
     "output_type": "execute_result"
    }
   ],
   "source": [
    "from Bio import AlignIO\n",
    "AlignIO.convert(open('cas9align.fasta'), 'fasta', 'cas9align.aln', 'clustal')"
   ]
  },
  {
   "cell_type": "code",
   "execution_count": 50,
   "metadata": {
    "collapsed": false,
    "scrolled": false
   },
   "outputs": [
    {
     "name": "stdout",
     "output_type": "stream",
     "text": [
      "SingleLetterAlphabet() alignment with 8 rows and 1407 columns\n",
      "MDKKYSIGLDIGTNSVGWAVITDDYKVPSKKFKVLGNTDRHSIK...GGD J7M7J1\n",
      "MDKKYSIGLDIGTNSVGWAVITDDYKVPSKKFKVLGNTDRHSIK...GGD A0A0C6FZC2\n",
      "MDKKYSIGLDIGTNSVGWAVITDDYKVPSKKFKVLGNTDRHSIK...GGD A0A1C2CVQ9\n",
      "MDKKYSIGLDIGTNSVGWAVITDDYKVPSKKFKVLGNTDRHSIK...GGD A0A1C2CV43\n",
      "MDKKYSIGLDIGTNSVGWAVITDDYKVPSKKFKVLGNTDRHSIK...GGD Q48TU5\n",
      "MDKKYSIGLDIGTNSVGWAVITDDYKVPSKKFKVLGNTDRHSIK...GGD M4YX12\n",
      "MKKPYSIGLDIGTNSVGWAVVTDDYKVPAKKMKVLGNTDKSHIK...GGD A0A0E2EP65\n",
      "--------------------------------------------...GED A0A150NVN1\n"
     ]
    }
   ],
   "source": [
    "from Bio import AlignIO\n",
    "align = AlignIO.read('cas9align.fasta', 'fasta')\n",
    "print(align)"
   ]
  },
  {
   "cell_type": "code",
   "execution_count": 55,
   "metadata": {
    "collapsed": true
   },
   "outputs": [],
   "source": [
    "from Bio.Alphabet import ProteinAlphabet"
   ]
  },
  {
   "cell_type": "code",
   "execution_count": 56,
   "metadata": {
    "collapsed": false
   },
   "outputs": [],
   "source": [
    "align._alphabet = ProteinAlphabet()"
   ]
  },
  {
   "cell_type": "code",
   "execution_count": 57,
   "metadata": {
    "collapsed": false
   },
   "outputs": [
    {
     "name": "stdout",
     "output_type": "stream",
     "text": [
      "ProteinAlphabet() alignment with 8 rows and 1407 columns\n",
      "MDKKYSIGLDIGTNSVGWAVITDDYKVPSKKFKVLGNTDRHSIK...GGD J7M7J1\n",
      "MDKKYSIGLDIGTNSVGWAVITDDYKVPSKKFKVLGNTDRHSIK...GGD A0A0C6FZC2\n",
      "MDKKYSIGLDIGTNSVGWAVITDDYKVPSKKFKVLGNTDRHSIK...GGD A0A1C2CVQ9\n",
      "MDKKYSIGLDIGTNSVGWAVITDDYKVPSKKFKVLGNTDRHSIK...GGD A0A1C2CV43\n",
      "MDKKYSIGLDIGTNSVGWAVITDDYKVPSKKFKVLGNTDRHSIK...GGD Q48TU5\n",
      "MDKKYSIGLDIGTNSVGWAVITDDYKVPSKKFKVLGNTDRHSIK...GGD M4YX12\n",
      "MKKPYSIGLDIGTNSVGWAVVTDDYKVPAKKMKVLGNTDKSHIK...GGD A0A0E2EP65\n",
      "--------------------------------------------...GED A0A150NVN1\n"
     ]
    }
   ],
   "source": [
    "print(align)"
   ]
  },
  {
   "cell_type": "code",
   "execution_count": 37,
   "metadata": {
    "collapsed": false
   },
   "outputs": [
    {
     "name": "stdout",
     "output_type": "stream",
     "text": [
      "SingleLetterAlphabet() alignment with 5 rows and 5 columns\n",
      "MDKKY A0A1C2CV43\n",
      "MDKKY Q48TU5\n",
      "MDKKY M4YX12\n",
      "MKKPY A0A0E2EP65\n",
      "----- A0A150NVN1\n"
     ]
    }
   ],
   "source": [
    "print(align[3:,:5])"
   ]
  },
  {
   "cell_type": "code",
   "execution_count": 27,
   "metadata": {
    "collapsed": false
   },
   "outputs": [
    {
     "data": {
      "text/plain": [
       "1"
      ]
     },
     "execution_count": 27,
     "metadata": {},
     "output_type": "execute_result"
    }
   ],
   "source": [
    "from Bio import AlignIO\n",
    "AlignIO.write(align, 'cas9align.phy', 'phylip')"
   ]
  },
  {
   "cell_type": "code",
   "execution_count": 22,
   "metadata": {
    "collapsed": true
   },
   "outputs": [
    {
     "name": "stdout",
     "output_type": "stream",
     "text": [
      "CLUSTAL X (1.81) multiple sequence alignment\n",
      "\n",
      "\n",
      "J7M7J1                              MDKKYSIGLDIGTNSVGWAVITDDYKVPSKKFKVLGNTDRHSIKKNLIGA\n",
      "A0A0C6FZC2                          MDKKYSIGLDIGTNSVGWAVITDDYKVPSKKFKVLGNTDRHSIKKNLIGA\n",
      "A0A1C2CVQ9                          MDKKYSIGLDIGTNSVGWAVITDDYKVPSKKFKVLGNTDRHSIKKNLIGA\n",
      "A0A1C2CV43                          MDKKYSIGLDIGTNSVGWAVITDDYKVPSKKFKVLGNTDRHSIKKNLIGA\n",
      "Q48TU5                              MDKKYSIGLDIGTNSVGWAVITDDYKVPSKKFKVLGNTDRHSIKKNLIGA\n",
      "M4YX12                              MDKKYSIGLDIGTNSVGWAVITDDYKVPSKKFKVLGNTDRHSIKKNLIGA\n",
      "A0A0E2EP65                          MKKPYSIGLDIGTNSVGWAVVTDDYKVPAKKMKVLGNTDKSHIKKNLLGA\n",
      "A0A150NVN1                          --------------------------------------------------\n",
      "\n",
      "J7M7J1                              LLFDSGETAEATRLKRTARRRYTRRKNRICYLQEIFSNEMAKVDDSFFHR\n",
      "A0A0C6FZC2                          LLFDSGETAEATRLKRTARRRYTRRKNRICYLQEIFSNEMAKVDDSFFHR\n",
      "A0A1C2CVQ9                          LLFDSGETAEATRLKRTARRRYTRRKNRIRYLQEIFSSEMSKVDDSFFHR\n",
      "A0A1C2CV43                          LLFDSGETAEATRLKRTARRRYTRRKNRIRYLQEIFSSEMSKVDDSFFHR\n",
      "Q48TU5                              LLFDSGETAEATRLKRTARRRYTRRKNRICYLQEIFSNEMAKVDDSFFHR\n",
      "M4YX12                              LLFDSGETAEATRLKRTARRRYTRRKNRIRYLQEIFSSEMSKVDDSFFHR\n",
      "A0A0E2EP65                          LLFDSGNTAEDRRLKRTARRRYTRRRNRILYLQEIFSEEMGKVDDSFFHR\n",
      "A0A150NVN1                          --------------------------------------------------\n",
      "\n",
      "J7M7J1                              LEESFLVEEDKKHERHPIFGNIVDEVAYHEKYPTIYHLRKKLVDSTDKAD\n",
      "A0A0C6FZC2                          LEESFLVEEDKKHERHPIFGNIVDEVAYHEKYPTIYHLRKKLVDSTDKAD\n",
      "A0A1C2CVQ9                          LEESFLVEEDKKHERHPIFGNIVDEVAYHEKYPTIYHLRKKLADSTDKAD\n",
      "A0A1C2CV43                          LEESFLVEEDKKHERHPIFGNIVDEVAYHEKYPTIYHLRKKLADSTDKAD\n",
      "Q48TU5                              LEESFLVEEDKKHERHPIFGNIVDEVAYHEKYPTIYHLRKKLVDSTDKAD\n",
      "M4YX12                              LEESFLVEEDKKHERHPIFGNIVDEVAYHEKYPTIYHLRKKLADSTDKAD\n",
      "A0A0E2EP65                          LEDSFLVTEDKRGERHPIFGNLEEEVKYHENFPTIYHLRQYLADNPEKTD\n",
      "A0A150NVN1                          --------------------------------------------------\n",
      "\n",
      "J7M7J1                              LRLIYLALAHMIKFRGHFLIEGDLNPDNSDVDKLFIQLVQTYNQLFEENP\n",
      "A0A0C6FZC2                          LRLIYLALAHMIKFRGHFLIEGDLNPDNSDVDKLFIQLVQTYNQLFEENP\n",
      "A0A1C2CVQ9                          LRLIYLALAHMIKFRGHFLIEGDLNPDNSDVDKLFIQLVQTYNQLFEENP\n",
      "A0A1C2CV43                          LRLIYLALAHMIKFRGHFLIEGDLNPDNSDMDKLFIQLVQTYNQLFEENP\n",
      "Q48TU5                              LRLIYLALAHMIKFRGHFLIEGDLNPDNSDVDKLFIQLVQTYNQLFEENP\n",
      "M4YX12                              LRLIYLALAHMIKFRGHFLIEGDLNPDNSDMDKLFIQLVQTYNQLFEENP\n",
      "A0A0E2EP65                          LRLVYLALAHIIKFGGHFLIEGKFDTRNNDVQRLFQEFLAVYDNTFENSS\n",
      "A0A150NVN1                          --------------------------------------------------\n",
      "\n",
      "J7M7J1                              INASGVDAKAILSARLSKSRRLENLIAQLPGEKKNGLFGNLIALSLGLTP\n",
      "A0A0C6FZC2                          INASGVDAKAILSARLSKSRRLENLIAQLPGEKKNGLFGNLIALSLGLTP\n",
      "A0A1C2CVQ9                          INASRVDAKAILSARLSKSRRLENLIAQLPGEKRNGLFGNLIALSLGLTP\n",
      "A0A1C2CV43                          INASRVDAKAILSARLSKSRRLENLIAQLPGEKRNGLFGNLIALSLGLTP\n",
      "Q48TU5                              INASGVDAKAILSARLSKSRRLENLIAQLPGEKKNGLFGNLIALSLGLTP\n",
      "M4YX12                              INASRVDAKAILSARLSKSRRLENLIAQLPGEKRNGLFGNLIALSLGLTP\n",
      "A0A0E2EP65                          LQEQNVQVEEILTDKISKSAKKDRVLKLFPNEKSNGRFAEFLKLIVGNQA\n",
      "A0A150NVN1                          --------------------------------------------------\n",
      "\n",
      "J7M7J1                              NFKSNFDLAEDAKLQLSKDTYDDDLDNLLAQIGDQYADLFLAAKNLSDAI\n",
      "A0A0C6FZC2                          NFKSNFDLAEDAKLQLSKDTYDDDLDNLLAQIGDQYADLFLAAKNLSDAI\n",
      "A0A1C2CVQ9                          NFKSNFDLAEDAKLQLSKDTYDDDLDNLLAQIGDQYADLFLAAKNLSDAI\n",
      "A0A1C2CV43                          NFKSNFDLAEDAKLQLSKDTYDDDLDNLLAQIGDQYADLFLAAKNLSDAI\n",
      "Q48TU5                              NFKSNFDLAEDAKLQLSKDTYDDDLDNLLAQIGDQYADLFLAAKNLSDAI\n",
      "M4YX12                              NFKSNFDLAEDAKLQLSKDTYDDDLDNLLAQIGDQYADLFLAAKNLSDAI\n",
      "A0A0E2EP65                          DFKKHFELEEKAPLQFSKDIYEEELEVLLAQIGDNYAELFLSAKKLYDSI\n",
      "A0A150NVN1                          --------------------------------------------------\n",
      "\n",
      "J7M7J1                              LLSDILRVNTEITKAPLSASMIKRYDEHHQDLTLLKALVRQQLPEKYKEI\n",
      "A0A0C6FZC2                          LLSDILRVNTEITKAPLSASMIKRYDEHHQDLTLLKALVRQQLPEKYKEI\n",
      "A0A1C2CVQ9                          LLSDILRVNSEITKAPLSASMIKRYDEHHQDLTLLKALVRQQLPEKYKEI\n",
      "A0A1C2CV43                          LLSDILRVNSEITKAPLSASMIKRYDEHHQDLTLLKALVRQQLPEKYKEI\n",
      "Q48TU5                              LLSDILRLNSEITKAPLSASMIKRYDEHHQDLTLLKALVRQQLPEKYKEI\n",
      "M4YX12                              LLSDILRVNSEITKAPLSASMIKRYDEHHQDLTLLKALVRQQLPEKYKEI\n",
      "A0A0E2EP65                          LLSGILTVTDVSTKAPLSASMIQRYNEHQMDLAQLKQFIRQKLSDKYNEV\n",
      "A0A150NVN1                          --------------------------------------------------\n",
      "\n",
      "J7M7J1                              FFDQSKNGYAGYIDGGASQEEFYKFIKPILEKMDGTEELLVKLNREDLLR\n",
      "A0A0C6FZC2                          FFDQSKNGYAGYIDGGASQEEFYKFIKPILEKMDGTEELLVKLNREDLLR\n",
      "A0A1C2CVQ9                          FFDQSKNGYAGYIDGGASQEEFYKFIKPILEKMDGTEELLAKLNREDLLR\n",
      "A0A1C2CV43                          FFDQSKNGYAGYIDGGASQEEFYKFIKPILEKMDGTEELLAKLNREDLLR\n",
      "Q48TU5                              FFDQSKNGYAGYIDGGASQEEFYKFIKPILEKMDGTEELLAKLNREDLLR\n",
      "M4YX12                              FFDQSKNGYAGYIDGGASQEEFYKFIKPILEKMDGTEELLAKLNREDLLR\n",
      "A0A0E2EP65                          FSDVSKDGYAGYIDGKTNQEAFYKYLKGLLNKIEGSGYFLDKIEREDFLR\n",
      "A0A150NVN1                          --------------------------------------------------\n",
      "\n",
      "J7M7J1                              KQRTFDNGSIPHQIHLGELHAILRRQEDFYPFLKDNREKIEKILTFRIPY\n",
      "A0A0C6FZC2                          KQRTFDNGSIPHQIHLGELHAILRRQEDFYPFLKDNREKIEKILTFRIPY\n",
      "A0A1C2CVQ9                          KQRTFDNGSIPHQIHLGELHAILRRQEDFYPFLKDNREKIEKILTFRIPY\n",
      "A0A1C2CV43                          KQRTFDNGSIPHQIHLGELHAILRRQEDFYPFLKDNREKIEKILTFRIPY\n",
      "Q48TU5                              KQRTFDNGSIPHQIHLGELHAILRRQEDFYPFLKDNREKIEKILTFRIPY\n",
      "M4YX12                              KQRTFDNGSIPHQIHLGELHAILRRQEDFYPFLKDNREKIEKILTFRIPY\n",
      "A0A0E2EP65                          KQRTFDNGSIPHQIHLQEMRAIIRRQAEFYPFLADNQDRIEKILTFRIPY\n",
      "A0A150NVN1                          --------------------------------------------------\n",
      "\n",
      "J7M7J1                              YVGPLARGNSRFAWMTRKSEETITPWNFEEVVDKGASAQSFIERMTNFDK\n",
      "A0A0C6FZC2                          YVGPLARGNSRFAWMTRKSEETITPWNFEEVVDKGASAQSFIERMTNFDK\n",
      "A0A1C2CVQ9                          YVGPLARGNSRFAWMTRKSEETITPWNFEEVVDKGASAQSFIERMTNFDK\n",
      "A0A1C2CV43                          YVGPLARGNSRFAWMTRKSEETITPWNFEEVVDKGASAQSFIERMTNFDK\n",
      "Q48TU5                              YVGPLARGNSRFAWMTRKSEETITPWNFEEVVDKGASAQSFIERMTNFDK\n",
      "M4YX12                              YVGPLARGNSRFAWMTRKSEETITPWNFEEVVDKGASAQSFIERMTNFDK\n",
      "A0A0E2EP65                          YVGPLARGKSDFAWLSRKSADKITPWNFDEIVDKESSVEAFINRMTNYDL\n",
      "A0A150NVN1                          --------------------------------------------------\n",
      "\n",
      "J7M7J1                              NLPNEKVLPKHSLLYEYFTVYNELTKVKYVTEGMRKPAFLSGEQKKAIVD\n",
      "A0A0C6FZC2                          NLPNEKVLPKHSLLYEYFTVYNELTKVKYVTEGMRKPAFLSGEQKKAIVD\n",
      "A0A1C2CVQ9                          NLPNEKVLPKHSLLYEYFTVYNELTKVKYVTEGMRKPAFLSGEQKKAIVD\n",
      "A0A1C2CV43                          NLPNEKVLPKHSLLYEYFTVYNELTKVKYVTEGMRKPEFLSGKQKEAIVD\n",
      "Q48TU5                              NLPNEKVLPKHSLLYEYFTVYNELTKVKYVTEGMRKPAFLSGEQKKAIVD\n",
      "M4YX12                              NLPNEKVLPKHSLLYEYFTVYNELTKVKYVTEGMRKPEFLSGKQKEAIVD\n",
      "A0A0E2EP65                          YLPNQKVLPKHSLLYEKFTVYNELTKVKYKTEQG-KTAFFDANMKQEIFD\n",
      "A0A150NVN1                          --------------------------------------------------\n",
      "\n",
      "J7M7J1                              LLFKTNRKVTVKQLKEDYFKKIECFDSVEISGV---EDRFNASLGTYHDL\n",
      "A0A0C6FZC2                          LLFKTNRKVTVKQLKEDYFKKIECFDSVEISGV---EDRFNASLGTYHDL\n",
      "A0A1C2CVQ9                          LLFKTNRKVTVKQLKEDYFKKIECFDSVEISGV---EDRFNASLGTYHDL\n",
      "A0A1C2CV43                          LLFKTNRKVTVKQLKEDYFKKIEYFDSVEISGV---EDRFNASLGTYHDL\n",
      "Q48TU5                              LLFKTNRKVTVKQLKEDYFKKIECFDSVEISGV---EDRFNASLGTYHDL\n",
      "M4YX12                              LLFKTNRKVTVKQLKEDYFKKIECFDSVEISGV---EDRFNASLGTYHDL\n",
      "A0A0E2EP65                          GVFKVYRKVTKDKLMDFLEKEFDEFRIVDLTGLDKENKAFNASYGTYHDL\n",
      "A0A150NVN1                          -------------------------------------------------M\n",
      "\n",
      "J7M7J1                              LKIIKDKDFLDNEENEDILEDIVLTLTLFEDREMIEERLKTYAHLFDDKV\n",
      "A0A0C6FZC2                          LKIIKDKDFLDNEENEDILEDIVLTLTLFEDREMIEERLKTYAHLFDDKV\n",
      "A0A1C2CVQ9                          LKIIKDKDFLDNEENEDILEDIVLTLTLFEDKEMIEERLKTYAHLFDDKV\n",
      "A0A1C2CV43                          LKIIKDKDFLDNEENEDILEDIVLTLTLFEDKEMIEERLKKYANLFDDKV\n",
      "Q48TU5                              LKIIKDKDFLDNEENEDILEDIVLTLTLFEDREMIEERLKTYAHLFDDKV\n",
      "M4YX12                              LKIIKDKDFLDNEENEDILEDIVLTLTLFEDKEMIEERLKTYAHLFDDKV\n",
      "A0A0E2EP65                          RKI-LDKDFLDNSKNEKILEDIVLTLTLFEDREMIRKRLKNYSDLLTKEQ\n",
      "A0A150NVN1                          LKIIKDKEFMDDPKNEEILENIVHTLTIFEDREMIKQRLAQYDSLFDEKV\n",
      "\n",
      "J7M7J1                              MKQLKRRRYTGWGRLSRKLINGIRDKQSGKTILDFLKSDGFANRNFMQLI\n",
      "A0A0C6FZC2                          MKQLKRRRYTGWGRLSRKLINGIRDKQSGKTILDFLKSDGFANRNFMQLI\n",
      "A0A1C2CVQ9                          MKQLKRRHYTGWGRLSRKLINGIRDKQSGKTILDFLKSDGFANRNFIQLI\n",
      "A0A1C2CV43                          MKQLKRRHYTGWGRLSRKLINGIRDKQSGKTILDFLKSDGFANRNFMQLI\n",
      "Q48TU5                              MKQLKRRRYTGWGRLSRKLINGIRDKQSGKTILDFLKSDGFANRNFMQLI\n",
      "M4YX12                              MKQLKRRHYTGWGRLSRKLINGIRDKQSGKTILDFLKSDGFANRNFIQLI\n",
      "A0A0E2EP65                          LKKLERRHYTGWGRLSAELIHGIRNKESRKTILDYLIDDGNSNRNFMQLI\n",
      "A0A150NVN1                          IKALTRRHYTGWGKLSAKLINGICDKQTGKTILDYLIDDGKINRNFMQLI\n",
      "\n",
      "J7M7J1                              HDDSLTFKEDIQKAQVSGQGDSLHEHIANLAGSPAIKKGILQTVKVVDEL\n",
      "A0A0C6FZC2                          HDDSLTFKEDIQKAQVSGQGDSLHEHIANLAGSPAIKKGILQTVKVVDEL\n",
      "A0A1C2CVQ9                          HDDSLTFKEAIQKAQVSGQGHSLHEQIANLAGSPAIKKGILQSVKVVDEL\n",
      "A0A1C2CV43                          NDDSLTFKEAIQKAQVSGQGHSLHEQIANLAGSPAIKKGILQSVKVVDEL\n",
      "Q48TU5                              HDDSLTFKEDIQKAQVSGQGDSLHEHIANLAGSPAIKKGILQTVKVVDEL\n",
      "M4YX12                              HDDSLTFKEAIQKAQVSGQGHSLHEQIANLAGSPAIKKGILQSVKVVDEL\n",
      "A0A0E2EP65                          NDDALSFKEEIAKAQVIGETDNLNQVVSDIAGSPAIKKGILQSLKIVDEL\n",
      "A0A150NVN1                          NDDGLSFKEIIQKAQVVGKTYDVKQVVQELPGSPAIKKGILQSVKLVDEL\n",
      "\n",
      "J7M7J1                              VKVMGRHKPENIVIEMARENQTTQKGQKNSRERMKRIEEGIKEL----GS\n",
      "A0A0C6FZC2                          VKVMGRHKPENIVIEMARENQTTQKGQKNSRERMKRIEEGIKEL----GS\n",
      "A0A1C2CVQ9                          VKVMG-HKPENIVIEMARENQTTQKGQKNSRERMKRIEEGIKEL----GS\n",
      "A0A1C2CV43                          VKVMG-HKPENIVIEMARENQTTQKGQKNSRERMKRIEEGIKEL----GS\n",
      "Q48TU5                              VKVMGRHKPENIVIEMARENQTTQKGQKNSRERMKRIEEGIKEL----GS\n",
      "M4YX12                              VKVMG-HKPENIVIEMARENQTTQKGQKNSRERMKRIEEGIKEL----GS\n",
      "A0A0E2EP65                          VKIMG-HQPENIVVEMARENQFTNQGRRNSQQRLKGLTDSIKEF----GS\n",
      "A0A150NVN1                          VKVMG-HAPESIVIEMARENQTTAKGKKNSQQRYKRIEDAIKNLAPGLDS\n",
      "\n",
      "J7M7J1                              QILKEHPVENTQLQNEKLYLYYLQNGRDMYVDQELDINRLSDYDVDHIVP\n",
      "A0A0C6FZC2                          QILKEHPVENTQLQNEKLYLYYLQNGRDMYVDQELDINRLSDYDVDHIVP\n",
      "A0A1C2CVQ9                          QILKEHPVENTQLQNEKLYLYYLQNGRDMYVDQELDINRLSDYDVDHIVP\n",
      "A0A1C2CV43                          QILKEHPVENTQLQNEKLYLYYLQNGRDMYVDQELDINRLSDYDVDHIVP\n",
      "Q48TU5                              QILKEHPVENTQLQNEKLYLYYLQNGRDMYVDQELDINRLSDYDVDHIVP\n",
      "M4YX12                              QILKEHPVENTQLQNEKLYLYYLQNGRDMYVDQELDINRLSDYDVDHIVP\n",
      "A0A0E2EP65                          QILKEHPVENSQLQNDRLFLYYLQNGRDMYTGEELDIDYLSQYDIDHIIP\n",
      "A0A150NVN1                          TILKEHPTDNIQLQNDRLFLYYLQNGRDMYTGKPLEINQLSNYDIDHIIP\n",
      "\n",
      "J7M7J1                              QSFLKDDSIDNKVLTRSDKNRGKSDNVPSEEVVKKMKNYWRQLLNAKLIT\n",
      "A0A0C6FZC2                          QSFLKDDSIDNKVLTRSDKNRGKSDNVPSEEVVKKMKNYWRQLLNAKLIT\n",
      "A0A1C2CVQ9                          QSFIKDDSIDNKVLTRSDKNRGKSDNVPSEEVVKKMKNYWRQLLNAKLIT\n",
      "A0A1C2CV43                          QSFIKDDSIDNKVLTRSDKNRGKSDNVPSEEVVKKMKNYWRQLLNAKLIT\n",
      "Q48TU5                              QSFIKDDSIDNKVLTRSDKNRGKSNNVPSEEVVKKMKNYWRQLLNAKLIT\n",
      "M4YX12                              QSFIKDDSIDNKVLTRSDKNRGKSDDVPSEEVVKKMKNYWRQLLNAKLIT\n",
      "A0A0E2EP65                          QAFIKDNSIDNRVLTSSKENRGKSDDVPSKNVVRKMKSYWSKLLSAKLIT\n",
      "A0A150NVN1                          QAFIKDDSLDNRVLTSSKENRGKSDNVPSLEVVEKMKAFWQQLLDSKLIS\n",
      "\n",
      "J7M7J1                              QRKFDNLTKAERGGLSELDKAGFIKRQLVETRQITKHVAQILDSRMNTKY\n",
      "A0A0C6FZC2                          QRKFDNLTKAERGGLSELDKAGFIKRQLVETRQITKHVAQILDSRMNTKY\n",
      "A0A1C2CVQ9                          QRKFDNLTKAERGGLSELDKAGFIKRQLVETRQITKHVAQILDSRMNTKY\n",
      "A0A1C2CV43                          QRKFDNLTKAERGGLSELDKAGFIKRQLVETRQITKHVAQILDSRMNTKY\n",
      "Q48TU5                              QRKFDNLTKAERGGLSELDKAGFIKRQLVETRQITKHVAQILDSRMNTKY\n",
      "M4YX12                              QRKFDNLTKAERGGLSELDKAGFIKRQLVETRQITKHVAQILDSRMNTKY\n",
      "A0A0E2EP65                          QRKFDNLTKAERGGLTDDDKAGFIKRQLVETRQITKHVARILDERFHTET\n",
      "A0A150NVN1                          ERKFNNLTKAERGGLDELDKVGFIKRQLVETRQITKHVAQILDARFNKEV\n",
      "\n",
      "J7M7J1                              DENDKLIREVKVITLKSKLVSDFRKDFQFYKVREINNYHHAHDAYLNAVV\n",
      "A0A0C6FZC2                          DENDKLIREVKVITLKSKLVSDFRKDFQFYKVREINNYHHAHDAYLNAVV\n",
      "A0A1C2CVQ9                          DENDKLIREVKVITLKSKLVSDFRKDFQFYKVREINNYHHAHDAYLNAVV\n",
      "A0A1C2CV43                          DENDKLIREVKVITLKSKLVSDFRKDFQFYKVREINNYHHAHDAYLNAVV\n",
      "Q48TU5                              DENDKLIREVKVITLKSKLVSDFRKDFQFYKVREINNYHHAHDAYLNAVV\n",
      "M4YX12                              DENDKLIREVKVITLKSKLVSDFRKDFQFYKVREINNYHHAHDAYLNAVV\n",
      "A0A0E2EP65                          DENNKKIRQVKIVTLKSNLVSNFRKEFELYKVREINDYHHAHDAYLNAVI\n",
      "A0A150NVN1                          TEKNKKNRNVKIITLKSNMVSNFRKEFGLYKVREINDYHHAHDAYLNAVV\n",
      "\n",
      "J7M7J1                              GTALIKKYPKLESEFVYGDYKVYDVRKMIAKSE--QEIGKATAKYFFYSN\n",
      "A0A0C6FZC2                          GTALIKKYPKLESEFVYGDYKVYDVRKMIAKSE--QEIGKATAKYFFYSN\n",
      "A0A1C2CVQ9                          GTALIKKYPKLESEFVYGDYKVYDVRKMIAKSE--QEIGKATAKRFFYSN\n",
      "A0A1C2CV43                          GTALIKKYPKLESEFVYGDYKVYDVRKMIAKSE--QEIGKATAKRFFYSN\n",
      "Q48TU5                              GTALIKKYPKLESEFVYGDYKVYDVRKMIAKSE--QEIGKATAKYFFYSN\n",
      "M4YX12                              GTALIKKYPKLESEFVYGDYKVYDVRKMIAKSE--QEIGKATAKRFFYSN\n",
      "A0A0E2EP65                          GKALLGVYPQLEPEFVYGDYPHFHGH----------KENKATAKKFFYSN\n",
      "A0A150NVN1                          AKAILKKYPKLEPEFVYGDYQKYDLKRYISKSKDPKEVEKATEKYFFYSN\n",
      "\n",
      "J7M7J1                              IMNFFKTEITLANGEIRKRPLIETNGETGEIVWDKGRDFATVRKVLSMPQ\n",
      "A0A0C6FZC2                          IMNFFKTEITLANGEIRKRPLIETNGETGEIVWDKGRDFATVRKVLSMPQ\n",
      "A0A1C2CVQ9                          IMNFFKTEITLANGEIRKRPLIETNEETGEIVWDKGRDFATVRKVLSMPQ\n",
      "A0A1C2CV43                          IMNFFKTEITLANGEIRKRPLIETNEETGEIVWDKGRDFATVRKVLSMPQ\n",
      "Q48TU5                              IMNFFKTEITLANGEIRKRPLIETNGETGEIVWDKGRDFATVRKVLSMPQ\n",
      "M4YX12                              IMNFFKTEITLANGEIRKRPLIETNEETGEIVWNKGRDFATVRKVLSMPQ\n",
      "A0A0E2EP65                          IMNFFKKDDV-------------RTDKNGEIIWKKDEHISNIKKVLSYPQ\n",
      "A0A150NVN1                          LLNFFKEEVHYADGTIVKRENIEYSKDTGEIAWNKEKDFATIKKVLSFPQ\n",
      "\n",
      "J7M7J1                              VNIVKKTEVQTGG----FSKESILPKRN---SDKLIARK---KDWDPKKY\n",
      "A0A0C6FZC2                          VNIVKKTEVQTGG----FSKESILPKRN---SDKLIARK---KDWDPKKY\n",
      "A0A1C2CVQ9                          VNIVKKTEVQTGA----LTNESIYARGS---FDKLISRK---HRFESSKY\n",
      "A0A1C2CV43                          VNIVKKTEVQTGA----LTNESIYARGS---FDKLISRK---HRFESSKY\n",
      "Q48TU5                              VNIVKKTEVQTGG----FSKESILPKRN---SDKLIARK---KDWDPKKY\n",
      "M4YX12                              VNIVKKTEVQTGA----LTNESIYARGS---FDKLISRK---HRFESSKY\n",
      "A0A0E2EP65                          VNIVKKVEEQTGG----FSKESILPKGN---SDKLIPRKTKKFYWDTKKY\n",
      "A0A150NVN1                          VNIVKKTEEQTVGQNGGLFDNNIVSKEKVVDASKLIPIK---SGLSPEKY\n",
      "\n",
      "J7M7J1                              GGFDSPTVAYSVLVVAK--VEKGKSKKLKSVKELLGITIMERSSFEKNPI\n",
      "A0A0C6FZC2                          GGFDSPTVAYSVLVVAK--VEKGKSKKLKSVKELLGITIMERSSFEKNPI\n",
      "A0A1C2CVQ9                          GGFGSPTVTYSVLVVAKSKVQDGKVKKIKTGKELIGITLLDKLVFEKNPL\n",
      "A0A1C2CV43                          GGFGSPTVTYSVLVVAKSKVQDGKVKKIKTGKELIGITLLDKLVFEKNPL\n",
      "Q48TU5                              GGFDSPTVAYSVLVVAK--VEKGKSKKLKSVKELLGITIMERSSFEKNPI\n",
      "M4YX12                              GGFGSPTVTYSVLVVAKSKVQDGKVKKIKTGKELIGITLLDKLVFEKNPL\n",
      "A0A0E2EP65                          GGFDSPIVAYSILVIAD--IEKGKSKKLKTVKALVGVTIMEKMTFERDPV\n",
      "A0A150NVN1                          GGYARPTIAYSVLVTYKQN--------NKIKNTMVGIPVLTKLEFERDPN\n",
      "\n",
      "J7M7J1                              DFLEAKGYKEVKKDLIIKLPKYSLFELENG--RK-RMLAS-------AGE\n",
      "A0A0C6FZC2                          DFLEAKGYKEVKKDLIIKLPKYSLFELENG--RK-RMLAS-------AGE\n",
      "A0A1C2CVQ9                          KFIEDKGYGNVQIDKCIKLPKYSLFEFENG--TR-RMLASVMANNNSRGD\n",
      "A0A1C2CV43                          KFIEDKGYGNVQIDKCIKLPKYSLFEFENG--TR-RMLASVMANNNSRGD\n",
      "Q48TU5                              DFLEAKGYKEVRKDLIVKLPKYSLFELENG--RK-RMLAS-------AGE\n",
      "M4YX12                              KFIEDKGYGNVQIDKCIKLPKYSLFEFENG--TR-RMLASVMANNNSRGD\n",
      "A0A0E2EP65                          AFLERKGYRNVQEENIIKLPKYSLFKLENG--RK-RLLAS-------ARE\n",
      "A0A150NVN1                          LYLRNLGINNVSH--VIKLVKHTVLEFKHKYGTYRRFIVS-------NQE\n",
      "\n",
      "J7M7J1                              LQKGNELALPSKYVNFLYLASHYEKLKGSPEDNEQKQLFVEQHKHYLDEI\n",
      "A0A0C6FZC2                          LQKGNELALPSKYVNFLYLASHYEKLKGSPEDNEQKQLFVEQHKHYLDEI\n",
      "A0A1C2CVQ9                          LQKANEMFLPAKLVTLLYHAHKIESSKELE-----HEAYILDHYNDLYQL\n",
      "A0A1C2CV43                          LQKANEMFLPAKLVTLLYHAHKIESSKELE-----HEAYILDHYNDLYQL\n",
      "Q48TU5                              LQKGNELALPSKYVNFLYLASHYEKLKGSPEDNEQKQLFVEQHKHYLDEI\n",
      "M4YX12                              LQKANEMFLPAKLVTLLYHAHKIESSKELE-----HEAYILDHYNDLYQL\n",
      "A0A0E2EP65                          LQKGNEIVLPNHLGTLLYHAKNIHKVDE-----PKHLDYVDKHKDEFKEL\n",
      "A0A150NVN1                          LKRANQIFVTTKQMKLISQYTTLDKNE--------HDSLLKNNQQLIQSI\n",
      "\n",
      "J7M7J1                              IEQISEFSKRVILADANLDKVLSAYNKHRDKPIREQAENIIHLFTLTNLG\n",
      "A0A0C6FZC2                          IEQISEFSKRVILADANLDKVLSAYNKHRDKPIREQAENIIHLFTLTNLG\n",
      "A0A1C2CVQ9                          LSYIERFASLYVDVEKNISKVKELFSNIESYSISEICSSVINLLTLTASG\n",
      "A0A1C2CV43                          LSYIERFASLYVDVEKNISKVKELFSNIESYSISEICSSVINLLTLTASG\n",
      "Q48TU5                              IEQISEFSKRVILADANLDKVLSAYNKHRDKPIREQAENIIHLFTLTNLG\n",
      "M4YX12                              LSYIERFASLYVDVEKNISKVKELFSNIESYSISEICSSVINLLTLTASG\n",
      "A0A0E2EP65                          LDVVSNFSKKYTLAEGNLEKIKELYAQNNGEDLKELASSFINLLTFTAIG\n",
      "A0A150NVN1                          WNQFLEFMLATDLVNKKQYDELILTNNQTIEECRNIMNRVITTLSFTNIN\n",
      "\n",
      "J7M7J1                              APAAFKYFDTT--IDRKRYT------STKEVLDATLIHQSITGLYETRID\n",
      "A0A0C6FZC2                          APAAFKYFDTT--IDRKRYT------STKEVLDATLIHQSITGLYETRID\n",
      "A0A1C2CVQ9                          APADFKFLGTT--IPRKRYG------SPQSILSSTLIHQSITGLYETRID\n",
      "A0A1C2CV43                          APADFKFLGTT--IPRKRYG------SPQSILSSTLIHQSITGLYETRID\n",
      "Q48TU5                              APAAFKYFDTT--IDRKRYT------STKEVLDATFIHQSITGLYETRID\n",
      "M4YX12                              APADFKFLGTT--IPRKRYG------SPQSILSSTLIHQSITGLYETRID\n",
      "A0A0E2EP65                          APATFKFFDKN--IDRKRYT------STTEILNATLIHQSITGLYETRID\n",
      "A0A150NVN1                          AGQKKIIFDDTLSLPIKRWQFTDSDKMVKKIIESTLIHQSITGLYETRID\n",
      "\n",
      "J7M7J1                              LSQLGGD\n",
      "A0A0C6FZC2                          LSQLGGD\n",
      "A0A1C2CVQ9                          LSQLGGD\n",
      "A0A1C2CV43                          LSQLGGD\n",
      "Q48TU5                              LSQLGGD\n",
      "M4YX12                              LSQLGGD\n",
      "A0A0E2EP65                          LSKLGGD\n",
      "A0A150NVN1                          LNKLGED\n",
      "\n",
      "\n",
      "\n"
     ]
    }
   ],
   "source": [
    "with open('cas9align.aln') as f_in:\n",
    "    print(f_in.read())"
   ]
  },
  {
   "cell_type": "code",
   "execution_count": 4,
   "metadata": {
    "collapsed": false
   },
   "outputs": [
    {
     "name": "stdout",
     "output_type": "stream",
     "text": [
      "  % Total    % Received % Xferd  Average Speed   Time    Time     Time  Current\n",
      "                                 Dload  Upload   Total   Spent    Left  Speed\n",
      "100  402k  100  402k    0     0  1118k      0 --:--:-- --:--:-- --:--:-- 1121k\n"
     ]
    }
   ],
   "source": [
    "!curl https://raw.githubusercontent.com/Serulab/Py4Bio/master/samples/conglycinin.multiple.phy -o conglycinin.multiple.phy"
   ]
  },
  {
   "cell_type": "code",
   "execution_count": 5,
   "metadata": {
    "collapsed": false
   },
   "outputs": [
    {
     "name": "stdout",
     "output_type": "stream",
     "text": [
      "5\n",
      "5\n",
      "5\n",
      "5\n",
      "5\n",
      "5\n",
      "5\n",
      "5\n",
      "5\n",
      "5\n",
      "5\n",
      "5\n",
      "5\n",
      "5\n",
      "5\n",
      "5\n",
      "5\n",
      "5\n",
      "5\n",
      "5\n",
      "5\n",
      "5\n",
      "5\n",
      "5\n",
      "5\n",
      "5\n",
      "5\n",
      "5\n",
      "5\n",
      "5\n",
      "5\n",
      "5\n",
      "5\n",
      "5\n",
      "5\n",
      "5\n",
      "5\n",
      "5\n",
      "5\n",
      "5\n",
      "5\n",
      "5\n",
      "5\n",
      "5\n",
      "5\n",
      "5\n",
      "5\n",
      "5\n",
      "5\n",
      "5\n",
      "5\n",
      "5\n",
      "5\n",
      "5\n",
      "5\n",
      "5\n",
      "5\n",
      "5\n",
      "5\n",
      "5\n",
      "5\n",
      "5\n",
      "5\n",
      "5\n",
      "5\n",
      "5\n",
      "5\n",
      "5\n",
      "5\n",
      "5\n",
      "5\n",
      "5\n",
      "5\n",
      "5\n",
      "5\n",
      "5\n",
      "5\n",
      "5\n",
      "5\n",
      "5\n",
      "5\n",
      "5\n",
      "5\n",
      "5\n",
      "5\n",
      "5\n",
      "5\n",
      "5\n",
      "5\n",
      "5\n",
      "5\n",
      "5\n",
      "5\n",
      "5\n",
      "5\n",
      "5\n",
      "5\n",
      "5\n",
      "5\n",
      "5\n"
     ]
    }
   ],
   "source": [
    "from Bio import AlignIO\n",
    "for alignment in AlignIO.parse('conglycinin.multiple.phy', 'phylip'):\n",
    "    print(len(alignment))"
   ]
  },
  {
   "cell_type": "markdown",
   "metadata": {},
   "source": [
    "AlignInfo\n",
    "---------"
   ]
  },
  {
   "cell_type": "code",
   "execution_count": 11,
   "metadata": {
    "collapsed": false
   },
   "outputs": [
    {
     "ename": "FileNotFoundError",
     "evalue": "[Errno 2] No such file or directory: 'cas9align.fasta'",
     "output_type": "error",
     "traceback": [
      "\u001b[0;31m---------------------------------------------------------------------------\u001b[0m",
      "\u001b[0;31mFileNotFoundError\u001b[0m                         Traceback (most recent call last)",
      "\u001b[0;32m<ipython-input-11-4c40bd1d1859>\u001b[0m in \u001b[0;36m<module>\u001b[0;34m()\u001b[0m\n\u001b[1;32m      3\u001b[0m \u001b[0;32mfrom\u001b[0m \u001b[0mBio\u001b[0m\u001b[0;34m.\u001b[0m\u001b[0mAlphabet\u001b[0m \u001b[0;32mimport\u001b[0m \u001b[0mProteinAlphabet\u001b[0m\u001b[0;34m\u001b[0m\u001b[0m\n\u001b[1;32m      4\u001b[0m \u001b[0;34m\u001b[0m\u001b[0m\n\u001b[0;32m----> 5\u001b[0;31m \u001b[0malign\u001b[0m \u001b[0;34m=\u001b[0m \u001b[0mAlignIO\u001b[0m\u001b[0;34m.\u001b[0m\u001b[0mread\u001b[0m\u001b[0;34m(\u001b[0m\u001b[0;34m'cas9align.fasta'\u001b[0m\u001b[0;34m,\u001b[0m \u001b[0;34m'fasta'\u001b[0m\u001b[0;34m)\u001b[0m\u001b[0;34m\u001b[0m\u001b[0m\n\u001b[0m\u001b[1;32m      6\u001b[0m \u001b[0malign\u001b[0m\u001b[0;34m.\u001b[0m\u001b[0m_alphabet\u001b[0m \u001b[0;34m=\u001b[0m \u001b[0mProteinAlphabet\u001b[0m\u001b[0;34m(\u001b[0m\u001b[0;34m)\u001b[0m\u001b[0;34m\u001b[0m\u001b[0m\n\u001b[1;32m      7\u001b[0m \u001b[0msummary\u001b[0m \u001b[0;34m=\u001b[0m \u001b[0mSummaryInfo\u001b[0m\u001b[0;34m(\u001b[0m\u001b[0malign\u001b[0m\u001b[0;34m)\u001b[0m\u001b[0;34m\u001b[0m\u001b[0m\n",
      "\u001b[0;32m/home/nbuser/anaconda3_410/lib/python3.5/site-packages/Bio/AlignIO/__init__.py\u001b[0m in \u001b[0;36mread\u001b[0;34m(handle, format, seq_count, alphabet)\u001b[0m\n\u001b[1;32m    422\u001b[0m     \u001b[0miterator\u001b[0m \u001b[0;34m=\u001b[0m \u001b[0mparse\u001b[0m\u001b[0;34m(\u001b[0m\u001b[0mhandle\u001b[0m\u001b[0;34m,\u001b[0m \u001b[0mformat\u001b[0m\u001b[0;34m,\u001b[0m \u001b[0mseq_count\u001b[0m\u001b[0;34m,\u001b[0m \u001b[0malphabet\u001b[0m\u001b[0;34m)\u001b[0m\u001b[0;34m\u001b[0m\u001b[0m\n\u001b[1;32m    423\u001b[0m     \u001b[0;32mtry\u001b[0m\u001b[0;34m:\u001b[0m\u001b[0;34m\u001b[0m\u001b[0m\n\u001b[0;32m--> 424\u001b[0;31m         \u001b[0mfirst\u001b[0m \u001b[0;34m=\u001b[0m \u001b[0mnext\u001b[0m\u001b[0;34m(\u001b[0m\u001b[0miterator\u001b[0m\u001b[0;34m)\u001b[0m\u001b[0;34m\u001b[0m\u001b[0m\n\u001b[0m\u001b[1;32m    425\u001b[0m     \u001b[0;32mexcept\u001b[0m \u001b[0mStopIteration\u001b[0m\u001b[0;34m:\u001b[0m\u001b[0;34m\u001b[0m\u001b[0m\n\u001b[1;32m    426\u001b[0m         \u001b[0mfirst\u001b[0m \u001b[0;34m=\u001b[0m \u001b[0;32mNone\u001b[0m\u001b[0;34m\u001b[0m\u001b[0m\n",
      "\u001b[0;32m/home/nbuser/anaconda3_410/lib/python3.5/site-packages/Bio/AlignIO/__init__.py\u001b[0m in \u001b[0;36mparse\u001b[0;34m(handle, format, seq_count, alphabet)\u001b[0m\n\u001b[1;32m    345\u001b[0m         \u001b[0;32mraise\u001b[0m \u001b[0mTypeError\u001b[0m\u001b[0;34m(\u001b[0m\u001b[0;34m\"Need integer for seq_count (sequences per alignment)\"\u001b[0m\u001b[0;34m)\u001b[0m\u001b[0;34m\u001b[0m\u001b[0m\n\u001b[1;32m    346\u001b[0m \u001b[0;34m\u001b[0m\u001b[0m\n\u001b[0;32m--> 347\u001b[0;31m     \u001b[0;32mwith\u001b[0m \u001b[0mas_handle\u001b[0m\u001b[0;34m(\u001b[0m\u001b[0mhandle\u001b[0m\u001b[0;34m,\u001b[0m \u001b[0;34m'rU'\u001b[0m\u001b[0;34m)\u001b[0m \u001b[0;32mas\u001b[0m \u001b[0mfp\u001b[0m\u001b[0;34m:\u001b[0m\u001b[0;34m\u001b[0m\u001b[0m\n\u001b[0m\u001b[1;32m    348\u001b[0m         \u001b[0;31m# Map the file format to a sequence iterator:\u001b[0m\u001b[0;34m\u001b[0m\u001b[0;34m\u001b[0m\u001b[0m\n\u001b[1;32m    349\u001b[0m         \u001b[0;32mif\u001b[0m \u001b[0mformat\u001b[0m \u001b[0;32min\u001b[0m \u001b[0m_FormatToIterator\u001b[0m\u001b[0;34m:\u001b[0m\u001b[0;34m\u001b[0m\u001b[0m\n",
      "\u001b[0;32m/home/nbuser/anaconda3_410/lib/python3.5/contextlib.py\u001b[0m in \u001b[0;36m__enter__\u001b[0;34m(self)\u001b[0m\n\u001b[1;32m     57\u001b[0m     \u001b[0;32mdef\u001b[0m \u001b[0m__enter__\u001b[0m\u001b[0;34m(\u001b[0m\u001b[0mself\u001b[0m\u001b[0;34m)\u001b[0m\u001b[0;34m:\u001b[0m\u001b[0;34m\u001b[0m\u001b[0m\n\u001b[1;32m     58\u001b[0m         \u001b[0;32mtry\u001b[0m\u001b[0;34m:\u001b[0m\u001b[0;34m\u001b[0m\u001b[0m\n\u001b[0;32m---> 59\u001b[0;31m             \u001b[0;32mreturn\u001b[0m \u001b[0mnext\u001b[0m\u001b[0;34m(\u001b[0m\u001b[0mself\u001b[0m\u001b[0;34m.\u001b[0m\u001b[0mgen\u001b[0m\u001b[0;34m)\u001b[0m\u001b[0;34m\u001b[0m\u001b[0m\n\u001b[0m\u001b[1;32m     60\u001b[0m         \u001b[0;32mexcept\u001b[0m \u001b[0mStopIteration\u001b[0m\u001b[0;34m:\u001b[0m\u001b[0;34m\u001b[0m\u001b[0m\n\u001b[1;32m     61\u001b[0m             \u001b[0;32mraise\u001b[0m \u001b[0mRuntimeError\u001b[0m\u001b[0;34m(\u001b[0m\u001b[0;34m\"generator didn't yield\"\u001b[0m\u001b[0;34m)\u001b[0m \u001b[0;32mfrom\u001b[0m \u001b[0;32mNone\u001b[0m\u001b[0;34m\u001b[0m\u001b[0m\n",
      "\u001b[0;32m/home/nbuser/anaconda3_410/lib/python3.5/site-packages/Bio/File.py\u001b[0m in \u001b[0;36mas_handle\u001b[0;34m(handleish, mode, **kwargs)\u001b[0m\n\u001b[1;32m     86\u001b[0m                 \u001b[0;32myield\u001b[0m \u001b[0mfp\u001b[0m\u001b[0;34m\u001b[0m\u001b[0m\n\u001b[1;32m     87\u001b[0m         \u001b[0;32melse\u001b[0m\u001b[0;34m:\u001b[0m\u001b[0;34m\u001b[0m\u001b[0m\n\u001b[0;32m---> 88\u001b[0;31m             \u001b[0;32mwith\u001b[0m \u001b[0mopen\u001b[0m\u001b[0;34m(\u001b[0m\u001b[0mhandleish\u001b[0m\u001b[0;34m,\u001b[0m \u001b[0mmode\u001b[0m\u001b[0;34m,\u001b[0m \u001b[0;34m**\u001b[0m\u001b[0mkwargs\u001b[0m\u001b[0;34m)\u001b[0m \u001b[0;32mas\u001b[0m \u001b[0mfp\u001b[0m\u001b[0;34m:\u001b[0m\u001b[0;34m\u001b[0m\u001b[0m\n\u001b[0m\u001b[1;32m     89\u001b[0m                 \u001b[0;32myield\u001b[0m \u001b[0mfp\u001b[0m\u001b[0;34m\u001b[0m\u001b[0m\n\u001b[1;32m     90\u001b[0m     \u001b[0;32melse\u001b[0m\u001b[0;34m:\u001b[0m\u001b[0;34m\u001b[0m\u001b[0m\n",
      "\u001b[0;31mFileNotFoundError\u001b[0m: [Errno 2] No such file or directory: 'cas9align.fasta'"
     ]
    }
   ],
   "source": [
    "from Bio import AlignIO\n",
    "from Bio.Align.AlignInfo import SummaryInfo\n",
    "from Bio.Alphabet import ProteinAlphabet\n",
    "\n",
    "align = AlignIO.read('cas9align.fasta', 'fasta')\n",
    "align._alphabet = ProteinAlphabet()\n",
    "summary = SummaryInfo(align)\n",
    "print(summary.information_content())"
   ]
  },
  {
   "cell_type": "code",
   "execution_count": 10,
   "metadata": {
    "collapsed": false
   },
   "outputs": [
    {
     "ename": "NameError",
     "evalue": "name 'summary' is not defined",
     "output_type": "error",
     "traceback": [
      "\u001b[0;31m---------------------------------------------------------------------------\u001b[0m",
      "\u001b[0;31mNameError\u001b[0m                                 Traceback (most recent call last)",
      "\u001b[0;32m<ipython-input-10-f637c0c4bae8>\u001b[0m in \u001b[0;36m<module>\u001b[0;34m()\u001b[0m\n\u001b[0;32m----> 1\u001b[0;31m \u001b[0msummary\u001b[0m\u001b[0;34m.\u001b[0m\u001b[0mdumb_consensus\u001b[0m\u001b[0;34m(\u001b[0m\u001b[0mconsensus_alpha\u001b[0m\u001b[0;34m=\u001b[0m\u001b[0mProteinAlphabet\u001b[0m\u001b[0;34m(\u001b[0m\u001b[0;34m)\u001b[0m\u001b[0;34m)\u001b[0m\u001b[0;34m\u001b[0m\u001b[0m\n\u001b[0m",
      "\u001b[0;31mNameError\u001b[0m: name 'summary' is not defined"
     ]
    }
   ],
   "source": [
    "summary.dumb_consensus(consensus_alpha=ProteinAlphabet())"
   ]
  },
  {
   "cell_type": "code",
   "execution_count": 75,
   "metadata": {
    "collapsed": false
   },
   "outputs": [
    {
     "data": {
      "text/plain": [
       "Seq('MDKKYSIGLDIGTNSVGWAVITDDYKVPSKKFKVLGNTDRHSIKKNLIGALLFD...GGD', ProteinAlphabet())"
      ]
     },
     "execution_count": 75,
     "metadata": {},
     "output_type": "execute_result"
    }
   ],
   "source": [
    "summary.gap_consensus(consensus_alpha=ProteinAlphabet())"
   ]
  },
  {
   "cell_type": "code",
   "execution_count": 76,
   "metadata": {
    "collapsed": false
   },
   "outputs": [
    {
     "name": "stdout",
     "output_type": "stream",
     "text": [
      "ProteinAlphabet() alignment with 8 rows and 1407 columns\n",
      "MDKKYSIGLDIGTNSVGWAVITDDYKVPSKKFKVLGNTDRHSIK...GGD J7M7J1\n",
      "MDKKYSIGLDIGTNSVGWAVITDDYKVPSKKFKVLGNTDRHSIK...GGD A0A0C6FZC2\n",
      "MDKKYSIGLDIGTNSVGWAVITDDYKVPSKKFKVLGNTDRHSIK...GGD A0A1C2CVQ9\n",
      "MDKKYSIGLDIGTNSVGWAVITDDYKVPSKKFKVLGNTDRHSIK...GGD A0A1C2CV43\n",
      "MDKKYSIGLDIGTNSVGWAVITDDYKVPSKKFKVLGNTDRHSIK...GGD Q48TU5\n",
      "MDKKYSIGLDIGTNSVGWAVITDDYKVPSKKFKVLGNTDRHSIK...GGD M4YX12\n",
      "MKKPYSIGLDIGTNSVGWAVVTDDYKVPAKKMKVLGNTDKSHIK...GGD A0A0E2EP65\n",
      "--------------------------------------------...GED A0A150NVN1\n"
     ]
    }
   ],
   "source": [
    "print(summary.alignment)"
   ]
  },
  {
   "cell_type": "code",
   "execution_count": 79,
   "metadata": {
    "collapsed": false
   },
   "outputs": [
    {
     "ename": "AttributeError",
     "evalue": "'MultipleSeqAlignment' object has no attribute 'ic_vector'",
     "output_type": "error",
     "traceback": [
      "\u001b[0;31m---------------------------------------------------------------------------\u001b[0m",
      "\u001b[0;31mAttributeError\u001b[0m                            Traceback (most recent call last)",
      "\u001b[0;32m<ipython-input-79-6e8a7abf4def>\u001b[0m in \u001b[0;36m<module>\u001b[0;34m()\u001b[0m\n\u001b[1;32m      1\u001b[0m \u001b[0;32mfrom\u001b[0m \u001b[0mBio\u001b[0m\u001b[0;34m.\u001b[0m\u001b[0mAlign\u001b[0m\u001b[0;34m.\u001b[0m\u001b[0mAlignInfo\u001b[0m \u001b[0;32mimport\u001b[0m \u001b[0mprint_info_content\u001b[0m\u001b[0;34m\u001b[0m\u001b[0m\n\u001b[0;32m----> 2\u001b[0;31m \u001b[0mprint_info_content\u001b[0m\u001b[0;34m(\u001b[0m\u001b[0malign\u001b[0m\u001b[0;34m)\u001b[0m\u001b[0;34m\u001b[0m\u001b[0m\n\u001b[0m",
      "\u001b[0;32m/home/nbuser/anaconda3_410/lib/python3.5/site-packages/Bio/Align/AlignInfo.py\u001b[0m in \u001b[0;36mprint_info_content\u001b[0;34m(summary_info, fout, rep_record)\u001b[0m\n\u001b[1;32m    691\u001b[0m         ic_vector value\"\"\"\n\u001b[1;32m    692\u001b[0m     \u001b[0mfout\u001b[0m \u001b[0;34m=\u001b[0m \u001b[0mfout\u001b[0m \u001b[0;32mor\u001b[0m \u001b[0msys\u001b[0m\u001b[0;34m.\u001b[0m\u001b[0mstdout\u001b[0m\u001b[0;34m\u001b[0m\u001b[0m\n\u001b[0;32m--> 693\u001b[0;31m     \u001b[0;32mif\u001b[0m \u001b[0;32mnot\u001b[0m \u001b[0msummary_info\u001b[0m\u001b[0;34m.\u001b[0m\u001b[0mic_vector\u001b[0m\u001b[0;34m:\u001b[0m\u001b[0;34m\u001b[0m\u001b[0m\n\u001b[0m\u001b[1;32m    694\u001b[0m         \u001b[0msummary_info\u001b[0m\u001b[0;34m.\u001b[0m\u001b[0minformation_content\u001b[0m\u001b[0;34m(\u001b[0m\u001b[0;34m)\u001b[0m\u001b[0;34m\u001b[0m\u001b[0m\n\u001b[1;32m    695\u001b[0m     \u001b[0mrep_sequence\u001b[0m \u001b[0;34m=\u001b[0m \u001b[0msummary_info\u001b[0m\u001b[0;34m.\u001b[0m\u001b[0malignment\u001b[0m\u001b[0;34m[\u001b[0m\u001b[0mrep_record\u001b[0m\u001b[0;34m]\u001b[0m\u001b[0;34m.\u001b[0m\u001b[0mseq\u001b[0m\u001b[0;34m\u001b[0m\u001b[0m\n",
      "\u001b[0;31mAttributeError\u001b[0m: 'MultipleSeqAlignment' object has no attribute 'ic_vector'"
     ]
    }
   ],
   "source": [
    "from Bio.Align.AlignInfo import print_info_content\n",
    "print_info_content(align)"
   ]
  },
  {
   "cell_type": "code",
   "execution_count": 81,
   "metadata": {
    "collapsed": false
   },
   "outputs": [
    {
     "ename": "ValueError",
     "evalue": "Alignment contains a sequence with                                 an incompatible alphabet.",
     "output_type": "error",
     "traceback": [
      "\u001b[0;31m---------------------------------------------------------------------------\u001b[0m",
      "\u001b[0;31mValueError\u001b[0m                                Traceback (most recent call last)",
      "\u001b[0;32m<ipython-input-81-f24f947e0873>\u001b[0m in \u001b[0;36m<module>\u001b[0;34m()\u001b[0m\n\u001b[0;32m----> 1\u001b[0;31m \u001b[0msummary\u001b[0m\u001b[0;34m.\u001b[0m\u001b[0mpos_specific_score_matrix\u001b[0m\u001b[0;34m(\u001b[0m\u001b[0;34m)\u001b[0m\u001b[0;34m\u001b[0m\u001b[0m\n\u001b[0m",
      "\u001b[0;32m/home/nbuser/anaconda3_410/lib/python3.5/site-packages/Bio/Align/AlignInfo.py\u001b[0m in \u001b[0;36mpos_specific_score_matrix\u001b[0;34m(self, axis_seq, chars_to_ignore)\u001b[0m\n\u001b[1;32m    404\u001b[0m             \u001b[0;32massert\u001b[0m \u001b[0mlen\u001b[0m\u001b[0;34m(\u001b[0m\u001b[0maxis_seq\u001b[0m\u001b[0;34m)\u001b[0m \u001b[0;34m==\u001b[0m \u001b[0mself\u001b[0m\u001b[0;34m.\u001b[0m\u001b[0malignment\u001b[0m\u001b[0;34m.\u001b[0m\u001b[0mget_alignment_length\u001b[0m\u001b[0;34m(\u001b[0m\u001b[0;34m)\u001b[0m\u001b[0;34m\u001b[0m\u001b[0m\n\u001b[1;32m    405\u001b[0m         \u001b[0;32melse\u001b[0m\u001b[0;34m:\u001b[0m\u001b[0;34m\u001b[0m\u001b[0m\n\u001b[0;32m--> 406\u001b[0;31m             \u001b[0mleft_seq\u001b[0m \u001b[0;34m=\u001b[0m \u001b[0mself\u001b[0m\u001b[0;34m.\u001b[0m\u001b[0mdumb_consensus\u001b[0m\u001b[0;34m(\u001b[0m\u001b[0;34m)\u001b[0m\u001b[0;34m\u001b[0m\u001b[0m\n\u001b[0m\u001b[1;32m    407\u001b[0m \u001b[0;34m\u001b[0m\u001b[0m\n\u001b[1;32m    408\u001b[0m         \u001b[0mpssm_info\u001b[0m \u001b[0;34m=\u001b[0m \u001b[0;34m[\u001b[0m\u001b[0;34m]\u001b[0m\u001b[0;34m\u001b[0m\u001b[0m\n",
      "\u001b[0;32m/home/nbuser/anaconda3_410/lib/python3.5/site-packages/Bio/Align/AlignInfo.py\u001b[0m in \u001b[0;36mdumb_consensus\u001b[0;34m(self, threshold, ambiguous, consensus_alpha, require_multiple)\u001b[0m\n\u001b[1;32m    112\u001b[0m         \u001b[0;31m# we need to guess a consensus alphabet if one isn't specified\u001b[0m\u001b[0;34m\u001b[0m\u001b[0;34m\u001b[0m\u001b[0m\n\u001b[1;32m    113\u001b[0m         \u001b[0;32mif\u001b[0m \u001b[0mconsensus_alpha\u001b[0m \u001b[0;32mis\u001b[0m \u001b[0;32mNone\u001b[0m\u001b[0;34m:\u001b[0m\u001b[0;34m\u001b[0m\u001b[0m\n\u001b[0;32m--> 114\u001b[0;31m             \u001b[0mconsensus_alpha\u001b[0m \u001b[0;34m=\u001b[0m \u001b[0mself\u001b[0m\u001b[0;34m.\u001b[0m\u001b[0m_guess_consensus_alphabet\u001b[0m\u001b[0;34m(\u001b[0m\u001b[0mambiguous\u001b[0m\u001b[0;34m)\u001b[0m\u001b[0;34m\u001b[0m\u001b[0m\n\u001b[0m\u001b[1;32m    115\u001b[0m \u001b[0;34m\u001b[0m\u001b[0m\n\u001b[1;32m    116\u001b[0m         \u001b[0;32mreturn\u001b[0m \u001b[0mSeq\u001b[0m\u001b[0;34m(\u001b[0m\u001b[0mconsensus\u001b[0m\u001b[0;34m,\u001b[0m \u001b[0mconsensus_alpha\u001b[0m\u001b[0;34m)\u001b[0m\u001b[0;34m\u001b[0m\u001b[0m\n",
      "\u001b[0;32m/home/nbuser/anaconda3_410/lib/python3.5/site-packages/Bio/Align/AlignInfo.py\u001b[0m in \u001b[0;36m_guess_consensus_alphabet\u001b[0;34m(self, ambiguous)\u001b[0m\n\u001b[1;32m    190\u001b[0m             \u001b[0;32mif\u001b[0m \u001b[0;32mnot\u001b[0m \u001b[0misinstance\u001b[0m\u001b[0;34m(\u001b[0m\u001b[0malt\u001b[0m\u001b[0;34m,\u001b[0m \u001b[0ma\u001b[0m\u001b[0;34m.\u001b[0m\u001b[0m__class__\u001b[0m\u001b[0;34m)\u001b[0m\u001b[0;34m:\u001b[0m\u001b[0;34m\u001b[0m\u001b[0m\n\u001b[1;32m    191\u001b[0m                 raise ValueError(\"Alignment contains a sequence with \\\n\u001b[0;32m--> 192\u001b[0;31m                                 an incompatible alphabet.\")\n\u001b[0m\u001b[1;32m    193\u001b[0m \u001b[0;34m\u001b[0m\u001b[0m\n\u001b[1;32m    194\u001b[0m         \u001b[0;31m# Check the ambiguous character we are going to use in the consensus\u001b[0m\u001b[0;34m\u001b[0m\u001b[0;34m\u001b[0m\u001b[0m\n",
      "\u001b[0;31mValueError\u001b[0m: Alignment contains a sequence with                                 an incompatible alphabet."
     ]
    }
   ],
   "source": [
    "summary.pos_specific_score_matrix()"
   ]
  },
  {
   "cell_type": "code",
   "execution_count": 71,
   "metadata": {
    "collapsed": false
   },
   "outputs": [
    {
     "name": "stdout",
     "output_type": "stream",
     "text": [
      "SingleLetterAlphabet()\n",
      "SingleLetterAlphabet()\n",
      "SingleLetterAlphabet()\n",
      "SingleLetterAlphabet()\n",
      "SingleLetterAlphabet()\n",
      "SingleLetterAlphabet()\n",
      "SingleLetterAlphabet()\n",
      "SingleLetterAlphabet()\n"
     ]
    }
   ],
   "source": [
    "from Bio import Alphabet \n",
    "for record in align:\n",
    "    print(Alphabet._get_base_alphabet(record.seq.alphabet))"
   ]
  },
  {
   "cell_type": "code",
   "execution_count": 15,
   "metadata": {
    "collapsed": false,
    "scrolled": true
   },
   "outputs": [
    {
     "name": "stdout",
     "output_type": "stream",
     "text": [
      "  % Total    % Received % Xferd  Average Speed   Time    Time     Time  Current\n",
      "                                 Dload  Upload   Total   Spent    Left  Speed\n",
      "100 11532  100 11532    0     0   222k      0 --:--:-- --:--:-- --:--:--  225k\n"
     ]
    }
   ],
   "source": [
    "!curl https://raw.githubusercontent.com/Serulab/Py4Bio/master/cas9align.fasta -o archivo2.txt"
   ]
  },
  {
   "cell_type": "code",
   "execution_count": 16,
   "metadata": {
    "collapsed": true
   },
   "outputs": [
    {
     "name": "stdout",
     "output_type": "stream",
     "text": [
      ">J7M7J1\n",
      "MDKKYSIGLDIGTNSVGWAVITDDYKVPSKKFKVLGNTDRHSIKKNLIGALLFDSGETAE\n",
      "ATRLKRTARRRYTRRKNRICYLQEIFSNEMAKVDDSFFHRLEESFLVEEDKKHERHPIFG\n",
      "NIVDEVAYHEKYPTIYHLRKKLVDSTDKADLRLIYLALAHMIKFRGHFLIEGDLNPDNSD\n",
      "VDKLFIQLVQTYNQLFEENPINASGVDAKAILSARLSKSRRLENLIAQLPGEKKNGLFGN\n",
      "LIALSLGLTPNFKSNFDLAEDAKLQLSKDTYDDDLDNLLAQIGDQYADLFLAAKNLSDAI\n",
      "LLSDILRVNTEITKAPLSASMIKRYDEHHQDLTLLKALVRQQLPEKYKEIFFDQSKNGYA\n",
      "GYIDGGASQEEFYKFIKPILEKMDGTEELLVKLNREDLLRKQRTFDNGSIPHQIHLGELH\n",
      "AILRRQEDFYPFLKDNREKIEKILTFRIPYYVGPLARGNSRFAWMTRKSEETITPWNFEE\n",
      "VVDKGASAQSFIERMTNFDKNLPNEKVLPKHSLLYEYFTVYNELTKVKYVTEGMRKPAFL\n",
      "SGEQKKAIVDLLFKTNRKVTVKQLKEDYFKKIECFDSVEISGV---EDRFNASLGTYHDL\n",
      "LKIIKDKDFLDNEENEDILEDIVLTLTLFEDREMIEERLKTYAHLFDDKVMKQLKRRRYT\n",
      "GWGRLSRKLINGIRDKQSGKTILDFLKSDGFANRNFMQLIHDDSLTFKEDIQKAQVSGQG\n",
      "DSLHEHIANLAGSPAIKKGILQTVKVVDELVKVMGRHKPENIVIEMARENQTTQKGQKNS\n",
      "RERMKRIEEGIKEL----GSQILKEHPVENTQLQNEKLYLYYLQNGRDMYVDQELDINRL\n",
      "SDYDVDHIVPQSFLKDDSIDNKVLTRSDKNRGKSDNVPSEEVVKKMKNYWRQLLNAKLIT\n",
      "QRKFDNLTKAERGGLSELDKAGFIKRQLVETRQITKHVAQILDSRMNTKYDENDKLIREV\n",
      "KVITLKSKLVSDFRKDFQFYKVREINNYHHAHDAYLNAVVGTALIKKYPKLESEFVYGDY\n",
      "KVYDVRKMIAKSE--QEIGKATAKYFFYSNIMNFFKTEITLANGEIRKRPLIETNGETGE\n",
      "IVWDKGRDFATVRKVLSMPQVNIVKKTEVQTGG----FSKESILPKRN---SDKLIARK-\n",
      "--KDWDPKKYGGFDSPTVAYSVLVVAK--VEKGKSKKLKSVKELLGITIMERSSFEKNPI\n",
      "DFLEAKGYKEVKKDLIIKLPKYSLFELENG--RK-RMLAS-------AGELQKGNELALP\n",
      "SKYVNFLYLASHYEKLKGSPEDNEQKQLFVEQHKHYLDEIIEQISEFSKRVILADANLDK\n",
      "VLSAYNKHRDKPIREQAENIIHLFTLTNLGAPAAFKYFDTT--IDRKRYT------STKE\n",
      "VLDATLIHQSITGLYETRIDLSQLGGD\n",
      ">A0A0C6FZC2\n",
      "MDKKYSIGLDIGTNSVGWAVITDDYKVPSKKFKVLGNTDRHSIKKNLIGALLFDSGETAE\n",
      "ATRLKRTARRRYTRRKNRICYLQEIFSNEMAKVDDSFFHRLEESFLVEEDKKHERHPIFG\n",
      "NIVDEVAYHEKYPTIYHLRKKLVDSTDKADLRLIYLALAHMIKFRGHFLIEGDLNPDNSD\n",
      "VDKLFIQLVQTYNQLFEENPINASGVDAKAILSARLSKSRRLENLIAQLPGEKKNGLFGN\n",
      "LIALSLGLTPNFKSNFDLAEDAKLQLSKDTYDDDLDNLLAQIGDQYADLFLAAKNLSDAI\n",
      "LLSDILRVNTEITKAPLSASMIKRYDEHHQDLTLLKALVRQQLPEKYKEIFFDQSKNGYA\n",
      "GYIDGGASQEEFYKFIKPILEKMDGTEELLVKLNREDLLRKQRTFDNGSIPHQIHLGELH\n",
      "AILRRQEDFYPFLKDNREKIEKILTFRIPYYVGPLARGNSRFAWMTRKSEETITPWNFEE\n",
      "VVDKGASAQSFIERMTNFDKNLPNEKVLPKHSLLYEYFTVYNELTKVKYVTEGMRKPAFL\n",
      "SGEQKKAIVDLLFKTNRKVTVKQLKEDYFKKIECFDSVEISGV---EDRFNASLGTYHDL\n",
      "LKIIKDKDFLDNEENEDILEDIVLTLTLFEDREMIEERLKTYAHLFDDKVMKQLKRRRYT\n",
      "GWGRLSRKLINGIRDKQSGKTILDFLKSDGFANRNFMQLIHDDSLTFKEDIQKAQVSGQG\n",
      "DSLHEHIANLAGSPAIKKGILQTVKVVDELVKVMGRHKPENIVIEMARENQTTQKGQKNS\n",
      "RERMKRIEEGIKEL----GSQILKEHPVENTQLQNEKLYLYYLQNGRDMYVDQELDINRL\n",
      "SDYDVDHIVPQSFLKDDSIDNKVLTRSDKNRGKSDNVPSEEVVKKMKNYWRQLLNAKLIT\n",
      "QRKFDNLTKAERGGLSELDKAGFIKRQLVETRQITKHVAQILDSRMNTKYDENDKLIREV\n",
      "KVITLKSKLVSDFRKDFQFYKVREINNYHHAHDAYLNAVVGTALIKKYPKLESEFVYGDY\n",
      "KVYDVRKMIAKSE--QEIGKATAKYFFYSNIMNFFKTEITLANGEIRKRPLIETNGETGE\n",
      "IVWDKGRDFATVRKVLSMPQVNIVKKTEVQTGG----FSKESILPKRN---SDKLIARK-\n",
      "--KDWDPKKYGGFDSPTVAYSVLVVAK--VEKGKSKKLKSVKELLGITIMERSSFEKNPI\n",
      "DFLEAKGYKEVKKDLIIKLPKYSLFELENG--RK-RMLAS-------AGELQKGNELALP\n",
      "SKYVNFLYLASHYEKLKGSPEDNEQKQLFVEQHKHYLDEIIEQISEFSKRVILADANLDK\n",
      "VLSAYNKHRDKPIREQAENIIHLFTLTNLGAPAAFKYFDTT--IDRKRYT------STKE\n",
      "VLDATLIHQSITGLYETRIDLSQLGGD\n",
      ">A0A1C2CVQ9\n",
      "MDKKYSIGLDIGTNSVGWAVITDDYKVPSKKFKVLGNTDRHSIKKNLIGALLFDSGETAE\n",
      "ATRLKRTARRRYTRRKNRIRYLQEIFSSEMSKVDDSFFHRLEESFLVEEDKKHERHPIFG\n",
      "NIVDEVAYHEKYPTIYHLRKKLADSTDKADLRLIYLALAHMIKFRGHFLIEGDLNPDNSD\n",
      "VDKLFIQLVQTYNQLFEENPINASRVDAKAILSARLSKSRRLENLIAQLPGEKRNGLFGN\n",
      "LIALSLGLTPNFKSNFDLAEDAKLQLSKDTYDDDLDNLLAQIGDQYADLFLAAKNLSDAI\n",
      "LLSDILRVNSEITKAPLSASMIKRYDEHHQDLTLLKALVRQQLPEKYKEIFFDQSKNGYA\n",
      "GYIDGGASQEEFYKFIKPILEKMDGTEELLAKLNREDLLRKQRTFDNGSIPHQIHLGELH\n",
      "AILRRQEDFYPFLKDNREKIEKILTFRIPYYVGPLARGNSRFAWMTRKSEETITPWNFEE\n",
      "VVDKGASAQSFIERMTNFDKNLPNEKVLPKHSLLYEYFTVYNELTKVKYVTEGMRKPAFL\n",
      "SGEQKKAIVDLLFKTNRKVTVKQLKEDYFKKIECFDSVEISGV---EDRFNASLGTYHDL\n",
      "LKIIKDKDFLDNEENEDILEDIVLTLTLFEDKEMIEERLKTYAHLFDDKVMKQLKRRHYT\n",
      "GWGRLSRKLINGIRDKQSGKTILDFLKSDGFANRNFIQLIHDDSLTFKEAIQKAQVSGQG\n",
      "HSLHEQIANLAGSPAIKKGILQSVKVVDELVKVMG-HKPENIVIEMARENQTTQKGQKNS\n",
      "RERMKRIEEGIKEL----GSQILKEHPVENTQLQNEKLYLYYLQNGRDMYVDQELDINRL\n",
      "SDYDVDHIVPQSFIKDDSIDNKVLTRSDKNRGKSDNVPSEEVVKKMKNYWRQLLNAKLIT\n",
      "QRKFDNLTKAERGGLSELDKAGFIKRQLVETRQITKHVAQILDSRMNTKYDENDKLIREV\n",
      "KVITLKSKLVSDFRKDFQFYKVREINNYHHAHDAYLNAVVGTALIKKYPKLESEFVYGDY\n",
      "KVYDVRKMIAKSE--QEIGKATAKRFFYSNIMNFFKTEITLANGEIRKRPLIETNEETGE\n",
      "IVWDKGRDFATVRKVLSMPQVNIVKKTEVQTGA----LTNESIYARGS---FDKLISRK-\n",
      "--HRFESSKYGGFGSPTVTYSVLVVAKSKVQDGKVKKIKTGKELIGITLLDKLVFEKNPL\n",
      "KFIEDKGYGNVQIDKCIKLPKYSLFEFENG--TR-RMLASVMANNNSRGDLQKANEMFLP\n",
      "AKLVTLLYHAHKIESSKELE-----HEAYILDHYNDLYQLLSYIERFASLYVDVEKNISK\n",
      "VKELFSNIESYSISEICSSVINLLTLTASGAPADFKFLGTT--IPRKRYG------SPQS\n",
      "ILSSTLIHQSITGLYETRIDLSQLGGD\n",
      ">A0A1C2CV43\n",
      "MDKKYSIGLDIGTNSVGWAVITDDYKVPSKKFKVLGNTDRHSIKKNLIGALLFDSGETAE\n",
      "ATRLKRTARRRYTRRKNRIRYLQEIFSSEMSKVDDSFFHRLEESFLVEEDKKHERHPIFG\n",
      "NIVDEVAYHEKYPTIYHLRKKLADSTDKADLRLIYLALAHMIKFRGHFLIEGDLNPDNSD\n",
      "MDKLFIQLVQTYNQLFEENPINASRVDAKAILSARLSKSRRLENLIAQLPGEKRNGLFGN\n",
      "LIALSLGLTPNFKSNFDLAEDAKLQLSKDTYDDDLDNLLAQIGDQYADLFLAAKNLSDAI\n",
      "LLSDILRVNSEITKAPLSASMIKRYDEHHQDLTLLKALVRQQLPEKYKEIFFDQSKNGYA\n",
      "GYIDGGASQEEFYKFIKPILEKMDGTEELLAKLNREDLLRKQRTFDNGSIPHQIHLGELH\n",
      "AILRRQEDFYPFLKDNREKIEKILTFRIPYYVGPLARGNSRFAWMTRKSEETITPWNFEE\n",
      "VVDKGASAQSFIERMTNFDKNLPNEKVLPKHSLLYEYFTVYNELTKVKYVTEGMRKPEFL\n",
      "SGKQKEAIVDLLFKTNRKVTVKQLKEDYFKKIEYFDSVEISGV---EDRFNASLGTYHDL\n",
      "LKIIKDKDFLDNEENEDILEDIVLTLTLFEDKEMIEERLKKYANLFDDKVMKQLKRRHYT\n",
      "GWGRLSRKLINGIRDKQSGKTILDFLKSDGFANRNFMQLINDDSLTFKEAIQKAQVSGQG\n",
      "HSLHEQIANLAGSPAIKKGILQSVKVVDELVKVMG-HKPENIVIEMARENQTTQKGQKNS\n",
      "RERMKRIEEGIKEL----GSQILKEHPVENTQLQNEKLYLYYLQNGRDMYVDQELDINRL\n",
      "SDYDVDHIVPQSFIKDDSIDNKVLTRSDKNRGKSDNVPSEEVVKKMKNYWRQLLNAKLIT\n",
      "QRKFDNLTKAERGGLSELDKAGFIKRQLVETRQITKHVAQILDSRMNTKYDENDKLIREV\n",
      "KVITLKSKLVSDFRKDFQFYKVREINNYHHAHDAYLNAVVGTALIKKYPKLESEFVYGDY\n",
      "KVYDVRKMIAKSE--QEIGKATAKRFFYSNIMNFFKTEITLANGEIRKRPLIETNEETGE\n",
      "IVWDKGRDFATVRKVLSMPQVNIVKKTEVQTGA----LTNESIYARGS---FDKLISRK-\n",
      "--HRFESSKYGGFGSPTVTYSVLVVAKSKVQDGKVKKIKTGKELIGITLLDKLVFEKNPL\n",
      "KFIEDKGYGNVQIDKCIKLPKYSLFEFENG--TR-RMLASVMANNNSRGDLQKANEMFLP\n",
      "AKLVTLLYHAHKIESSKELE-----HEAYILDHYNDLYQLLSYIERFASLYVDVEKNISK\n",
      "VKELFSNIESYSISEICSSVINLLTLTASGAPADFKFLGTT--IPRKRYG------SPQS\n",
      "ILSSTLIHQSITGLYETRIDLSQLGGD\n",
      ">Q48TU5\n",
      "MDKKYSIGLDIGTNSVGWAVITDDYKVPSKKFKVLGNTDRHSIKKNLIGALLFDSGETAE\n",
      "ATRLKRTARRRYTRRKNRICYLQEIFSNEMAKVDDSFFHRLEESFLVEEDKKHERHPIFG\n",
      "NIVDEVAYHEKYPTIYHLRKKLVDSTDKADLRLIYLALAHMIKFRGHFLIEGDLNPDNSD\n",
      "VDKLFIQLVQTYNQLFEENPINASGVDAKAILSARLSKSRRLENLIAQLPGEKKNGLFGN\n",
      "LIALSLGLTPNFKSNFDLAEDAKLQLSKDTYDDDLDNLLAQIGDQYADLFLAAKNLSDAI\n",
      "LLSDILRLNSEITKAPLSASMIKRYDEHHQDLTLLKALVRQQLPEKYKEIFFDQSKNGYA\n",
      "GYIDGGASQEEFYKFIKPILEKMDGTEELLAKLNREDLLRKQRTFDNGSIPHQIHLGELH\n",
      "AILRRQEDFYPFLKDNREKIEKILTFRIPYYVGPLARGNSRFAWMTRKSEETITPWNFEE\n",
      "VVDKGASAQSFIERMTNFDKNLPNEKVLPKHSLLYEYFTVYNELTKVKYVTEGMRKPAFL\n",
      "SGEQKKAIVDLLFKTNRKVTVKQLKEDYFKKIECFDSVEISGV---EDRFNASLGTYHDL\n",
      "LKIIKDKDFLDNEENEDILEDIVLTLTLFEDREMIEERLKTYAHLFDDKVMKQLKRRRYT\n",
      "GWGRLSRKLINGIRDKQSGKTILDFLKSDGFANRNFMQLIHDDSLTFKEDIQKAQVSGQG\n",
      "DSLHEHIANLAGSPAIKKGILQTVKVVDELVKVMGRHKPENIVIEMARENQTTQKGQKNS\n",
      "RERMKRIEEGIKEL----GSQILKEHPVENTQLQNEKLYLYYLQNGRDMYVDQELDINRL\n",
      "SDYDVDHIVPQSFIKDDSIDNKVLTRSDKNRGKSNNVPSEEVVKKMKNYWRQLLNAKLIT\n",
      "QRKFDNLTKAERGGLSELDKAGFIKRQLVETRQITKHVAQILDSRMNTKYDENDKLIREV\n",
      "KVITLKSKLVSDFRKDFQFYKVREINNYHHAHDAYLNAVVGTALIKKYPKLESEFVYGDY\n",
      "KVYDVRKMIAKSE--QEIGKATAKYFFYSNIMNFFKTEITLANGEIRKRPLIETNGETGE\n",
      "IVWDKGRDFATVRKVLSMPQVNIVKKTEVQTGG----FSKESILPKRN---SDKLIARK-\n",
      "--KDWDPKKYGGFDSPTVAYSVLVVAK--VEKGKSKKLKSVKELLGITIMERSSFEKNPI\n",
      "DFLEAKGYKEVRKDLIVKLPKYSLFELENG--RK-RMLAS-------AGELQKGNELALP\n",
      "SKYVNFLYLASHYEKLKGSPEDNEQKQLFVEQHKHYLDEIIEQISEFSKRVILADANLDK\n",
      "VLSAYNKHRDKPIREQAENIIHLFTLTNLGAPAAFKYFDTT--IDRKRYT------STKE\n",
      "VLDATFIHQSITGLYETRIDLSQLGGD\n",
      ">M4YX12\n",
      "MDKKYSIGLDIGTNSVGWAVITDDYKVPSKKFKVLGNTDRHSIKKNLIGALLFDSGETAE\n",
      "ATRLKRTARRRYTRRKNRIRYLQEIFSSEMSKVDDSFFHRLEESFLVEEDKKHERHPIFG\n",
      "NIVDEVAYHEKYPTIYHLRKKLADSTDKADLRLIYLALAHMIKFRGHFLIEGDLNPDNSD\n",
      "MDKLFIQLVQTYNQLFEENPINASRVDAKAILSARLSKSRRLENLIAQLPGEKRNGLFGN\n",
      "LIALSLGLTPNFKSNFDLAEDAKLQLSKDTYDDDLDNLLAQIGDQYADLFLAAKNLSDAI\n",
      "LLSDILRVNSEITKAPLSASMIKRYDEHHQDLTLLKALVRQQLPEKYKEIFFDQSKNGYA\n",
      "GYIDGGASQEEFYKFIKPILEKMDGTEELLAKLNREDLLRKQRTFDNGSIPHQIHLGELH\n",
      "AILRRQEDFYPFLKDNREKIEKILTFRIPYYVGPLARGNSRFAWMTRKSEETITPWNFEE\n",
      "VVDKGASAQSFIERMTNFDKNLPNEKVLPKHSLLYEYFTVYNELTKVKYVTEGMRKPEFL\n",
      "SGKQKEAIVDLLFKTNRKVTVKQLKEDYFKKIECFDSVEISGV---EDRFNASLGTYHDL\n",
      "LKIIKDKDFLDNEENEDILEDIVLTLTLFEDKEMIEERLKTYAHLFDDKVMKQLKRRHYT\n",
      "GWGRLSRKLINGIRDKQSGKTILDFLKSDGFANRNFIQLIHDDSLTFKEAIQKAQVSGQG\n",
      "HSLHEQIANLAGSPAIKKGILQSVKVVDELVKVMG-HKPENIVIEMARENQTTQKGQKNS\n",
      "RERMKRIEEGIKEL----GSQILKEHPVENTQLQNEKLYLYYLQNGRDMYVDQELDINRL\n",
      "SDYDVDHIVPQSFIKDDSIDNKVLTRSDKNRGKSDDVPSEEVVKKMKNYWRQLLNAKLIT\n",
      "QRKFDNLTKAERGGLSELDKAGFIKRQLVETRQITKHVAQILDSRMNTKYDENDKLIREV\n",
      "KVITLKSKLVSDFRKDFQFYKVREINNYHHAHDAYLNAVVGTALIKKYPKLESEFVYGDY\n",
      "KVYDVRKMIAKSE--QEIGKATAKRFFYSNIMNFFKTEITLANGEIRKRPLIETNEETGE\n",
      "IVWNKGRDFATVRKVLSMPQVNIVKKTEVQTGA----LTNESIYARGS---FDKLISRK-\n",
      "--HRFESSKYGGFGSPTVTYSVLVVAKSKVQDGKVKKIKTGKELIGITLLDKLVFEKNPL\n",
      "KFIEDKGYGNVQIDKCIKLPKYSLFEFENG--TR-RMLASVMANNNSRGDLQKANEMFLP\n",
      "AKLVTLLYHAHKIESSKELE-----HEAYILDHYNDLYQLLSYIERFASLYVDVEKNISK\n",
      "VKELFSNIESYSISEICSSVINLLTLTASGAPADFKFLGTT--IPRKRYG------SPQS\n",
      "ILSSTLIHQSITGLYETRIDLSQLGGD\n",
      ">A0A0E2EP65\n",
      "MKKPYSIGLDIGTNSVGWAVVTDDYKVPAKKMKVLGNTDKSHIKKNLLGALLFDSGNTAE\n",
      "DRRLKRTARRRYTRRRNRILYLQEIFSEEMGKVDDSFFHRLEDSFLVTEDKRGERHPIFG\n",
      "NLEEEVKYHENFPTIYHLRQYLADNPEKTDLRLVYLALAHIIKFGGHFLIEGKFDTRNND\n",
      "VQRLFQEFLAVYDNTFENSSLQEQNVQVEEILTDKISKSAKKDRVLKLFPNEKSNGRFAE\n",
      "FLKLIVGNQADFKKHFELEEKAPLQFSKDIYEEELEVLLAQIGDNYAELFLSAKKLYDSI\n",
      "LLSGILTVTDVSTKAPLSASMIQRYNEHQMDLAQLKQFIRQKLSDKYNEVFSDVSKDGYA\n",
      "GYIDGKTNQEAFYKYLKGLLNKIEGSGYFLDKIEREDFLRKQRTFDNGSIPHQIHLQEMR\n",
      "AIIRRQAEFYPFLADNQDRIEKILTFRIPYYVGPLARGKSDFAWLSRKSADKITPWNFDE\n",
      "IVDKESSVEAFINRMTNYDLYLPNQKVLPKHSLLYEKFTVYNELTKVKYKTEQG-KTAFF\n",
      "DANMKQEIFDGVFKVYRKVTKDKLMDFLEKEFDEFRIVDLTGLDKENKAFNASYGTYHDL\n",
      "RKI-LDKDFLDNSKNEKILEDIVLTLTLFEDREMIRKRLKNYSDLLTKEQLKKLERRHYT\n",
      "GWGRLSAELIHGIRNKESRKTILDYLIDDGNSNRNFMQLINDDALSFKEEIAKAQVIGET\n",
      "DNLNQVVSDIAGSPAIKKGILQSLKIVDELVKIMG-HQPENIVVEMARENQFTNQGRRNS\n",
      "QQRLKGLTDSIKEF----GSQILKEHPVENSQLQNDRLFLYYLQNGRDMYTGEELDIDYL\n",
      "SQYDIDHIIPQAFIKDNSIDNRVLTSSKENRGKSDDVPSKNVVRKMKSYWSKLLSAKLIT\n",
      "QRKFDNLTKAERGGLTDDDKAGFIKRQLVETRQITKHVARILDERFHTETDENNKKIRQV\n",
      "KIVTLKSNLVSNFRKEFELYKVREINDYHHAHDAYLNAVIGKALLGVYPQLEPEFVYGDY\n",
      "PHFHGH----------KENKATAKKFFYSNIMNFFKKDDV-------------RTDKNGE\n",
      "IIWKKDEHISNIKKVLSYPQVNIVKKVEEQTGG----FSKESILPKGN---SDKLIPRKT\n",
      "KKFYWDTKKYGGFDSPIVAYSILVIAD--IEKGKSKKLKTVKALVGVTIMEKMTFERDPV\n",
      "AFLERKGYRNVQEENIIKLPKYSLFKLENG--RK-RLLAS-------ARELQKGNEIVLP\n",
      "NHLGTLLYHAKNIHKVDE-----PKHLDYVDKHKDEFKELLDVVSNFSKKYTLAEGNLEK\n",
      "IKELYAQNNGEDLKELASSFINLLTFTAIGAPATFKFFDKN--IDRKRYT------STTE\n",
      "ILNATLIHQSITGLYETRIDLSKLGGD\n",
      ">A0A150NVN1\n",
      "------------------------------------------------------------\n",
      "------------------------------------------------------------\n",
      "------------------------------------------------------------\n",
      "------------------------------------------------------------\n",
      "------------------------------------------------------------\n",
      "------------------------------------------------------------\n",
      "------------------------------------------------------------\n",
      "------------------------------------------------------------\n",
      "------------------------------------------------------------\n",
      "-----------------------------------------------------------M\n",
      "LKIIKDKEFMDDPKNEEILENIVHTLTIFEDREMIKQRLAQYDSLFDEKVIKALTRRHYT\n",
      "GWGKLSAKLINGICDKQTGKTILDYLIDDGKINRNFMQLINDDGLSFKEIIQKAQVVGKT\n",
      "YDVKQVVQELPGSPAIKKGILQSVKLVDELVKVMG-HAPESIVIEMARENQTTAKGKKNS\n",
      "QQRYKRIEDAIKNLAPGLDSTILKEHPTDNIQLQNDRLFLYYLQNGRDMYTGKPLEINQL\n",
      "SNYDIDHIIPQAFIKDDSLDNRVLTSSKENRGKSDNVPSLEVVEKMKAFWQQLLDSKLIS\n",
      "ERKFNNLTKAERGGLDELDKVGFIKRQLVETRQITKHVAQILDARFNKEVTEKNKKNRNV\n",
      "KIITLKSNMVSNFRKEFGLYKVREINDYHHAHDAYLNAVVAKAILKKYPKLEPEFVYGDY\n",
      "QKYDLKRYISKSKDPKEVEKATEKYFFYSNLLNFFKEEVHYADGTIVKRENIEYSKDTGE\n",
      "IAWNKEKDFATIKKVLSFPQVNIVKKTEEQTVGQNGGLFDNNIVSKEKVVDASKLIPIK-\n",
      "--SGLSPEKYGGYARPTIAYSVLVTYKQN--------NKIKNTMVGIPVLTKLEFERDPN\n",
      "LYLRNLGINNVSH--VIKLVKHTVLEFKHKYGTYRRFIVS-------NQELKRANQIFVT\n",
      "TKQMKLISQYTTLDKNE--------HDSLLKNNQQLIQSIWNQFLEFMLATDLVNKKQYD\n",
      "ELILTNNQTIEECRNIMNRVITTLSFTNINAGQKKIIFDDTLSLPIKRWQFTDSDKMVKK\n",
      "IIESTLIHQSITGLYETRIDLNKLGED\n",
      "\n"
     ]
    }
   ],
   "source": [
    "with open('archivo2.txt') as fh:\n",
    "    print(fh.read())"
   ]
  },
  {
   "cell_type": "markdown",
   "metadata": {},
   "source": [
    "ClustalW\n",
    "--------"
   ]
  },
  {
   "cell_type": "code",
   "execution_count": 2,
   "metadata": {
    "collapsed": true
   },
   "outputs": [],
   "source": [
    "# https://github.com/Serulab/Py4Bio/blob/master/clustalo-1.2.4-Ubuntu-x86_64?raw=true"
   ]
  },
  {
   "cell_type": "code",
   "execution_count": null,
   "metadata": {
    "collapsed": true
   },
   "outputs": [],
   "source": [
    "# http://biopython.org/DIST/docs/api/Bio.Align.Applications._ClustalOmega-pysrc.html"
   ]
  },
  {
   "cell_type": "code",
   "execution_count": 4,
   "metadata": {
    "collapsed": false
   },
   "outputs": [
    {
     "name": "stdout",
     "output_type": "stream",
     "text": [
      "  % Total    % Received % Xferd  Average Speed   Time    Time     Time  Current\n",
      "                                 Dload  Upload   Total   Spent    Left  Speed\n",
      "100  3070  100  3070    0     0  20150      0 --:--:-- --:--:-- --:--:-- 20331\n"
     ]
    }
   ],
   "source": [
    "!curl https://raw.githubusercontent.com/Serulab/Py4Bio/master/samples/conglycinin.fasta -o conglycinin.fasta"
   ]
  },
  {
   "cell_type": "code",
   "execution_count": null,
   "metadata": {
    "collapsed": true
   },
   "outputs": [],
   "source": [
    "#https://github.com/Serulab/Py4Bio/blob/master/clustalw2?raw=true\n"
   ]
  },
  {
   "cell_type": "code",
   "execution_count": 25,
   "metadata": {
    "collapsed": false
   },
   "outputs": [
    {
     "name": "stdout",
     "output_type": "stream",
     "text": [
      "  % Total    % Received % Xferd  Average Speed   Time    Time     Time  Current\n",
      "                                 Dload  Upload   Total   Spent    Left  Speed\n",
      "100 7327k  100 7327k    0     0  6646k      0  0:00:01  0:00:01 --:--:-- 6648k\n"
     ]
    }
   ],
   "source": [
    "!curl https://raw.githubusercontent.com/Serulab/Py4Bio/master/clustalw2 -o clustalw2"
   ]
  },
  {
   "cell_type": "code",
   "execution_count": 29,
   "metadata": {
    "collapsed": false
   },
   "outputs": [
    {
     "name": "stdout",
     "output_type": "stream",
     "text": [
      "Command line: /home/nbuser/clustalw2 -infile=conglycinin.fasta -outfile=cltest.aln\n"
     ]
    },
    {
     "data": {
      "text/plain": [
       "('\\n\\n\\n CLUSTAL 2.1 Multiple Sequence Alignments\\n\\n\\nSequence format is Pearson\\nSequence 1: NP_001304231.1   453 aa\\nSequence 2: XP_017433627.1   438 aa\\nSequence 3: KHN02730.1       627 aa\\nSequence 4: BAE02726.1       621 aa\\nSequence 5: KYP75005.1       557 aa\\nStart of Pairwise alignments\\nAligning...\\n\\nSequences (1:2) Aligned. Score:  86\\nSequences (1:3) Aligned. Score:  67\\nSequences (1:4) Aligned. Score:  67\\nSequences (1:5) Aligned. Score:  64\\nSequences (2:3) Aligned. Score:  67\\nSequences (2:4) Aligned. Score:  67\\nSequences (2:5) Aligned. Score:  64\\nSequences (3:4) Aligned. Score:  99\\nSequences (3:5) Aligned. Score:  66\\nSequences (4:5) Aligned. Score:  66\\nGuide tree file created:   [conglycinin.dnd]\\n\\nThere are 4 groups\\nStart of Multiple Alignment\\n\\nAligning...\\nGroup 1: Sequences:   2      Score:8857\\nGroup 2: Sequences:   2      Score:13465\\nGroup 3: Sequences:   4      Score:8169\\nGroup 4: Sequences:   5      Score:8430\\nAlignment Score 22011\\n\\nCLUSTAL-Alignment file created  [cltest.aln]\\n\\n',\n",
       " '')"
      ]
     },
     "execution_count": 29,
     "metadata": {},
     "output_type": "execute_result"
    }
   ],
   "source": [
    "import os\n",
    "import stat\n",
    "from Bio.Align.Applications import ClustalwCommandline\n",
    "\n",
    "clustalw_exe = '/home/nbuser/clustalw2'\n",
    "st = os.stat(clustalw_exe)\n",
    "os.chmod(clustalw_exe, st.st_mode | stat.S_IEXEC)\n",
    "#cl = MultipleAlignCL('conglycinin.fasta')\n",
    "cl = ClustalwCommandline(clustalw_exe, infile='conglycinin.fasta')\n",
    "cl.outfile = 'cltest.aln'\n",
    "print('Command line: {}'.format(cl))\n",
    "#Command line:  clustalw inputfile.fasta -OUTFILE=cltest.txt\n",
    "cl()\n"
   ]
  },
  {
   "cell_type": "code",
   "execution_count": 30,
   "metadata": {
    "collapsed": false,
    "scrolled": true
   },
   "outputs": [
    {
     "name": "stdout",
     "output_type": "stream",
     "text": [
      "CLUSTAL 2.1 multiple sequence alignment\n",
      "\n",
      "\n",
      "NP_001304231.1      MVRARV--QLLLGILFLASLSVSFGIVHREHQE---------------------------\n",
      "XP_017433627.1      MMRARVPLLLLLGILFLASLSVSFGIVHREHQQ---------------------------\n",
      "KHN02730.1          MMRARFP-LLLLGVVFLASVSVSFGIAYWEKQNPSHNKCLRSCNSEKDSYRNQACHARCN\n",
      "BAE02726.1          MMRARFP-LLLLGVVFLASVSVSFGIAYWEKQNPSHNKCLRSCNSEKDSYRNQACHARCN\n",
      "KYP75005.1          MMRARFPLLLLLGLVFLASVSVSFGIAYWERDNLVHSKCLRSCNAENDAYRHEACHARCN\n",
      "                    *:***.   ****::****:******.: *:::                           \n",
      "\n",
      "NP_001304231.1      ------------------------------------------------------------\n",
      "XP_017433627.1      ------------------------------------------------------------\n",
      "KHN02730.1          LLKVEEEEECEEGQIPRPRPRPQHPERERQQHGEKEEDEGEQPRPFPFPRPRQPHQEEEH\n",
      "BAE02726.1          LLKVEEEEECEEGQIPRPR--PQHPERERQQHGEKEEDEGEQPRPFPFPRPRQPHQEEEH\n",
      "KYP75005.1          LLKHDGAEAHQSHEETGHR---ERARQEGEKEEKKHHEEEGHPHPFPRPHQQKEHEHEHE\n",
      "                                                                                \n",
      "\n",
      "NP_001304231.1      -------------------SQEESDSR---------------------------------\n",
      "XP_017433627.1      -------------------SQEESDSR---------------------------------\n",
      "KHN02730.1          EQKEEHEWHRKEEKHGGKGSEEEQDEREHPRPHQPHQKEEQKHEEKHEWQHKQEKHQGKE\n",
      "BAE02726.1          EQKEEHEWHRKEEKHGGKGSEEEQDEREHPRPHQPHQKEE----EKHEWQHKQEKHQGKE\n",
      "KYP75005.1          QEGQSRPFPRRHQPHQEHQHQHEPEEEE--------------------------------\n",
      "                                        :.* :..                                 \n",
      "\n",
      "NP_001304231.1      ---------------------------------GQNNPFYFNSDRRFHTLFKNQYGHLRV\n",
      "XP_017433627.1      ---------------------------------GTNNPFYFNSDR-FHTLFRNEYGHLRV\n",
      "KHN02730.1          SEEEEEDQDEDEEQDKESQESEGSESQREPRRHKNKNPFHFNSKR-FQTLFKNQYGHVRV\n",
      "BAE02726.1          SEEEEEDQDEDEEQDKESQESEGSESQREPRRHKNKNPFHFNSKR-FQTLFKNQYGHVRV\n",
      "KYP75005.1          ------------------------GQGSESESQTHHNPFHFDSNM-FHTFFKNQYGHIRV\n",
      "                                                       :***:*:*.  *:*:*:*:***:**\n",
      "\n",
      "NP_001304231.1      IHRFDQRSKQIQNLENYRVVEFKSKPNTLLLPHHADADFLLVVLNGRAILTLVNPDGRDS\n",
      "XP_017433627.1      LQRFDQRSKQIQNLENYRLVEFKSKPNTLLLPHHADADFLLVVLNGRALLTLVNPDGRDS\n",
      "KHN02730.1          LQRFNKRSQQLQNLRDYRILEFNSKPNTLLLPHHADADYLIVILNGTAILTLVNNDDRDS\n",
      "BAE02726.1          LQRFNKRSQQLQNLRDYRILEFNSKPNTLLLPHHADADYLIVILNGTAILTLVNNDDRDS\n",
      "KYP75005.1          LPRFDQRSSKLQNLRDYRVVEFQSKPNTLLLPNHADAEFILLVLNGRAILNIVSPDDRES\n",
      "                    : **::**.::***.:**::**:*********:****::::::*** *:*.:*. *.*:*\n",
      "\n",
      "NP_001304231.1      YILEQGHAQKIPAGTTFFLVNPNDNDNLRIIKLAIPVNNPHRFQNFFLSSTEAQQSYLRG\n",
      "XP_017433627.1      YILEQGHAQKIPAGTIFFLVNPNDNENLRIIKIATPINNPHRFQDFFLSSTEAQQSYLQG\n",
      "KHN02730.1          YNLQSGDALRVPAGTTYYVVNPDNDENLRMITLAIPVNKPGRFESFFLSSTQAQQSYLQG\n",
      "BAE02726.1          YNLQSGDALRVPAGTTYYVVNPDNDENLRMITLAIPVNKPGRFESFFLSSTQAQQSYLQG\n",
      "KYP75005.1          YDLHQGDAQRIPAGTTYYLINPDDKETLKVATLAMPVNEHANFENFYLSSTESQKSYLQA\n",
      "                    * *..*.* ::**** ::::**::.:.*:: .:* *:*:  .*:.*:****::*:***:.\n",
      "\n",
      "NP_001304231.1      FSKNILEASFDSDFKEIDRVLFGEERQQQHGEESQEEGVIVELKREQIRELIKHAKSSSR\n",
      "XP_017433627.1      FSKNVLEASFDSEFKEINRVLFGEEGQQQQGEESQQEGVIVELEREQIRELIKHAKSSSR\n",
      "KHN02730.1          FSKNILEASYDTKFEEINKVLFGREEGQQQGEERLQESVIVEISKKQIRELSKHAKSSSR\n",
      "BAE02726.1          FSKNILEASYDTKFEEINKVLFGREEGQQQGEERLQESVIVEISKKQIRELSKHAKSSSR\n",
      "KYP75005.1          FSKNILEASFDTEFEEINEVLFGEEK-HKHGEQSQQEGVIVKLSKEQIRELSKHAKSSSR\n",
      "                    ****:****:*:.*:**:.****.*  :::**:  :*.***::.::***** ********\n",
      "\n",
      "NP_001304231.1      KELSSQDEPFNLRNSNPIYSNKFGRWYEITPEKNPQLKDLDVFISSVDMKEGGLLLPHYN\n",
      "XP_017433627.1      RSLSSQDEPFNLRNRKPIYSNKFGRWYEITPEKNPQLRDLDLFISSVDMKEGGLLLPHYN\n",
      "KHN02730.1          KTISSEDKPFNLRSHDPIYSNKLGKLFEITPEKNPQLRDLDVFLSVVDMNEGALFLPHFN\n",
      "BAE02726.1          KTISSEDKPFNLRSRDPIYSNKLGKLFEITPEKNPQLRDLDVFLSVVDMNEGALFLPHFN\n",
      "KYP75005.1          KTISSEDKPFNLRSREPIYCNKFGKFFEITPEKNPQLRELDLFLSFVELNEGALFLPHYN\n",
      "                    : :**:*:*****. .***.**:*: :**********::**:*:* *:::**.*:***:*\n",
      "\n",
      "NP_001304231.1      SKAIVILVINEGEAKIELVGPSDQQQ------QDESLEVQRYRAELSEDDVFVIPAAYPV\n",
      "XP_017433627.1      SKAIVILVINEGEANIELVGQREQQQNKLQEEQEESWEVQRYRAELSEDDVFIIPATYPV\n",
      "KHN02730.1          SKAIVVLVINEGEANIELVGIKEQQQR--QQQEEQPLEVRKYRAELSEQDIFVIPAGYPV\n",
      "BAE02726.1          SKAIVVLVINEGEANIELVGIKEQQQR--QQQEEQPLEVRKYRAELSEQDIFVIPAGYPV\n",
      "KYP75005.1          SKAIVILVVNEGEANIELVGISEQHPR-------------RFRAELSENDIFVIPAAFPV\n",
      "                    *****:**:*****:*****  :*:               ::******:*:*:*** :**\n",
      "\n",
      "NP_001304231.1      AINATSNLNFFAFGINAENNQRNFLAGEKDNVMSEIPTEVLDVSFPASGNKVEKLIKKQS\n",
      "XP_017433627.1      AINATSNLNFFAFGINAENNQRNFLAGEKDNVIGEIPTEVLDVTFPASGEKVVKLVKKQS\n",
      "KHN02730.1          VVNATSDLNFFAFGINAENNQRNFLAGSKDNVISQIPSQVQELAFPGSAKDIENLIKSQS\n",
      "BAE02726.1          VVNATSDLNFFAFGINAENNQRNFLAGSKDNVISQIPSQVQELAFPGSAKDIENLIKSQS\n",
      "KYP75005.1          VLNATSNFNFYAFGVNAENNQRNFLAGEKDNVIMQIQRQVKELAFPGSAQDVEKLLKNQK\n",
      "                    .:****::**:***:************.****: :*  :* :::**.*.:.: :*:*.*.\n",
      "\n",
      "NP_001304231.1      ESHFVDAQPEQQQREEGHKGRKGSLSSILGSLY\n",
      "XP_017433627.1      DSHFVDAQPEQ----------------------\n",
      "KHN02730.1          ESYFVDAQPQQ--KEEGNKGRKGPLSSILRAFY\n",
      "BAE02726.1          ESYFVDAQPQQ--KEEGNKGRKGPLSSILRAFY\n",
      "KYP75005.1          DSFFVDAQPQQ--NDEGNKGRKGPLSSILGAFY\n",
      "                    :*.******:*                      \n",
      "\n"
     ]
    }
   ],
   "source": [
    "with open('cltest.aln') as f_in:\n",
    "    print(f_in.read())"
   ]
  },
  {
   "cell_type": "code",
   "execution_count": null,
   "metadata": {
    "collapsed": true
   },
   "outputs": [],
   "source": []
  },
  {
   "cell_type": "code",
   "execution_count": null,
   "metadata": {
    "collapsed": true
   },
   "outputs": [],
   "source": [
    "clpath='c:\\\\windows\\\\program file\\\\clustal\\\\clustalw.exe'\n",
    "cl = MultipleAlignCL('inputfile.fasta',command=clpath)\n"
   ]
  },
  {
   "cell_type": "code",
   "execution_count": null,
   "metadata": {
    "collapsed": true
   },
   "outputs": [],
   "source": [
    "from Bio.Clustalw import do_alignment\n",
    "align = do_alignment(cl)\n"
   ]
  },
  {
   "cell_type": "code",
   "execution_count": null,
   "metadata": {
    "collapsed": true
   },
   "outputs": [],
   "source": [
    "for seq in align.get_all_seqs():\n",
    "    print seq.description\n",
    "    print seq.seq"
   ]
  },
  {
   "cell_type": "markdown",
   "metadata": {},
   "source": [
    "Passing Parameters to ClustalW"
   ]
  },
  {
   "cell_type": "code",
   "execution_count": null,
   "metadata": {
    "collapsed": true
   },
   "outputs": [],
   "source": [
    ">>> from Bio.Clustalw import MultipleAlignCL\n",
    ">>> cl = MultipleAlignCL('inputfile.fasta')\n",
    ">>> cl.gap_open_pen=5\n",
    ">>> cl.gap_ext_pen=3\n",
    ">>> cl.new_tree='outtree.txt'\n",
    ">>> print(cl)\n",
    "clustalw inputfile.fasta -NEWTREE=outtree.txt -align -GAPOPEN=5<=\n",
    " -GAPEXT=3\n"
   ]
  },
  {
   "cell_type": "code",
   "execution_count": null,
   "metadata": {
    "collapsed": true
   },
   "outputs": [],
   "source": [
    "from Bio.Clustalw import MultipleAlignCL\n",
    "from Bio.Clustalw import do_alignment\n",
    "\n",
    "cl = MultipleAlignCL('myseqs.fasta')\n",
    "cl.gap_open_pen = 5\n",
    " 6 cl.gap_ext_pen = 3\n",
    " 7 cl.type='protein'\n",
    " 8 cl.set_output('outfile.aln', output_type='PHYLIP',\n",
    " 9                output_order='ALIGNED')\n",
    "10 cl.set_protein_matrix('PAM')\n",
    "11 # cl.set_guide_tree('tree1.txt')\n",
    "12 cl.set_new_guide_tree('newtree.txt')\n",
    "13 print cl\n"
   ]
  },
  {
   "cell_type": "markdown",
   "metadata": {},
   "source": [
    "SeqIO"
   ]
  },
  {
   "cell_type": "markdown",
   "metadata": {},
   "source": [
    "Reading Sequence Files"
   ]
  },
  {
   "cell_type": "markdown",
   "metadata": {},
   "source": [
    "PONER CURL Para bajar archivo\n",
    "\n",
    "https://raw.githubusercontent.com/sbassi/py4bio/master/samples/BcrA.gp"
   ]
  },
  {
   "cell_type": "code",
   "execution_count": 8,
   "metadata": {
    "collapsed": false
   },
   "outputs": [
    {
     "name": "stdout",
     "output_type": "stream",
     "text": [
      "  % Total    % Received % Xferd  Average Speed   Time    Time     Time  Current\n",
      "                                 Dload  Upload   Total   Spent    Left  Speed\n",
      "100  2393  100  2393    0     0  19406      0 --:--:-- --:--:-- --:--:-- 19614\n"
     ]
    }
   ],
   "source": [
    "!curl https://raw.githubusercontent.com/Serulab/Py4Bio/master/samples/BcrA.gp -o BcrA.gp"
   ]
  },
  {
   "cell_type": "code",
   "execution_count": 18,
   "metadata": {
    "collapsed": false
   },
   "outputs": [
    {
     "name": "stdout",
     "output_type": "stream",
     "text": [
      "ID: AFN94075.1\n",
      "Name: AFN94075\n",
      "Description: BcrA [Listeria monocytogenes].\n",
      "Number of features: 5\n",
      "/references=[Reference(title='Conservation and Distribution of the Benzalkonium Chloride Resistance Cassette bcrABC in Listeria monocytogenes', ...), Reference(title='Direct Submission', ...)]\n",
      "/db_source=accession JX023279.1\n",
      "/topology=linear\n",
      "/sequence_version=1\n",
      "/taxonomy=['Bacteria', 'Firmicutes', 'Bacilli', 'Bacillales', 'Listeriaceae', 'Listeria']\n",
      "/source=Listeria monocytogenes\n",
      "/accessions=['AFN94075']\n",
      "/data_file_division=BCT\n",
      "/date=16-SEP-2013\n",
      "/organism=Listeria monocytogenes\n",
      "/keywords=['']\n",
      "Seq('MSAKKQDKRAHLLNAAIELLGSNDFDTLTLEAVAKQANVSKGGLLYHFPSKEAL...STT', IUPACProtein())\n"
     ]
    }
   ],
   "source": [
    "from Bio import SeqIO\n",
    "\n",
    "with open('BcrA.gp') as f_in:\n",
    "    gbk = SeqIO.parse(f_in,'genbank')\n",
    "    print(next(gbk))"
   ]
  },
  {
   "cell_type": "code",
   "execution_count": null,
   "metadata": {
    "collapsed": true
   },
   "outputs": [],
   "source": []
  },
  {
   "cell_type": "code",
   "execution_count": 21,
   "metadata": {
    "collapsed": false
   },
   "outputs": [
    {
     "name": "stdout",
     "output_type": "stream",
     "text": [
      "ID: AFN94075.1\n",
      "Name: AFN94075\n",
      "Description: BcrA [Listeria monocytogenes].\n",
      "Number of features: 5\n",
      "/references=[Reference(title='Conservation and Distribution of the Benzalkonium Chloride Resistance Cassette bcrABC in Listeria monocytogenes', ...), Reference(title='Direct Submission', ...)]\n",
      "/db_source=accession JX023279.1\n",
      "/topology=linear\n",
      "/sequence_version=1\n",
      "/taxonomy=['Bacteria', 'Firmicutes', 'Bacilli', 'Bacillales', 'Listeriaceae', 'Listeria']\n",
      "/source=Listeria monocytogenes\n",
      "/accessions=['AFN94075']\n",
      "/data_file_division=BCT\n",
      "/date=16-SEP-2013\n",
      "/organism=Listeria monocytogenes\n",
      "/keywords=['']\n",
      "Seq('MSAKKQDKRAHLLNAAIELLGSNDFDTLTLEAVAKQANVSKGGLLYHFPSKEAL...STT', IUPACProtein())\n"
     ]
    }
   ],
   "source": [
    "with open('BcrA.gp') as f_in:\n",
    "    print(SeqIO.read(f_in,'genbank'))"
   ]
  },
  {
   "cell_type": "code",
   "execution_count": null,
   "metadata": {
    "collapsed": true
   },
   "outputs": [],
   "source": [
    "from Bio import SeqIO\n",
    "2 fh = open(\"myprots.fas\")\n",
    "3 for record in SeqIO.parse(fh, \"fasta\"):\n",
    "4     id = record.id\n",
    "5     seq = record.seq\n",
    "6     print(\"Name: %s, size: %s\"%(id,len(seq)))\n",
    "7 fh.close()\n"
   ]
  },
  {
   "cell_type": "code",
   "execution_count": null,
   "metadata": {
    "collapsed": true
   },
   "outputs": [],
   "source": [
    ">Protein-X [Simian immunodeficiency virus]\n",
    "NYLNNLTVDPDHNKCDNTTGRKGNAPGPCVQRTYVACH\n",
    ">Protein-Y [Homo sapiens]\n",
    "MEEPQSDPSVEPPLSQETFSDLWKLLPENNVLSPLPSQAMDDLMLSPDDIEQWFTEDPGPDA\n",
    ">Protein-Z [Rattus norvegicus]\n",
    "MKAAVLAVALVFLTGCQAWEFWQQDEPQSQWDRVKDFATVYVDAVKDSGRDYVSQFESST\n"
   ]
  },
  {
   "cell_type": "markdown",
   "metadata": {},
   "source": [
    "Writing Sequence Files"
   ]
  },
  {
   "cell_type": "code",
   "execution_count": null,
   "metadata": {
    "collapsed": true
   },
   "outputs": [],
   "source": [
    "1 from Bio import SeqIO\n",
    " 2 from Bio.Seq import Seq\n",
    " 3 from Bio.SeqRecord import SeqRecord\n",
    " 4 fh = open('NC2033.txt')\n",
    " 5 f_out = open('NC2033.fasta','w')\n",
    " 6 rawseq = fh.read().replace('\\n','')\n",
    " 7 #record = [SeqRecord(Seq(rawseq),'NC2033.txt','','')]\n",
    " 8 record = (SeqRecord(Seq(rawseq),'NC2033.txt','',''),)\n",
    " 9 SeqIO.write(record, f_out,'fasta')\n",
    "10 f_out.close()\n",
    "11 fh.close()"
   ]
  },
  {
   "cell_type": "code",
   "execution_count": null,
   "metadata": {
    "collapsed": true
   },
   "outputs": [],
   "source": [
    "from Bio import SeqIO\n",
    "fo_handle = open('myseqs.fasta','w')\n",
    "readseq = SeqIO.parse(open('myseqs.gbk'), \"genbank\")\n",
    "SeqIO.write(readseq, fo_handle, \"fasta\")\n",
    "fo_handle.close()"
   ]
  },
  {
   "cell_type": "markdown",
   "metadata": {},
   "source": [
    "AlignIO"
   ]
  },
  {
   "cell_type": "code",
   "execution_count": null,
   "metadata": {
    "collapsed": true
   },
   "outputs": [],
   "source": [
    ">>> from Bio import AlignIO\n",
    ">>> fn = open(\"secu3.aln\")\n",
    ">>> align = AlignIO.read(fn, \"clustal\")\n",
    ">>> print align\n",
    "SingleLetterAlphabet() alignment with 3 rows and 1098 columns\n",
    "--------------------------------------...--- secu3\n",
    "--------------------------------------...--- AT1G14990.1-CDS\n",
    "GCTTTGCTATGCTATATGTTTATTACATTGTGCCTCTG...CAC AT1G14990.1-SEQ"
   ]
  },
  {
   "cell_type": "code",
   "execution_count": null,
   "metadata": {
    "collapsed": true
   },
   "outputs": [],
   "source": [
    "fi = open('/home/sb/bioinfo/example.aln')\n",
    "fo = open('/home/sb/bioinfo/example.phy','w')\n",
    "align = AlignIO.read(fi,\"clustal\")\n",
    "AlignIO.write([alig],fo,\"phylip\")\n",
    "fo.close()\n"
   ]
  },
  {
   "cell_type": "code",
   "execution_count": null,
   "metadata": {
    "collapsed": true
   },
   "outputs": [],
   "source": [
    "BLAST"
   ]
  },
  {
   "cell_type": "markdown",
   "metadata": {},
   "source": [
    "Starting a Blast Job"
   ]
  },
  {
   "cell_type": "code",
   "execution_count": null,
   "metadata": {
    "collapsed": true
   },
   "outputs": [],
   "source": [
    "1 from Bio.Blast import NCBIStandalone as BLAST\n",
    "2 b_exe = '/home/sb/blast-2.2.20/bin/blastall'\n",
    "3 f_in = 'seq3.txt'\n",
    "4 b_db = '/home/sb/blast-2.2.20/data/TAIR8cds'\n",
    "5 rh, eh = BLAST.blastall(b_exe, \"blastn\", b_db, f_in)"
   ]
  },
  {
   "cell_type": "code",
   "execution_count": null,
   "metadata": {
    "collapsed": true
   },
   "outputs": [],
   "source": [
    ">>> rh.readline()\n",
    "<?xml version=\"1.0\"?>\n",
    ">>> rh.readline()\n",
    "'<!DOCTYPE BlastOutput PUBLIC \"-//NCBI//NCBI BlastOutput/EN\"<=\n",
    " \"http://www.ncbi.nlm.nih.gov/dtd/NCBI_BlastOutput.dtd\">\\n'\n"
   ]
  },
  {
   "cell_type": "code",
   "execution_count": null,
   "metadata": {
    "collapsed": true
   },
   "outputs": [],
   "source": [
    ">>> eh.readline()\n",
    "''"
   ]
  },
  {
   "cell_type": "code",
   "execution_count": null,
   "metadata": {
    "collapsed": true
   },
   "outputs": [],
   "source": [
    "$ ./blastall -p blastn -i seq3.txt -d TAIR8cds -m 7"
   ]
  },
  {
   "cell_type": "code",
   "execution_count": null,
   "metadata": {
    "collapsed": true
   },
   "outputs": [],
   "source": [
    ">>> fh = open('testblast.xml','w')\n",
    ">>> fh.write(rh.read())\n",
    ">>> fh.close()"
   ]
  },
  {
   "cell_type": "markdown",
   "metadata": {},
   "source": [
    "Reading the BLAST Output"
   ]
  },
  {
   "cell_type": "code",
   "execution_count": null,
   "metadata": {
    "collapsed": true
   },
   "outputs": [],
   "source": [
    "from Bio.Blast import NCBIXML\n",
    "for blast_record in NCBIXML.parse(rh):\n",
    "    # Do something with blast_record"
   ]
  },
  {
   "cell_type": "code",
   "execution_count": null,
   "metadata": {
    "collapsed": true
   },
   "outputs": [],
   "source": [
    "1 from Bio.Blast import NCBIXML\n",
    "2 xmlfh = open('/home/sb/bioinfo/other.xml') # BLAST output file.\n",
    "3 for record in NCBIXML.parse(xmlfh):\n",
    "4     for align in record.alignments:\n",
    "5         print align.title\n",
    "gi|110804074|ref|NC_008258.1| Shigella flexneri 5 str. 8401\n",
    "gi|89106884|ref|AC_000091.1| Escherichia coli W3110 DNA\n",
    "gi|117622295|ref|NC_008563.1| Escherichia coli APEC O1\n"
   ]
  },
  {
   "cell_type": "code",
   "execution_count": null,
   "metadata": {
    "collapsed": true
   },
   "outputs": [],
   "source": [
    ">>> alig.length\n",
    "3630528\n",
    ">>> alig.hit_id\n",
    "u'gi|23097455|ref|NC_004193.1|'\n",
    ">>> alig.accession\n",
    "u'NC_004193'\n",
    ">>> alig.hit_def\n",
    "u'Oceanobacillus iheyensis HTE831, complete genome'\n",
    ">>> alig.hsps\n",
    "[<Bio.Blast.Record.HSP instance at 0xb65eb8cc>]\n"
   ]
  },
  {
   "cell_type": "markdown",
   "metadata": {},
   "source": [
    ">ref|NC_008258.1| Shigella flexneri 5 str. 8401, complete genome\n",
    " gb|CP000266.1| Shigella flexneri 5 str. 8401, complete genome\n",
    "          Length = 4574284\n",
    "\n",
    " Score = 75.8 bits (38), Expect = 2e-12\n",
    " Identities = 41/42 (97%)\n",
    " Strand = Plus / Plus\n",
    "\n",
    "Query: 1     taataagcggggttaccggttgggatagcgagaagagccagt 42\n",
    "             |||||||||||||||||||||||| |||||||||||||||||\n",
    "Sbjct: 67778 taataagcggggttaccggttgggttagcgagaagagccagt 67819\n"
   ]
  },
  {
   "cell_type": "code",
   "execution_count": null,
   "metadata": {
    "collapsed": true
   },
   "outputs": [],
   "source": [
    ">>> blast_record = NCBIXML.parse(open(xmlfile)).next()\n",
    ">>> align = blast_record.alignments[0]\n",
    ">>> hsp = align.hsps[0]\n",
    ">>> hsp.bits\n",
    "75.822299999999998\n",
    ">>> hsp.score\n",
    "38.0\n",
    ">>> hsp.expect\n",
    "2.3846099999999999e-12\n",
    ">>> hsp.identities\n",
    "41\n",
    ">>> hsp.align_length\n",
    "42\n",
    ">>> hsp.frame\n",
    "(1, 1)\n",
    ">>> hsp.query_start\n",
    "1\n",
    ">>> hsp.query_end\n",
    "42\n",
    ">>> hsp.sbjct_start\n",
    "67778\n",
    ">>> hsp.sbjct_end\n",
    "67819\n",
    ">>> hsp.query\n",
    "u'TAATAAGCGGGGTTACCGGTTGGGATAGCGAGAAGAGCCAGT'\n",
    ">>> hsp.match\n",
    "u'|||||||||||||||||||||||| |||||||||||||||||'\n",
    ">>> hsp.sbjct\n",
    "u'TAATAAGCGGGGTTACCGGTTGGGTTAGCGAGAAGAGCCAGT'\n"
   ]
  },
  {
   "cell_type": "code",
   "execution_count": null,
   "metadata": {
    "collapsed": true
   },
   "outputs": [],
   "source": [
    "1 from Bio.Blast import NCBIXML\n",
    "2 threshold = 0.0001\n",
    "3 xmlfh = open('/home/sb/bioinfo/other.xml')\n",
    "4 blast_record = NCBIXML.parse(open(xmlfh)).next()\n",
    "5 for align in blast_record.alignments:\n",
    "6     if align.hsps[0].expect < threshold:\n",
    "7         print align.accession"
   ]
  },
  {
   "cell_type": "markdown",
   "metadata": {},
   "source": [
    "Tip: BLAST Running and Processing without Biopython."
   ]
  },
  {
   "cell_type": "markdown",
   "metadata": {},
   "source": [
    "Data\n"
   ]
  },
  {
   "cell_type": "code",
   "execution_count": null,
   "metadata": {
    "collapsed": true
   },
   "outputs": [],
   "source": [
    ">>> from Bio.Data import IUPACData\n",
    ">>> IUPACData.ambiguous_dna_values['M']\n",
    "'AC'\n",
    ">>> IUPACData.ambiguous_dna_values['H']\n",
    "'ACT'\n",
    ">>> IUPACData.ambiguous_dna_values['X']\n",
    "'GATC'"
   ]
  },
  {
   "cell_type": "code",
   "execution_count": null,
   "metadata": {
    "collapsed": true
   },
   "outputs": [],
   "source": [
    "1 from Bio.Data.IUPACData import protein_weights as protweight\n",
    "2 protseq = raw_input(\"Enter your protein sequence: \")\n",
    "3 totalW = 0\n",
    "4 for aa in protseq:\n",
    "5     totalW += protweight.get(aa.upper(),0)\n",
    "6 totalW -= 18*(len(protseq)-1)\n",
    "7 print(\"The net weight is: %s\" % totalW)"
   ]
  },
  {
   "cell_type": "code",
   "execution_count": null,
   "metadata": {
    "collapsed": true
   },
   "outputs": [],
   "source": [
    ">>> from Bio.Data.CodonTable import unambiguous_dna_by_id\n",
    ">>> bact_trans=unambiguous_dna_by_id[11]\n",
    ">>> bact_trans.forward_table['GTC']\n",
    "'V'\n",
    ">>> bact_trans.back_table['R']\n",
    "'CGT'"
   ]
  },
  {
   "cell_type": "code",
   "execution_count": 7,
   "metadata": {
    "collapsed": false,
    "scrolled": true
   },
   "outputs": [
    {
     "name": "stdout",
     "output_type": "stream",
     "text": [
      "Table 2 Vertebrate Mitochondrial, SGC1\n",
      "\n",
      "  |  U      |  C      |  A      |  G      |\n",
      "--+---------+---------+---------+---------+--\n",
      "U | UUU F   | UCU S   | UAU Y   | UGU C   | U\n",
      "U | UUC F   | UCC S   | UAC Y   | UGC C   | C\n",
      "U | UUA L   | UCA S   | UAA Stop| UGA W   | A\n",
      "U | UUG L   | UCG S   | UAG Stop| UGG W   | G\n",
      "--+---------+---------+---------+---------+--\n",
      "C | CUU L   | CCU P   | CAU H   | CGU R   | U\n",
      "C | CUC L   | CCC P   | CAC H   | CGC R   | C\n",
      "C | CUA L   | CCA P   | CAA Q   | CGA R   | A\n",
      "C | CUG L   | CCG P   | CAG Q   | CGG R   | G\n",
      "--+---------+---------+---------+---------+--\n",
      "A | AUU I(s)| ACU T   | AAU N   | AGU S   | U\n",
      "A | AUC I(s)| ACC T   | AAC N   | AGC S   | C\n",
      "A | AUA M(s)| ACA T   | AAA K   | AGA Stop| A\n",
      "A | AUG M(s)| ACG T   | AAG K   | AGG Stop| G\n",
      "--+---------+---------+---------+---------+--\n",
      "G | GUU V   | GCU A   | GAU D   | GGU G   | U\n",
      "G | GUC V   | GCC A   | GAC D   | GGC G   | C\n",
      "G | GUA V   | GCA A   | GAA E   | GGA G   | A\n",
      "G | GUG V(s)| GCG A   | GAG E   | GGG G   | G\n",
      "--+---------+---------+---------+---------+--\n"
     ]
    }
   ],
   "source": [
    "from Bio.Data import CodonTable\n",
    "print(CodonTable.generic_by_id[2])"
   ]
  },
  {
   "cell_type": "markdown",
   "metadata": {},
   "source": [
    "Entrez"
   ]
  },
  {
   "cell_type": "code",
   "execution_count": null,
   "metadata": {
    "collapsed": true
   },
   "outputs": [],
   "source": [
    "1 from Bio import Entrez\n",
    " 2 my_em = 'user@example.com'\n",
    " 3 db = \"pubmed\"\n",
    " 4 # Search de Entrez website using esearch from eUtils\n",
    " 5 # esearch returns a handle (called h_search)\n",
    " 6 h_search = Entrez.esearch(db=db, email=my_em,\n",
    " 7                           term=\"python and bioinformatics\")\n",
    " 8 # Parse the result with Entrez.read()\n",
    " 9 record = Entrez.read(h_search)\n",
    "10 # Get the list of Ids returned by previous search\n",
    "11 res_ids = record[\"IdList\"]\n",
    "12 # For each id in the list\n",
    "13 for r_id in res_ids:\n",
    "14     # Get summary information for each id\n",
    "15     h_summ = Entrez.esummary(db=db, id=r_id, email=my_em)\n",
    "16     # Parse the result with Entrez.read()\n",
    "17     summ = Entrez.read(h_summ)\n",
    "18     print(summ[0]['Title'])\n",
    "19     print(summ[0]['DOI'])\n",
    "20     print('==============================================')\n"
   ]
  },
  {
   "cell_type": "markdown",
   "metadata": {},
   "source": [
    "eUtils: Retrieving Gene Information"
   ]
  },
  {
   "cell_type": "code",
   "execution_count": null,
   "metadata": {
    "collapsed": true
   },
   "outputs": [],
   "source": [
    "1 from Bio import Entrez\n",
    " 2 my_em = 'user@example.com'\n",
    " 3 db = \"gene\"\n",
    " 4 term = 'cobalamin synthase homo sapiens'\n",
    " 5 h_search = Entrez.esearch(db=db, email=my_em, term=term)\n",
    " 6 record = Entrez.read(h_search)\n",
    " 7 res_ids = record[\"IdList\"]\n",
    " 8 for r_id in res_ids:\n",
    " 9     h_summ = Entrez.esummary(db=db, id=r_id, email=my_em)\n",
    "10     summ = Entrez.read(h_summ)\n",
    "11     print(r_id)\n",
    "12     print(summ[0]['Description'])\n",
    "13     print(summ[0]['Summary'])\n",
    "14     print('==============================================')"
   ]
  },
  {
   "cell_type": "code",
   "execution_count": null,
   "metadata": {
    "collapsed": true
   },
   "outputs": [],
   "source": [
    ">>> n = \"nucleotide\"\n",
    ">>> handle = Entrez.efetch(db=n, id=\"326625\", rettype='fasta')\n",
    ">>> print handle.read()\n",
    ">gi|326625|gb|M77599.1|HIVED82FO Human immunodeficiency virus<=\n",
    " type 1 gp120 (env) gene sequence\n",
    "TTAATAGTACTTGGAATTCAACATGGGATTTAACACAACTTAATAGTACTCAGAATAAAGA\n",
    "AGAAAATATCACACTCCCATGTAGAATAAAACAAATTATAAACATGTGGCAGGAAGTAGGA\n",
    "AAAGCAATGTATGCCCCTCCCATCAAAGGACAAATTAAATGTTCATCAAATATTACAGGGC\n",
    "TACTATTAACAAGAGATGGTGGTAATAGTGGTAACAAAAGCAACGACACCACCGAGACCTT\n",
    "CAGACC"
   ]
  },
  {
   "cell_type": "code",
   "execution_count": null,
   "metadata": {
    "collapsed": true
   },
   "outputs": [],
   "source": [
    ">>> handle = Entrez.efetch(db=n, id=\"326625\", retmode='xml')\n",
    ">>> record[0]['GBSeq_moltype']\n",
    "'RNA'\n",
    ">>> record[0]['GBSeq_sequence']\n",
    "'ttaatagtacttggaattcaacatgggatttaacacaacttaatagtactcagaataaaga<=\n",
    "agaaaatatcacactcccatgtagaataaaacaaattataaacatgtggcaggaagtaggaa<=\n",
    "aagcaatgtatgcccctcccatcaaaggacaaattaaatgttcatcaaatattacagggcta<=\n",
    "ctattaacaagagatggtggtaatagtggtaacaaaagcaacgacaccaccgagaccttcag<=\n",
    "acc'\n",
    ">>> record[0]['GBSeq_organism']\n",
    "'Human immunodeficiency virus 1'"
   ]
  },
  {
   "cell_type": "markdown",
   "metadata": {},
   "source": [
    "PDB"
   ]
  },
  {
   "cell_type": "markdown",
   "metadata": {},
   "source": [
    "Bio.PDB Module"
   ]
  },
  {
   "cell_type": "code",
   "execution_count": null,
   "metadata": {
    "collapsed": true
   },
   "outputs": [],
   "source": [
    ">>> from Bio.PDB.PDBParser import PDBParser\n",
    ">>> pdbfn = '/home/sb/bioinfo/1FAT.pdb'\n",
    ">>> parser = PDBParser(PERMISSIVE=1)\n",
    ">>> structure = parser.get_structure(\"1fat\", pdbfn)\n",
    "WARNING: Chain A is discontinuous at line 7808.\n",
    "(... some warnings removed ...)\n",
    "WARNING: Chain D is discontinuous at line 7870.\n",
    ">>> structure.child_list\n",
    "[<Model id=0>]\n",
    ">>> model = structure[0]\n",
    ">>> model.child_list\n",
    "[<Chain id=A>, <Chain id=B>, <Chain id=C>, <Chain id=D>, <=\n",
    "<Chain id= >]\n",
    ">>> chain = model['B']\n",
    ">>> chain.child_list[:5]\n",
    "[<Residue SER het=  resseq=1 icode= >, <Residue ASN het= <=\n",
    " resseq=2 icode= >, <Residue ASP het=  resseq=3 icode= >,<=\n",
    " <Residue ILE het=  resseq=4 icode= >, <Residue TYR het= <=\n",
    " resseq=5 icode= >]\n",
    ">>> residue = chain[4]\n",
    ">>> residue.child_list\n",
    "[<Atom N>, <Atom CA>, <Atom C>, <Atom O>, <Atom CB>, <=\n",
    "<Atom CG1>, <Atom CG2>, <Atom CD1>]\n",
    ">>> atom = residue['CB']\n",
    ">>> atom.bfactor\n",
    "14.130000000000001\n",
    ">>> atom.coord\n",
    "array([ 34.30699921,  -1.57500005,  29.06800079],'f')\n"
   ]
  },
  {
   "cell_type": "code",
   "execution_count": null,
   "metadata": {
    "collapsed": true
   },
   "outputs": [],
   "source": [
    "1 import gzip\n",
    " 2 from Bio.PDB.PDBParser import PDBParser\n",
    " 3\n",
    " 4 def disorder(structure):\n",
    " 5     for chain in structure[0].get_list():\n",
    " 6         for residue in chain.get_list():\n",
    " 7             for atom in residue.get_list():\n",
    " 8                 if atom.is_disordered():\n",
    " 9                     print residue, atom\n",
    "10     return None\n",
    "11\n",
    "12 pdbfn = '/home/sb/bioinfo/pdb1apk.ent.gz'\n",
    "13 handle = gzip.GzipFile(pdbfn)\n",
    "14 parser = PDBParser()\n",
    "15 structure = parser.get_structure(\"test\", handle)\n",
    "16 disorder(structure)"
   ]
  },
  {
   "cell_type": "markdown",
   "metadata": {},
   "source": [
    "Prosite"
   ]
  },
  {
   "cell_type": "code",
   "execution_count": null,
   "metadata": {
    "collapsed": true
   },
   "outputs": [],
   "source": [
    ">>> from Bio import Prosite\n",
    ">>> handle = open(\"prosite.dat\")\n",
    ">>> records = Prosite.parse(handle)\n",
    ">>> for r in records:\n",
    "    print(r.accession)\n",
    "    print(r.name)\n",
    "    print(r.description)\n",
    "    print(r.pattern)\n",
    "    print(r.created)\n",
    "    print(r.pdoc)\n",
    "    print(\"===================================\")\n",
    "\n",
    "\n",
    "PS00001\n",
    "ASN_GLYCOSYLATION\n",
    "N-glycosylation site.\n",
    "N-{P}-[ST]-{P}.\n",
    "APR-1990\n",
    "PDOC00001\n",
    "===================================\n",
    "PS00004\n",
    "CAMP_PHOSPHO_SITE\n",
    "cAMP- and cGMP-dependent protein kinase phosphorylation site.\n",
    "[RK](2)-x-[ST].\n",
    "APR-1990\n",
    "PDOC00004\n",
    "===================================\n",
    "PS00005\n",
    "PKC_PHOSPHO_SITE\n",
    "Protein kinase C phosphorylation site.\n",
    "[ST]-x-[RK].\n",
    "APR-1990\n",
    "PDOC00005\n",
    "===================================\n"
   ]
  },
  {
   "cell_type": "markdown",
   "metadata": {},
   "source": [
    "Restriction"
   ]
  },
  {
   "cell_type": "markdown",
   "metadata": {},
   "source": [
    "Bio.Restriction Module"
   ]
  },
  {
   "cell_type": "code",
   "execution_count": null,
   "metadata": {
    "collapsed": true
   },
   "outputs": [],
   "source": [
    ">>> from Bio import Restriction\n",
    ">>> Restriction.EcoRI\n",
    "EcoRI\n"
   ]
  },
  {
   "cell_type": "code",
   "execution_count": null,
   "metadata": {
    "collapsed": true
   },
   "outputs": [],
   "source": [
    ">>> from Bio.Seq import Seq\n",
    ">>> from Bio.Alphabet.IUPAC import IUPACAmbiguousDNA\n",
    ">>> alfa = IUPACAmbiguousDNA()\n",
    ">>> gi1942535 = Seq('CGCGAATTCGCG', alfa)\n",
    ">>> Restriction.EcoRI.search(gi1942535)\n",
    "[5]"
   ]
  },
  {
   "cell_type": "code",
   "execution_count": null,
   "metadata": {
    "collapsed": true
   },
   "outputs": [],
   "source": [
    ">>> Restriction.EcoRI.catalyse(gi1942535)\n",
    "(Seq('CGCG', IUPACAmbiguousDNA()), Seq('AATTCGCG', <=\n",
    "IUPACAmbiguousDNA()))\n"
   ]
  },
  {
   "cell_type": "code",
   "execution_count": null,
   "metadata": {
    "collapsed": true
   },
   "outputs": [],
   "source": [
    ">>> enz1 = Restriction.EcoRI\n",
    ">>> enz2 = Restriction.HindIII\n",
    ">>> batch1 = Restriction.RestrictionBatch([enz1, enz2])\n",
    ">>> batch1.search(gi1942535)\n",
    "{EcoRI: [5], HindIII: []}\n"
   ]
  },
  {
   "cell_type": "code",
   "execution_count": null,
   "metadata": {
    "collapsed": true
   },
   "outputs": [],
   "source": [
    ">>> dd = batch1.search(gi1942535)\n",
    ">>> dd.get(Restriction.EcoRI)\n",
    "[5]\n",
    ">>> dd.get(Restriction.HindIII)\n",
    "[]\n"
   ]
  },
  {
   "cell_type": "code",
   "execution_count": null,
   "metadata": {
    "collapsed": true
   },
   "outputs": [],
   "source": [
    ">>> batch1.add(Restriction.EarI)\n",
    ">>> batch1\n",
    "RestrictionBatch(['EarI', 'EcoRI', 'HindIII'])\n",
    ">>> batch1.remove(Restriction.EarI)\n",
    ">>> batch1\n",
    "RestrictionBatch(['EcoRI', 'HindIII'])\n"
   ]
  },
  {
   "cell_type": "code",
   "execution_count": null,
   "metadata": {
    "collapsed": true
   },
   "outputs": [],
   "source": [
    ">>> batch2 = Restriction.CommOnly"
   ]
  },
  {
   "cell_type": "markdown",
   "metadata": {},
   "source": [
    "Analysis Class: All in One"
   ]
  },
  {
   "cell_type": "code",
   "execution_count": null,
   "metadata": {
    "collapsed": true
   },
   "outputs": [],
   "source": [
    ">>> an1 = Restriction.Analysis(batch1,gi1942535)\n",
    ">>> an1.full()\n",
    "{HindIII: [], EcoRI: [5]}\n"
   ]
  },
  {
   "cell_type": "code",
   "execution_count": null,
   "metadata": {
    "collapsed": true
   },
   "outputs": [],
   "source": [
    ">>> an1.print_that()\n",
    "\n",
    "EcoRI      :  5.\n",
    "\n",
    "   Enzymes which do not cut the sequence.\n",
    "\n",
    "HindIII\n",
    "\n",
    ">>> an1.print_as('map')\n",
    ">>> an1.print_that()\n",
    "\n",
    "    5 EcoRI\n",
    "    |\n",
    "CGCGAATTCGCG\n",
    "||||||||||||\n",
    "GCGCTTAAGCGC\n",
    "1                           12\n",
    "\n",
    "\n",
    "   Enzymes which do not cut the sequence.\n",
    "\n",
    "HindIII\n",
    "\n",
    ">>> an1.only_between(1,8)\n",
    "{EcoRI: [5]}\n"
   ]
  },
  {
   "cell_type": "markdown",
   "metadata": {},
   "source": [
    "SeqUtils"
   ]
  },
  {
   "cell_type": "markdown",
   "metadata": {},
   "source": [
    "DNA Utils"
   ]
  },
  {
   "cell_type": "code",
   "execution_count": null,
   "metadata": {
    "collapsed": true
   },
   "outputs": [],
   "source": [
    ">>> from Bio.SeqUtils import GC\n",
    ">>> GC('gacgatcggtattcgtag')\n",
    "50.0\n"
   ]
  },
  {
   "cell_type": "code",
   "execution_count": null,
   "metadata": {
    "collapsed": true
   },
   "outputs": [],
   "source": [
    ">>> from Bio.SeqUtils import MeltingTemp\n",
    ">>> MeltingTemp.Tm_staluc('tgcagtacgtatcgt')\n",
    "42.211472744873447\n",
    ">>> print '%.2f'%MeltingTemp.Tm_staluc('tgcagtacgtatcgt')\n",
    "42.21\n"
   ]
  },
  {
   "cell_type": "code",
   "execution_count": null,
   "metadata": {
    "collapsed": true
   },
   "outputs": [],
   "source": [
    ">>> from Bio.SeqUtils import CheckSum\n",
    ">>> myseq = 'acaagatgccattgtcccccggcctcctgctgctgct'\n",
    ">>> CheckSum.gcg(myseq)\n",
    "1149\n",
    ">>> CheckSum.crc32(myseq)\n",
    "-2106438743\n",
    ">>> CheckSum.crc64(myseq)\n",
    "'CRC-A2CFDBE6AB3F7CFF'\n",
    ">>> CheckSum.seguid(myseq)\n",
    "'9V7Kf19tfPA5TntEP75YiZEm/9U'\n"
   ]
  },
  {
   "cell_type": "markdown",
   "metadata": {},
   "source": [
    "Protein Utils"
   ]
  },
  {
   "cell_type": "code",
   "execution_count": null,
   "metadata": {
    "collapsed": true
   },
   "outputs": [],
   "source": [
    " 1 from Bio.SeqUtils.ProtParam import ProteinAnalysis\n",
    " 2 from Bio.SeqUtils import ProtParamData\n",
    " 3 from Bio import SeqIO\n",
    " 4\n",
    " 5 fh = open('/home/sb/bioinfo/pdbaa')\n",
    " 6 for rec in SeqIO.parse(fh,'fasta'):\n",
    " 7     myprot = ProteinAnalysis(str(rec.seq))\n",
    " 8     print(myprot.count_amino_acids())\n",
    " 9     print(myprot.get_amino_acids_percent())\n",
    "10     print(myprot.molecular_weight())\n",
    "11     print(myprot.aromaticity())\n",
    "12     print(myprot.instability_index())\n",
    "13     print(myprot.flexibility())\n",
    "14     print(myprot.isoelectric_point())\n",
    "15     print(myprot.secondary_structure_fraction())\n",
    "16     print(myprot.protein_scale(ProtParamData.kd, 9, .4))\n",
    "17 fh.close()\n"
   ]
  },
  {
   "cell_type": "markdown",
   "metadata": {},
   "source": [
    "Sequencing"
   ]
  },
  {
   "cell_type": "markdown",
   "metadata": {},
   "source": [
    "Phd Files"
   ]
  },
  {
   "cell_type": "code",
   "execution_count": null,
   "metadata": {
    "collapsed": true
   },
   "outputs": [],
   "source": [
    " 1 import pprint\n",
    " 2 from Bio.Sequencing import Phd\n",
    " 3\n",
    " 4 fn = '/home/sb/bt/biopython-1.50/Tests/Phd/phd1'\n",
    " 5 fh = open(fn)\n",
    " 6 rp = Phd.RecordParser()\n",
    " 7 # Create an iterator\n",
    " 8 it = Phd.Iterator(fh,rp)\n",
    " 9 for r in it:\n",
    "10     # All the comments are in a dictionary\n",
    "11     pprint.pprint(r.comments)\n",
    "12     # Sequence information\n",
    "13     print('Sequence: %s' % r.seq)\n",
    "14     # Quality information for each base\n",
    "15     print('Quality: %s' % r.sites)\n",
    "16 fh.close()\n"
   ]
  },
  {
   "cell_type": "code",
   "execution_count": null,
   "metadata": {
    "collapsed": true
   },
   "outputs": [],
   "source": [
    ">>> from Bio import SeqIO\n",
    ">>> fn = '/home/sb/bioinfo/biopython-1.43/Tests/Phd/phd1'\n",
    ">>> fh = open(fn)\n",
    ">>> seqs = SeqIO.parse(fh,'phd')\n",
    ">>> seqs = SeqIO.parse(fh,'phd')\n",
    ">>> for s in seqs:\n",
    "    print(s.seq)\n",
    "\n",
    "\n",
    "ctccgtcggaacatcatcggatcctatcacagagtttttgaacgagttctcg\n",
    "(...)\n"
   ]
  },
  {
   "cell_type": "markdown",
   "metadata": {},
   "source": [
    "Ace Files"
   ]
  },
  {
   "cell_type": "code",
   "execution_count": null,
   "metadata": {
    "collapsed": true
   },
   "outputs": [],
   "source": [
    ">>> from Bio.Sequencing import Ace\n",
    ">>> fn='836CLEAN-100.fasta.cap.ace'\n",
    ">>> acefilerecord=Ace.read(open(fn))\n",
    ">>> acefilerecord.ncontigs\n",
    "87\n",
    ">>> acefilerecord.nreads\n",
    "277\n",
    ">>> acefilerecord.wa[0].info\n",
    "['phrap 304_nuclsu.fasta.screen -new_ace -retain_duplicates', <=\n",
    "'phrap version 0.990329']\n",
    ">>> acefilerecord.wa[0].date\n",
    "'040203:114710'\n"
   ]
  },
  {
   "cell_type": "code",
   "execution_count": null,
   "metadata": {
    "collapsed": true
   },
   "outputs": [],
   "source": [
    " 1 from Bio.Sequencing import Ace\n",
    " 2\n",
    " 3 fn = '/home/sb/bt/biopython-1.50/Tests/Ace/contig1.ace'\n",
    " 4 acefilerecord = Ace.read(open(fn))\n",
    " 5\n",
    " 6 # For each contig:\n",
    " 7 for ctg in acefilerecord.contigs:\n",
    " 8     print '=========================================='\n",
    " 9     print 'Contig name: %s'%ctg.name\n",
    "10     print 'Bases: %s'%ctg.nbases\n",
    "11     print 'Reads: %s'%ctg.nreads\n",
    "12     print 'Segments: %s'%ctg.nsegments\n",
    "13     print 'Sequence: %s'%ctg.sequence\n",
    "14     print 'Quality: %s'%ctg.quality\n",
    "15     # For each read in contig:\n",
    "16     for read in ctg.reads:\n",
    "17         print 'Read name: %s'%read.rd.name\n",
    "18         print 'Align start: %s'%read.qa.align_clipping_start\n",
    "19         print 'Align end: %s'%read.qa.align_clipping_end\n",
    "20         print 'Qual start: %s'%read.qa.qual_clipping_start\n",
    "21         print 'Qual end: %s'%read.qa.qual_clipping_end\n",
    "22         print 'Read sequence: %s'%read.rd.sequence\n",
    "23         print '=========================================='\n"
   ]
  },
  {
   "cell_type": "markdown",
   "metadata": {},
   "source": [
    "SwissProt"
   ]
  },
  {
   "cell_type": "code",
   "execution_count": null,
   "metadata": {
    "collapsed": true
   },
   "outputs": [],
   "source": [
    "1 from Bio import SwissProt\n",
    "2 fh = open('spfile.txt')\n",
    "3 records = SwissProt.parse(fh)\n",
    "4 for record in records:\n",
    "5     print('Entry name: %s' % record.entry_name)\n",
    "6     print('Accession(s): %s' % ','.join(record.accessions))\n",
    "7     print('Keywords: %s' % ','.join(record.keywords))\n",
    "8     print('Sequence: %s' % record.sequence)\n",
    "9 fh.close()\n"
   ]
  },
  {
   "cell_type": "code",
   "execution_count": null,
   "metadata": {
    "collapsed": true
   },
   "outputs": [],
   "source": [
    "1 from Bio import SwissProt\n",
    "2 fh = open('/home/sb/bioinfo/spfile.txt')\n",
    "3 record = SwissProt.parse(fh).next()\n",
    "4 for att in dir(record):\n",
    "5     if not att.startswith('__'):\n",
    "6         print(att,getattr(record,att))\n"
   ]
  }
 ],
 "metadata": {
  "kernelspec": {
   "display_name": "Python 3",
   "language": "python",
   "name": "python3"
  },
  "language_info": {
   "codemirror_mode": {
    "name": "ipython",
    "version": 3
   },
   "file_extension": ".py",
   "mimetype": "text/x-python",
   "name": "python",
   "nbconvert_exporter": "python",
   "pygments_lexer": "ipython3",
   "version": "3.5.1"
  }
 },
 "nbformat": 4,
 "nbformat_minor": 2
}
