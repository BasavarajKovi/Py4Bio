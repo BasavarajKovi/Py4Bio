{
 "cells": [
  {
   "cell_type": "markdown",
   "metadata": {
    "collapsed": true
   },
   "source": [
    "Python for Bioinformatics\n",
    "-----------------------------\n",
    "\n",
    "![title](https://s3.amazonaws.com/py4bio/tapabiosmall.png)\n",
    "\n",
    "This Jupyter notebook is intented to be used alongside the book [Python for Bioinformatics](http://py3.us/)\n",
    "\n"
   ]
  },
  {
   "cell_type": "markdown",
   "metadata": {},
   "source": [
    "Chapter 19: Filtering Out Specific Fields from a GenBank File\n",
    "-----------------------------"
   ]
  },
  {
   "cell_type": "markdown",
   "metadata": {},
   "source": [
    "**Note:** Before opening the file, this file should be accesible from this Jupyter notebook. In order to do so, the following commands will download these files from Github and extract them into a directory called samples."
   ]
  },
  {
   "cell_type": "code",
   "execution_count": 1,
   "metadata": {
    "collapsed": false,
    "scrolled": true
   },
   "outputs": [
    {
     "name": "stdout",
     "output_type": "stream",
     "text": [
      "  % Total    % Received % Xferd  Average Speed   Time    Time     Time  Current\n",
      "                                 Dload  Upload   Total   Spent    Left  Speed\n",
      "100 16.5M  100 16.5M    0     0  22.0M      0 --:--:-- --:--:-- --:--:-- 22.0M\n",
      "mkdir: cannot create directory 'samples': File exists\n",
      "BLAST_output.xml\n",
      "TAIR7_Transcripts_by_map_position.gz\n",
      "pMOSBlue.txt\n",
      "fishbacteria.csv\n",
      "UniVec_Core.nsq\n",
      "t3beta.fasta\n",
      "PythonU.db\n",
      "input4align.dnd\n",
      "pdb1apk.ent.gz\n",
      "readme.txt\n",
      "contig1.ace\n",
      "example.aln\n",
      "hsc1.fasta\n",
      "bioinfo/seqs/15721870.fasta\n",
      "primers.txt\n",
      "bioinfo/seqs/4586830.fasta\n",
      "bioinfo/seqs/7638455.fasta\n",
      "GSM188012.CEL\n",
      "3seqs.fas\n",
      "sampleX.fas\n",
      "sampleXblast.xml\n",
      "B1.csv\n",
      "phd1\n",
      "conglycinin.phy\n",
      "bioinfo/seqs/218744616.fasta\n",
      "spfile.txt\n",
      "bioinfo/seqs/513419.fasta\n",
      "bioinfo/seqs/513710.fasta\n",
      "prot.fas\n",
      "cas9align.fasta\n",
      "seqA.fas\n",
      "bioinfo/seqs/\n",
      "bioinfo/\n",
      "pdbaa\n",
      "other.xml\n",
      "vectorssmall.fasta\n",
      "t3.fasta\n",
      "a19.gp\n",
      "data.csv\n",
      "input4align.fasta\n",
      "B1IXL9.txt\n",
      "fasta22.fas\n",
      "bioinfo/seqs/7415878.fasta\n",
      "bioinfo/seqs/513718.fasta\n",
      "bioinfo/seqs/513719.fasta\n",
      "bioinfo/seqs/6598312.fasta\n",
      "UniVec_Core.nin\n",
      "Q5R5X8.fas\n",
      "bioinfo/seqs/513717.fasta\n",
      "BcrA.gp\n",
      "bioinfo/seqs/2623545.fasta\n",
      "bioinfo/seqs/63108399.fasta\n",
      "conglycinin.dnd\n",
      "NC2033.txt\n",
      "fishdata.csv\n",
      "uniprotrecord.xml\n",
      "BLAST_output.html\n",
      "Q9JJE1.xml\n",
      "test3.csv\n",
      "UniVec_Core.nhr\n",
      "sampledata.xlsx\n",
      "UniVec_Core\n",
      "NC_006581.gb\n",
      "conglycinin.multiple.phy\n",
      "conglycinin.fasta\n"
     ]
    }
   ],
   "source": [
    "!curl https://raw.githubusercontent.com/Serulab/Py4Bio/master/samples/samples.tar.bz2 -o samples.tar.bz2\n",
    "!mkdir samples\n",
    "!tar xvfj samples.tar.bz2 -C samples"
   ]
  },
  {
   "cell_type": "markdown",
   "metadata": {},
   "source": [
    "**Listing 19.1:** genbank1.py: Extract sequences from a Genbank file"
   ]
  },
  {
   "cell_type": "code",
   "execution_count": 2,
   "metadata": {
    "collapsed": true
   },
   "outputs": [],
   "source": [
    "from Bio import SeqIO, SeqRecord, Seq\n",
    "from Bio.Alphabet import IUPAC\n",
    "\n",
    "GB_FILE = 'samples/NC_006581.gb'\n",
    "OUT_FILE = 'nadh.fasta'\n",
    "with open(GB_FILE) as gb_fh:\n",
    "    record = SeqIO.read(gb_fh, 'genbank')\n",
    "seqs_for_fasta = []\n",
    "for feature in record.features:\n",
    "    # Each Genbank record may have several features, the program\n",
    "    # will walk over all of them.\n",
    "    qualifier = feature.qualifiers\n",
    "    # Each feature has several parameters\n",
    "    # Pick selected parameters.\n",
    "    if 'NADH' in qualifier.get('product',[''])[0] and \\\n",
    "    'product' in qualifier and 'translation' in qualifier:\n",
    "        id_ = qualifier['db_xref'][0][3:]\n",
    "        desc = qualifier['product'][0]\n",
    "        # nadh_sq is a NADH protein sequence\n",
    "        nadh_sq = Seq.Seq(qualifier['translation'][0], IUPAC.protein)\n",
    "        # 'srec' is a SeqRecord object from nadh_sq sequence.\n",
    "        srec = SeqRecord.SeqRecord(nadh_sq, id=id_, description=desc)\n",
    "        # Add this SeqRecord object into seqsforfasta list.\n",
    "        seqs_for_fasta.append(srec)\n",
    "with open(OUT_FILE, 'w') as outf:\n",
    "    # Write all the sequences as a FASTA file.\n",
    "    SeqIO.write(seqs_for_fasta, outf, 'fasta')"
   ]
  },
  {
   "cell_type": "markdown",
   "metadata": {},
   "source": [
    "**Listing 19.2:** genbank2.py: Extract upstream regions"
   ]
  },
  {
   "cell_type": "code",
   "execution_count": 3,
   "metadata": {
    "collapsed": true
   },
   "outputs": [],
   "source": [
    "from Bio import SeqIO\n",
    "from Bio.SeqRecord import SeqRecord\n",
    "\n",
    "GB_FILE = 'samples/NC_006581.gb'\n",
    "OUT_FILE = 'tg.fasta'\n",
    "with open(GB_FILE) as gb_fh:\n",
    "    record = SeqIO.read(gb_fh, 'genbank')\n",
    "seqs_for_fasta = []\n",
    "tg = (['cox2'],['atp6'],['atp9'],['cob'])\n",
    "for feature in record.features:\n",
    "    if feature.qualifiers.get('gene') in tg and feature.type=='gene':\n",
    "        # Get the name of the gene\n",
    "        genename = feature.qualifiers.get('gene')\n",
    "        # Get the start position\n",
    "        startpos = feature.location.start.position\n",
    "        # Get the required slice\n",
    "        newfrag = record.seq[startpos-1000: startpos]\n",
    "        # Build a SeqRecord object\n",
    "        newrec = SeqRecord(newfrag, genename[0] + ' 1000bp upstream',\n",
    "                           '','')\n",
    "        seqs_for_fasta.append(newrec)\n",
    "with open(OUT_FILE,'w') as outf:\n",
    "    # Write all the sequences as a FASTA file.\n",
    "    SeqIO.write(seqs_for_fasta, outf, 'fasta')"
   ]
  }
 ],
 "metadata": {
  "kernelspec": {
   "display_name": "Python 3.6",
   "language": "python",
   "name": "python36"
  },
  "language_info": {
   "codemirror_mode": {
    "name": "ipython",
    "version": 3
   },
   "file_extension": ".py",
   "mimetype": "text/x-python",
   "name": "python",
   "nbconvert_exporter": "python",
   "pygments_lexer": "ipython3",
   "version": "3.6.0"
  }
 },
 "nbformat": 4,
 "nbformat_minor": 2
}
