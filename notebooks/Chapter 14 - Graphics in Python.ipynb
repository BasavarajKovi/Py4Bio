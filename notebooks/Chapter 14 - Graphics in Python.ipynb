{
 "cells": [
  {
   "cell_type": "markdown",
   "metadata": {
    "collapsed": true
   },
   "source": [
    "Python for Bioinformatics\n",
    "-----------------------------\n",
    "\n",
    "![title](https://s3.amazonaws.com/py4bio/tapabiosmall.png)\n",
    "\n",
    "This Jupyter notebook is intented to be used alongside the book [Python for Bioinformatics](http://py3.us/)\n",
    "\n"
   ]
  },
  {
   "cell_type": "markdown",
   "metadata": {},
   "source": [
    "**Note:** Before opening the file, this file should be accesible from this Jupyter notebook. In order to do so, the following commands will download these files from Github and extract them into a directory called samples."
   ]
  },
  {
   "cell_type": "markdown",
   "metadata": {},
   "source": [
    "Chapter 14: Graphics in Python\n",
    "-----------------------------"
   ]
  },
  {
   "cell_type": "markdown",
   "metadata": {},
   "source": [
    "**USING BOKEH**"
   ]
  },
  {
   "cell_type": "code",
   "execution_count": 1,
   "metadata": {
    "collapsed": false
   },
   "outputs": [
    {
     "name": "stdout",
     "output_type": "stream",
     "text": [
      "  % Total    % Received % Xferd  Average Speed   Time    Time     Time  Current\n",
      "                                 Dload  Upload   Total   Spent    Left  Speed\n",
      "100 16.5M  100 16.5M    0     0  16.6M      0 --:--:-- --:--:-- --:--:-- 16.6M\n",
      "BLAST_output.xml\n",
      "TAIR7_Transcripts_by_map_position.gz\n",
      "pMOSBlue.txt\n",
      "fishbacteria.csv\n",
      "UniVec_Core.nsq\n",
      "t3beta.fasta\n",
      "PythonU.db\n",
      "input4align.dnd\n",
      "pdb1apk.ent.gz\n",
      "readme.txt\n",
      "contig1.ace\n",
      "example.aln\n",
      "hsc1.fasta\n",
      "bioinfo/seqs/15721870.fasta\n",
      "primers.txt\n",
      "bioinfo/seqs/4586830.fasta\n",
      "bioinfo/seqs/7638455.fasta\n",
      "GSM188012.CEL\n",
      "3seqs.fas\n",
      "sampleX.fas\n",
      "sampleXblast.xml\n",
      "B1.csv\n",
      "phd1\n",
      "conglycinin.phy\n",
      "bioinfo/seqs/218744616.fasta\n",
      "spfile.txt\n",
      "bioinfo/seqs/513419.fasta\n",
      "bioinfo/seqs/513710.fasta\n",
      "prot.fas\n",
      "cas9align.fasta\n",
      "seqA.fas\n",
      "bioinfo/seqs/\n",
      "bioinfo/\n",
      "pdbaa\n",
      "other.xml\n",
      "vectorssmall.fasta\n",
      "t3.fasta\n",
      "a19.gp\n",
      "data.csv\n",
      "input4align.fasta\n",
      "B1IXL9.txt\n",
      "fasta22.fas\n",
      "bioinfo/seqs/7415878.fasta\n",
      "bioinfo/seqs/513718.fasta\n",
      "bioinfo/seqs/513719.fasta\n",
      "bioinfo/seqs/6598312.fasta\n",
      "UniVec_Core.nin\n",
      "Q5R5X8.fas\n",
      "bioinfo/seqs/513717.fasta\n",
      "BcrA.gp\n",
      "bioinfo/seqs/2623545.fasta\n",
      "bioinfo/seqs/63108399.fasta\n",
      "conglycinin.dnd\n",
      "NC2033.txt\n",
      "fishdata.csv\n",
      "uniprotrecord.xml\n",
      "BLAST_output.html\n",
      "Q9JJE1.xml\n",
      "test3.csv\n",
      "UniVec_Core.nhr\n",
      "sampledata.xlsx\n",
      "UniVec_Core\n",
      "NC_006581.gb\n",
      "conglycinin.multiple.phy\n",
      "conglycinin.fasta\n"
     ]
    }
   ],
   "source": [
    "!curl https://raw.githubusercontent.com/Serulab/Py4Bio/master/samples/samples.tar.bz2 -o samples.tar.bz2\n",
    "!mkdir samples\n",
    "!tar xvfj samples.tar.bz2 -C samples"
   ]
  },
  {
   "cell_type": "markdown",
   "metadata": {},
   "source": [
    "**Listing 14.1:** basiccircle.py: A circle made with Bokeh"
   ]
  },
  {
   "cell_type": "code",
   "execution_count": 2,
   "metadata": {
    "collapsed": true
   },
   "outputs": [],
   "source": [
    "from bokeh.plotting import figure, output_file, show\n",
    "\n",
    "p = figure(width=400, height=400)\n",
    "p.circle(2, 3, radius=.5, alpha=0.5)\n",
    "output_file(\"out.html\")\n",
    "show(p)"
   ]
  },
  {
   "cell_type": "markdown",
   "metadata": {},
   "source": [
    "**Listing 14.2:** fourcircles.py: 4 circles made with Bokeh"
   ]
  },
  {
   "cell_type": "code",
   "execution_count": 3,
   "metadata": {
    "collapsed": true
   },
   "outputs": [],
   "source": [
    "from bokeh.plotting import figure, output_file, show\n",
    "\n",
    "p = figure(width=500, height=500)\n",
    "x = [1, 1, 2, 2]\n",
    "y = [1, 2, 1, 2]\n",
    "p.circle(x, y, radius=.35, alpha=0.5, color='red')\n",
    "output_file(\"out.html\")\n",
    "show(p)"
   ]
  },
  {
   "cell_type": "markdown",
   "metadata": {},
   "source": [
    "**Listing 14.3:** plot1.py: A minimal plot"
   ]
  },
  {
   "cell_type": "code",
   "execution_count": 4,
   "metadata": {
    "collapsed": true
   },
   "outputs": [],
   "source": [
    "from bokeh.plotting import figure, output_file, show\n",
    "\n",
    "x = [1, 2, 3, 4, 5, 6, 7, 8]\n",
    "y = [.7, 1.4, 2.1, 3, 3.85, 4.55, 5.8, 6.45]\n",
    "\n",
    "p = figure(title='Mean wt increased vs. time',\n",
    "           x_axis_label='Time in days',\n",
    "           y_axis_label='% Mean WT increased')\n",
    "p.circle(x, y, legend='Subject 1', size=10)\n",
    "output_file('test.html')\n",
    "show(p)"
   ]
  },
  {
   "cell_type": "markdown",
   "metadata": {},
   "source": [
    "**Listing 14.4:** plot2.py: Two data series plot"
   ]
  },
  {
   "cell_type": "code",
   "execution_count": 5,
   "metadata": {
    "collapsed": true
   },
   "outputs": [],
   "source": [
    "\n",
    "from bokeh.plotting import figure, output_file, show\n",
    "\n",
    "x = [1, 2, 3, 4, 5, 6, 7, 8]\n",
    "y = [.7, 1.4, 2.1, 3, 3.85, 4.55, 5.8, 6.45]\n",
    "z = [.5, 1.1, 1.9, 2.5, 3.1, 3.9, 4.85, 5.2]\n",
    "\n",
    "p = figure(title='Mean wt increased vs. time',\n",
    "           x_axis_label='Time in days',\n",
    "           y_axis_label='% Mean WT increased')\n",
    "p.circle(x, y, legend='Subject 1', size=10)\n",
    "p.circle(x, z, legend='Subject 2', size=10, line_color='red',\n",
    "         fill_color='white')\n",
    "p.legend.location = 'top_left'\n",
    "output_file('test.html')\n",
    "show(p)"
   ]
  },
  {
   "cell_type": "markdown",
   "metadata": {},
   "source": [
    "**Listing 14.5:** fishpc.py: Scatter plot"
   ]
  },
  {
   "cell_type": "code",
   "execution_count": 3,
   "metadata": {
    "collapsed": false
   },
   "outputs": [],
   "source": [
    "from bokeh.charts import Scatter, output_file, show\n",
    "from pandas import DataFrame\n",
    "\n",
    "df = DataFrame.from_csv('samples/fishdata.csv')\n",
    "\n",
    "scatter = Scatter(df, x='PC1', y='PC2', color='feeds',\n",
    "        marker='species', title=\n",
    "        'Metabolic variations based on 1H NMR profiling of fishes',\n",
    "        xlabel='Principal Component 1: 35.8%',\n",
    "        ylabel='Principal Component 2: 15.1%')\n",
    "scatter.legend.background_fill_alpha = 0.3\n",
    "output_file('scatter.html')\n",
    "show(scatter)"
   ]
  },
  {
   "cell_type": "markdown",
   "metadata": {},
   "source": [
    "**Listing 14.6:** heatmap.py: Plot a gene expression file"
   ]
  },
  {
   "cell_type": "code",
   "execution_count": 4,
   "metadata": {
    "collapsed": false
   },
   "outputs": [],
   "source": [
    "from bokeh.charts import HeatMap, bins, output_file, show\n",
    "import pandas as pd\n",
    "\n",
    "DATA_FILE = 'samples/GSM188012.CEL'\n",
    "dtype = {'x': int, 'y': int, 'lux': float}\n",
    "dataset = pd.read_csv(DATA_FILE, sep='\\t', dtype=dtype)\n",
    "hm = HeatMap(dataset, x=bins('x'), y=bins('y'), values='lux',\n",
    "             title='Expression', stat='mean')\n",
    "output_file(\"heatmap7.html\", title=\"heatmap.py example\")\n",
    "show(hm)"
   ]
  },
  {
   "cell_type": "markdown",
   "metadata": {},
   "source": [
    "**Listing 14.7:** chord.py: A Chord diagram"
   ]
  },
  {
   "cell_type": "code",
   "execution_count": 5,
   "metadata": {
    "collapsed": false
   },
   "outputs": [],
   "source": [
    "from bokeh.charts import output_file, Chord\n",
    "from bokeh.io import show\n",
    "import pandas as pd\n",
    "data = pd.read_csv('samples/test3.csv')\n",
    "chord_from_df = Chord(data, source='name_x', target='name_y',\n",
    "                      value='value')\n",
    "output_file('chord.html')\n",
    "show(chord_from_df)"
   ]
  }
 ],
 "metadata": {
  "kernelspec": {
   "display_name": "Python 3.6",
   "language": "python",
   "name": "python36"
  },
  "language_info": {
   "codemirror_mode": {
    "name": "ipython",
    "version": 3
   },
   "file_extension": ".py",
   "mimetype": "text/x-python",
   "name": "python",
   "nbconvert_exporter": "python",
   "pygments_lexer": "ipython3",
   "version": "3.6.0"
  }
 },
 "nbformat": 4,
 "nbformat_minor": 2
}
